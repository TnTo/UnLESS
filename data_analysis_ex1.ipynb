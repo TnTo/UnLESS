{
 "cells": [
  {
   "cell_type": "code",
   "execution_count": 1,
   "metadata": {},
   "outputs": [
    {
     "data": {
      "text/plain": [
       "['data/e1at.csv',\n",
       " 'data/e1bt.csv',\n",
       " 'data/e1ct.csv',\n",
       " 'data/e1dt.csv',\n",
       " 'data/e1et.csv',\n",
       " 'data/e1ft.csv',\n",
       " 'data/e1gt.csv',\n",
       " 'data/e1ht.csv',\n",
       " 'data/e1it.csv',\n",
       " 'data/e1jt.csv']"
      ]
     },
     "execution_count": 1,
     "metadata": {},
     "output_type": "execute_result"
    }
   ],
   "source": [
    "letters = ['a','b','c','d','e','f','g','h','i','j']\n",
    "data_path_1 = ['data/e1' + l + 't.csv' for l in letters]\n",
    "data_path_1"
   ]
  },
  {
   "cell_type": "code",
   "execution_count": 2,
   "metadata": {},
   "outputs": [
    {
     "name": "stderr",
     "output_type": "stream",
     "text": [
      "Using TensorFlow backend.\n",
      "WARNING: Logging before flag parsing goes to stderr.\n",
      "W0717 12:14:12.497567 140422930822784 __init__.py:308] Limited tf.compat.v2.summary API due to missing TensorBoard installation.\n"
     ]
    },
    {
     "name": "stdout",
     "output_type": "stream",
     "text": [
      "Populating the interactive namespace from numpy and matplotlib\n"
     ]
    }
   ],
   "source": [
    "import neural_network as nn\n",
    "import pandas as pd\n",
    "import matplotlib.pyplot as plt\n",
    "%pylab inline"
   ]
  },
  {
   "cell_type": "code",
   "execution_count": 3,
   "metadata": {},
   "outputs": [],
   "source": [
    "dfs = [nn.load_nl_data({'data_path':path}) for path in data_path_1]"
   ]
  },
  {
   "cell_type": "code",
   "execution_count": 4,
   "metadata": {},
   "outputs": [],
   "source": [
    "dfs = [df[df['time'] >= 489] for df in dfs]"
   ]
  },
  {
   "cell_type": "code",
   "execution_count": 5,
   "metadata": {},
   "outputs": [],
   "source": [
    "dfs = [df.drop(columns=['old_pos', 'electors_state', 'votes_state', 'next_move', 'previous_votes', 'seats', 'previous_seats']) for df in dfs]"
   ]
  },
  {
   "cell_type": "code",
   "execution_count": 6,
   "metadata": {},
   "outputs": [],
   "source": [
    "dfs = [pd.concat([df, pd.DataFrame(df['pos'].values.tolist(), columns = ['pos_x', 'pos_y'], index=df.index)], axis = 1) for df in dfs]"
   ]
  },
  {
   "cell_type": "code",
   "execution_count": 7,
   "metadata": {},
   "outputs": [],
   "source": [
    "for i in range(len(letters)):\n",
    "    dfs[i]['run'] = i"
   ]
  },
  {
   "cell_type": "code",
   "execution_count": 8,
   "metadata": {},
   "outputs": [],
   "source": [
    "df = pd.concat(dfs)"
   ]
  },
  {
   "cell_type": "code",
   "execution_count": 9,
   "metadata": {},
   "outputs": [
    {
     "data": {
      "text/html": [
       "<div>\n",
       "<style scoped>\n",
       "    .dataframe tbody tr th:only-of-type {\n",
       "        vertical-align: middle;\n",
       "    }\n",
       "\n",
       "    .dataframe tbody tr th {\n",
       "        vertical-align: top;\n",
       "    }\n",
       "\n",
       "    .dataframe thead th {\n",
       "        text-align: right;\n",
       "    }\n",
       "</style>\n",
       "<table border=\"1\" class=\"dataframe\">\n",
       "  <thead>\n",
       "    <tr style=\"text-align: right;\">\n",
       "      <th></th>\n",
       "      <th>time</th>\n",
       "      <th>agent</th>\n",
       "      <th>votes</th>\n",
       "      <th>pos_x</th>\n",
       "      <th>pos_y</th>\n",
       "      <th>run</th>\n",
       "    </tr>\n",
       "  </thead>\n",
       "  <tbody>\n",
       "    <tr>\n",
       "      <th>count</th>\n",
       "      <td>1100.000000</td>\n",
       "      <td>1100.000000</td>\n",
       "      <td>1100.000000</td>\n",
       "      <td>1100.000000</td>\n",
       "      <td>1100.000000</td>\n",
       "      <td>1100.000000</td>\n",
       "    </tr>\n",
       "    <tr>\n",
       "      <th>mean</th>\n",
       "      <td>494.000000</td>\n",
       "      <td>1025.500000</td>\n",
       "      <td>317.875455</td>\n",
       "      <td>-0.987184</td>\n",
       "      <td>1.057719</td>\n",
       "      <td>4.500000</td>\n",
       "    </tr>\n",
       "    <tr>\n",
       "      <th>std</th>\n",
       "      <td>3.163716</td>\n",
       "      <td>2.873588</td>\n",
       "      <td>26.292364</td>\n",
       "      <td>1.360517</td>\n",
       "      <td>4.384840</td>\n",
       "      <td>2.873588</td>\n",
       "    </tr>\n",
       "    <tr>\n",
       "      <th>min</th>\n",
       "      <td>489.000000</td>\n",
       "      <td>1021.000000</td>\n",
       "      <td>217.000000</td>\n",
       "      <td>-3.671922</td>\n",
       "      <td>-10.399831</td>\n",
       "      <td>0.000000</td>\n",
       "    </tr>\n",
       "    <tr>\n",
       "      <th>25%</th>\n",
       "      <td>491.000000</td>\n",
       "      <td>1023.000000</td>\n",
       "      <td>309.000000</td>\n",
       "      <td>-2.001197</td>\n",
       "      <td>-2.945902</td>\n",
       "      <td>2.000000</td>\n",
       "    </tr>\n",
       "    <tr>\n",
       "      <th>50%</th>\n",
       "      <td>494.000000</td>\n",
       "      <td>1025.500000</td>\n",
       "      <td>324.000000</td>\n",
       "      <td>-0.854127</td>\n",
       "      <td>2.101376</td>\n",
       "      <td>4.500000</td>\n",
       "    </tr>\n",
       "    <tr>\n",
       "      <th>75%</th>\n",
       "      <td>497.000000</td>\n",
       "      <td>1028.000000</td>\n",
       "      <td>334.000000</td>\n",
       "      <td>-0.385100</td>\n",
       "      <td>4.440331</td>\n",
       "      <td>7.000000</td>\n",
       "    </tr>\n",
       "    <tr>\n",
       "      <th>max</th>\n",
       "      <td>499.000000</td>\n",
       "      <td>1030.000000</td>\n",
       "      <td>364.000000</td>\n",
       "      <td>2.371303</td>\n",
       "      <td>9.286291</td>\n",
       "      <td>9.000000</td>\n",
       "    </tr>\n",
       "  </tbody>\n",
       "</table>\n",
       "</div>"
      ],
      "text/plain": [
       "              time        agent        votes        pos_x        pos_y  \\\n",
       "count  1100.000000  1100.000000  1100.000000  1100.000000  1100.000000   \n",
       "mean    494.000000  1025.500000   317.875455    -0.987184     1.057719   \n",
       "std       3.163716     2.873588    26.292364     1.360517     4.384840   \n",
       "min     489.000000  1021.000000   217.000000    -3.671922   -10.399831   \n",
       "25%     491.000000  1023.000000   309.000000    -2.001197    -2.945902   \n",
       "50%     494.000000  1025.500000   324.000000    -0.854127     2.101376   \n",
       "75%     497.000000  1028.000000   334.000000    -0.385100     4.440331   \n",
       "max     499.000000  1030.000000   364.000000     2.371303     9.286291   \n",
       "\n",
       "               run  \n",
       "count  1100.000000  \n",
       "mean      4.500000  \n",
       "std       2.873588  \n",
       "min       0.000000  \n",
       "25%       2.000000  \n",
       "50%       4.500000  \n",
       "75%       7.000000  \n",
       "max       9.000000  "
      ]
     },
     "execution_count": 9,
     "metadata": {},
     "output_type": "execute_result"
    }
   ],
   "source": [
    "df.describe()"
   ]
  },
  {
   "cell_type": "code",
   "execution_count": 10,
   "metadata": {},
   "outputs": [
    {
     "data": {
      "text/html": [
       "<div>\n",
       "<style scoped>\n",
       "    .dataframe tbody tr th:only-of-type {\n",
       "        vertical-align: middle;\n",
       "    }\n",
       "\n",
       "    .dataframe tbody tr th {\n",
       "        vertical-align: top;\n",
       "    }\n",
       "\n",
       "    .dataframe thead th {\n",
       "        text-align: right;\n",
       "    }\n",
       "</style>\n",
       "<table border=\"1\" class=\"dataframe\">\n",
       "  <thead>\n",
       "    <tr style=\"text-align: right;\">\n",
       "      <th></th>\n",
       "      <th>time</th>\n",
       "      <th>agent</th>\n",
       "      <th>votes</th>\n",
       "      <th>pos_x</th>\n",
       "      <th>pos_y</th>\n",
       "      <th>run</th>\n",
       "    </tr>\n",
       "  </thead>\n",
       "  <tbody>\n",
       "    <tr>\n",
       "      <th>count</th>\n",
       "      <td>100.0</td>\n",
       "      <td>100.000000</td>\n",
       "      <td>100.000000</td>\n",
       "      <td>100.000000</td>\n",
       "      <td>100.000000</td>\n",
       "      <td>100.000000</td>\n",
       "    </tr>\n",
       "    <tr>\n",
       "      <th>mean</th>\n",
       "      <td>499.0</td>\n",
       "      <td>1025.500000</td>\n",
       "      <td>317.890000</td>\n",
       "      <td>-0.994002</td>\n",
       "      <td>1.055446</td>\n",
       "      <td>4.500000</td>\n",
       "    </tr>\n",
       "    <tr>\n",
       "      <th>std</th>\n",
       "      <td>0.0</td>\n",
       "      <td>2.886751</td>\n",
       "      <td>27.506802</td>\n",
       "      <td>1.367596</td>\n",
       "      <td>4.389347</td>\n",
       "      <td>2.886751</td>\n",
       "    </tr>\n",
       "    <tr>\n",
       "      <th>min</th>\n",
       "      <td>499.0</td>\n",
       "      <td>1021.000000</td>\n",
       "      <td>220.000000</td>\n",
       "      <td>-3.671922</td>\n",
       "      <td>-10.399831</td>\n",
       "      <td>0.000000</td>\n",
       "    </tr>\n",
       "    <tr>\n",
       "      <th>25%</th>\n",
       "      <td>499.0</td>\n",
       "      <td>1023.000000</td>\n",
       "      <td>308.750000</td>\n",
       "      <td>-2.001197</td>\n",
       "      <td>-2.891976</td>\n",
       "      <td>2.000000</td>\n",
       "    </tr>\n",
       "    <tr>\n",
       "      <th>50%</th>\n",
       "      <td>499.0</td>\n",
       "      <td>1025.500000</td>\n",
       "      <td>324.500000</td>\n",
       "      <td>-0.891120</td>\n",
       "      <td>2.090128</td>\n",
       "      <td>4.500000</td>\n",
       "    </tr>\n",
       "    <tr>\n",
       "      <th>75%</th>\n",
       "      <td>499.0</td>\n",
       "      <td>1028.000000</td>\n",
       "      <td>335.000000</td>\n",
       "      <td>-0.385100</td>\n",
       "      <td>4.368745</td>\n",
       "      <td>7.000000</td>\n",
       "    </tr>\n",
       "    <tr>\n",
       "      <th>max</th>\n",
       "      <td>499.0</td>\n",
       "      <td>1030.000000</td>\n",
       "      <td>360.000000</td>\n",
       "      <td>2.371303</td>\n",
       "      <td>9.286291</td>\n",
       "      <td>9.000000</td>\n",
       "    </tr>\n",
       "  </tbody>\n",
       "</table>\n",
       "</div>"
      ],
      "text/plain": [
       "        time        agent       votes       pos_x       pos_y         run\n",
       "count  100.0   100.000000  100.000000  100.000000  100.000000  100.000000\n",
       "mean   499.0  1025.500000  317.890000   -0.994002    1.055446    4.500000\n",
       "std      0.0     2.886751   27.506802    1.367596    4.389347    2.886751\n",
       "min    499.0  1021.000000  220.000000   -3.671922  -10.399831    0.000000\n",
       "25%    499.0  1023.000000  308.750000   -2.001197   -2.891976    2.000000\n",
       "50%    499.0  1025.500000  324.500000   -0.891120    2.090128    4.500000\n",
       "75%    499.0  1028.000000  335.000000   -0.385100    4.368745    7.000000\n",
       "max    499.0  1030.000000  360.000000    2.371303    9.286291    9.000000"
      ]
     },
     "execution_count": 10,
     "metadata": {},
     "output_type": "execute_result"
    }
   ],
   "source": [
    "df[df['time'] == 499].describe()"
   ]
  },
  {
   "cell_type": "code",
   "execution_count": 11,
   "metadata": {},
   "outputs": [],
   "source": [
    "df = df[df['time'] == 499]"
   ]
  },
  {
   "cell_type": "code",
   "execution_count": 12,
   "metadata": {},
   "outputs": [],
   "source": [
    "df = df.drop(columns=['time','pos', 'agent'])"
   ]
  },
  {
   "cell_type": "code",
   "execution_count": 13,
   "metadata": {},
   "outputs": [
    {
     "data": {
      "text/html": [
       "<div>\n",
       "<style scoped>\n",
       "    .dataframe tbody tr th:only-of-type {\n",
       "        vertical-align: middle;\n",
       "    }\n",
       "\n",
       "    .dataframe tbody tr th {\n",
       "        vertical-align: top;\n",
       "    }\n",
       "\n",
       "    .dataframe thead th {\n",
       "        text-align: right;\n",
       "    }\n",
       "</style>\n",
       "<table border=\"1\" class=\"dataframe\">\n",
       "  <thead>\n",
       "    <tr style=\"text-align: right;\">\n",
       "      <th></th>\n",
       "      <th>votes</th>\n",
       "      <th>pos_x</th>\n",
       "      <th>pos_y</th>\n",
       "      <th>run</th>\n",
       "      <th>abs_x</th>\n",
       "      <th>abs_y</th>\n",
       "    </tr>\n",
       "  </thead>\n",
       "  <tbody>\n",
       "    <tr>\n",
       "      <th>count</th>\n",
       "      <td>100.000000</td>\n",
       "      <td>100.000000</td>\n",
       "      <td>100.000000</td>\n",
       "      <td>100.000000</td>\n",
       "      <td>100.000000</td>\n",
       "      <td>100.000000</td>\n",
       "    </tr>\n",
       "    <tr>\n",
       "      <th>mean</th>\n",
       "      <td>317.890000</td>\n",
       "      <td>-0.994002</td>\n",
       "      <td>1.055446</td>\n",
       "      <td>4.500000</td>\n",
       "      <td>1.421010</td>\n",
       "      <td>3.881730</td>\n",
       "    </tr>\n",
       "    <tr>\n",
       "      <th>std</th>\n",
       "      <td>27.506802</td>\n",
       "      <td>1.367596</td>\n",
       "      <td>4.389347</td>\n",
       "      <td>2.886751</td>\n",
       "      <td>0.910315</td>\n",
       "      <td>2.274105</td>\n",
       "    </tr>\n",
       "    <tr>\n",
       "      <th>min</th>\n",
       "      <td>220.000000</td>\n",
       "      <td>-3.671922</td>\n",
       "      <td>-10.399831</td>\n",
       "      <td>0.000000</td>\n",
       "      <td>0.002045</td>\n",
       "      <td>0.133966</td>\n",
       "    </tr>\n",
       "    <tr>\n",
       "      <th>25%</th>\n",
       "      <td>308.750000</td>\n",
       "      <td>-2.001197</td>\n",
       "      <td>-2.891976</td>\n",
       "      <td>2.000000</td>\n",
       "      <td>0.627058</td>\n",
       "      <td>2.650805</td>\n",
       "    </tr>\n",
       "    <tr>\n",
       "      <th>50%</th>\n",
       "      <td>324.500000</td>\n",
       "      <td>-0.891120</td>\n",
       "      <td>2.090128</td>\n",
       "      <td>4.500000</td>\n",
       "      <td>1.331183</td>\n",
       "      <td>3.440363</td>\n",
       "    </tr>\n",
       "    <tr>\n",
       "      <th>75%</th>\n",
       "      <td>335.000000</td>\n",
       "      <td>-0.385100</td>\n",
       "      <td>4.368745</td>\n",
       "      <td>7.000000</td>\n",
       "      <td>2.013352</td>\n",
       "      <td>4.954681</td>\n",
       "    </tr>\n",
       "    <tr>\n",
       "      <th>max</th>\n",
       "      <td>360.000000</td>\n",
       "      <td>2.371303</td>\n",
       "      <td>9.286291</td>\n",
       "      <td>9.000000</td>\n",
       "      <td>3.671922</td>\n",
       "      <td>10.399831</td>\n",
       "    </tr>\n",
       "  </tbody>\n",
       "</table>\n",
       "</div>"
      ],
      "text/plain": [
       "            votes       pos_x       pos_y         run       abs_x       abs_y\n",
       "count  100.000000  100.000000  100.000000  100.000000  100.000000  100.000000\n",
       "mean   317.890000   -0.994002    1.055446    4.500000    1.421010    3.881730\n",
       "std     27.506802    1.367596    4.389347    2.886751    0.910315    2.274105\n",
       "min    220.000000   -3.671922  -10.399831    0.000000    0.002045    0.133966\n",
       "25%    308.750000   -2.001197   -2.891976    2.000000    0.627058    2.650805\n",
       "50%    324.500000   -0.891120    2.090128    4.500000    1.331183    3.440363\n",
       "75%    335.000000   -0.385100    4.368745    7.000000    2.013352    4.954681\n",
       "max    360.000000    2.371303    9.286291    9.000000    3.671922   10.399831"
      ]
     },
     "execution_count": 13,
     "metadata": {},
     "output_type": "execute_result"
    }
   ],
   "source": [
    "df['abs_x'] = abs(df['pos_x'])\n",
    "df['abs_y'] = abs(df['pos_y'])\n",
    "df.describe()"
   ]
  },
  {
   "cell_type": "code",
   "execution_count": 14,
   "metadata": {},
   "outputs": [
    {
     "data": {
      "image/png": "[encoded data removed]",
      "text/plain": [
       "<Figure size 360x1440 with 6 Axes>"
      ]
     },
     "metadata": {
      "needs_background": "light"
     },
     "output_type": "display_data"
    }
   ],
   "source": [
    "hist_1 = df.hist(layout=(6,1), figsize=(5,20))"
   ]
  },
  {
   "cell_type": "code",
   "execution_count": 15,
   "metadata": {},
   "outputs": [
    {
     "data": {
      "text/plain": [
       "<matplotlib.axes._subplots.AxesSubplot at 0x7fb684fc33c8>"
      ]
     },
     "execution_count": 15,
     "metadata": {},
     "output_type": "execute_result"
    },
    {
     "data": {
      "image/png": "[encoded data removed]",
      "text/plain": [
       "<Figure size 432x288 with 1 Axes>"
      ]
     },
     "metadata": {
      "needs_background": "light"
     },
     "output_type": "display_data"
    }
   ],
   "source": [
    "df.boxplot(column=['votes'], whis=1)"
   ]
  },
  {
   "cell_type": "code",
   "execution_count": 16,
   "metadata": {},
   "outputs": [
    {
     "data": {
      "text/plain": [
       "<matplotlib.axes._subplots.AxesSubplot at 0x7fb6847db6d8>"
      ]
     },
     "execution_count": 16,
     "metadata": {},
     "output_type": "execute_result"
    },
    {
     "data": {
      "image/png": "[encoded data removed]",
      "text/plain": [
       "<Figure size 432x288 with 1 Axes>"
      ]
     },
     "metadata": {
      "needs_background": "light"
     },
     "output_type": "display_data"
    }
   ],
   "source": [
    "df.boxplot(column=['votes'], whis=1, by='run')"
   ]
  },
  {
   "cell_type": "code",
   "execution_count": 17,
   "metadata": {},
   "outputs": [
    {
     "data": {
      "text/plain": [
       "<matplotlib.axes._subplots.AxesSubplot at 0x7fb685180dd8>"
      ]
     },
     "execution_count": 17,
     "metadata": {},
     "output_type": "execute_result"
    },
    {
     "data": {
      "image/png": "[encoded data removed]",
      "text/plain": [
       "<Figure size 432x288 with 1 Axes>"
      ]
     },
     "metadata": {
      "needs_background": "light"
     },
     "output_type": "display_data"
    }
   ],
   "source": [
    "df.boxplot(column=['pos_x','pos_y', 'abs_x','abs_y'], whis=1)"
   ]
  },
  {
   "cell_type": "code",
   "execution_count": 18,
   "metadata": {},
   "outputs": [
    {
     "data": {
      "text/plain": [
       "<matplotlib.axes._subplots.AxesSubplot at 0x7fb684b68710>"
      ]
     },
     "execution_count": 18,
     "metadata": {},
     "output_type": "execute_result"
    },
    {
     "data": {
      "image/png": "[encoded data removed]",
      "text/plain": [
       "<Figure size 432x288 with 2 Axes>"
      ]
     },
     "metadata": {
      "needs_background": "light"
     },
     "output_type": "display_data"
    }
   ],
   "source": [
    "df.plot.scatter(x='abs_y', y='votes', c='run', colormap='viridis', sharex=False)"
   ]
  },
  {
   "cell_type": "code",
   "execution_count": 19,
   "metadata": {},
   "outputs": [
    {
     "data": {
      "text/plain": [
       "<matplotlib.axes._subplots.AxesSubplot at 0x7fb684d32eb8>"
      ]
     },
     "execution_count": 19,
     "metadata": {},
     "output_type": "execute_result"
    },
    {
     "data": {
      "image/png": "[encoded data removed]",
      "text/plain": [
       "<Figure size 432x288 with 2 Axes>"
      ]
     },
     "metadata": {
      "needs_background": "light"
     },
     "output_type": "display_data"
    }
   ],
   "source": [
    "df.plot.scatter(x='pos_x', y='pos_y', c='run', colormap='viridis')"
   ]
  },
  {
   "cell_type": "code",
   "execution_count": 20,
   "metadata": {},
   "outputs": [],
   "source": [
    "import statsmodels.api as sm\n",
    "from statsmodels.formula.api import ols"
   ]
  },
  {
   "cell_type": "code",
   "execution_count": 21,
   "metadata": {},
   "outputs": [
    {
     "data": {
      "text/html": [
       "<table class=\"simpletable\">\n",
       "<caption>OLS Regression Results</caption>\n",
       "<tr>\n",
       "  <th>Dep. Variable:</th>          <td>votes</td>      <th>  R-squared:         </th> <td>   0.318</td>\n",
       "</tr>\n",
       "<tr>\n",
       "  <th>Model:</th>                   <td>OLS</td>       <th>  Adj. R-squared:    </th> <td>   0.250</td>\n",
       "</tr>\n",
       "<tr>\n",
       "  <th>Method:</th>             <td>Least Squares</td>  <th>  F-statistic:       </th> <td>   4.671</td>\n",
       "</tr>\n",
       "<tr>\n",
       "  <th>Date:</th>             <td>Wed, 17 Jul 2019</td> <th>  Prob (F-statistic):</th> <td>4.33e-05</td>\n",
       "</tr>\n",
       "<tr>\n",
       "  <th>Time:</th>                 <td>12:14:52</td>     <th>  Log-Likelihood:    </th> <td> -453.67</td>\n",
       "</tr>\n",
       "<tr>\n",
       "  <th>No. Observations:</th>      <td>   100</td>      <th>  AIC:               </th> <td>   927.3</td>\n",
       "</tr>\n",
       "<tr>\n",
       "  <th>Df Residuals:</th>          <td>    90</td>      <th>  BIC:               </th> <td>   953.4</td>\n",
       "</tr>\n",
       "<tr>\n",
       "  <th>Df Model:</th>              <td>     9</td>      <th>                     </th>     <td> </td>   \n",
       "</tr>\n",
       "<tr>\n",
       "  <th>Covariance Type:</th>      <td>nonrobust</td>    <th>                     </th>     <td> </td>   \n",
       "</tr>\n",
       "</table>\n",
       "<table class=\"simpletable\">\n",
       "<tr>\n",
       "       <td></td>          <th>coef</th>     <th>std err</th>      <th>t</th>      <th>P>|t|</th>  <th>[0.025</th>    <th>0.975]</th>  \n",
       "</tr>\n",
       "<tr>\n",
       "  <th>Intercept</th>   <td>  315.7000</td> <td>    7.532</td> <td>   41.915</td> <td> 0.000</td> <td>  300.737</td> <td>  330.663</td>\n",
       "</tr>\n",
       "<tr>\n",
       "  <th>C(run)[T.1]</th> <td>   18.7000</td> <td>   10.652</td> <td>    1.756</td> <td> 0.083</td> <td>   -2.461</td> <td>   39.861</td>\n",
       "</tr>\n",
       "<tr>\n",
       "  <th>C(run)[T.2]</th> <td>    8.1000</td> <td>   10.652</td> <td>    0.760</td> <td> 0.449</td> <td>  -13.061</td> <td>   29.261</td>\n",
       "</tr>\n",
       "<tr>\n",
       "  <th>C(run)[T.3]</th> <td>  -14.3000</td> <td>   10.652</td> <td>   -1.343</td> <td> 0.183</td> <td>  -35.461</td> <td>    6.861</td>\n",
       "</tr>\n",
       "<tr>\n",
       "  <th>C(run)[T.4]</th> <td>   14.1000</td> <td>   10.652</td> <td>    1.324</td> <td> 0.189</td> <td>   -7.061</td> <td>   35.261</td>\n",
       "</tr>\n",
       "<tr>\n",
       "  <th>C(run)[T.5]</th> <td>  -24.6000</td> <td>   10.652</td> <td>   -2.310</td> <td> 0.023</td> <td>  -45.761</td> <td>   -3.439</td>\n",
       "</tr>\n",
       "<tr>\n",
       "  <th>C(run)[T.6]</th> <td>   13.5000</td> <td>   10.652</td> <td>    1.267</td> <td> 0.208</td> <td>   -7.661</td> <td>   34.661</td>\n",
       "</tr>\n",
       "<tr>\n",
       "  <th>C(run)[T.7]</th> <td>   15.1000</td> <td>   10.652</td> <td>    1.418</td> <td> 0.160</td> <td>   -6.061</td> <td>   36.261</td>\n",
       "</tr>\n",
       "<tr>\n",
       "  <th>C(run)[T.8]</th> <td>   12.4000</td> <td>   10.652</td> <td>    1.164</td> <td> 0.247</td> <td>   -8.761</td> <td>   33.561</td>\n",
       "</tr>\n",
       "<tr>\n",
       "  <th>C(run)[T.9]</th> <td>  -21.1000</td> <td>   10.652</td> <td>   -1.981</td> <td> 0.051</td> <td>  -42.261</td> <td>    0.061</td>\n",
       "</tr>\n",
       "</table>\n",
       "<table class=\"simpletable\">\n",
       "<tr>\n",
       "  <th>Omnibus:</th>       <td>23.282</td> <th>  Durbin-Watson:     </th> <td>   2.311</td>\n",
       "</tr>\n",
       "<tr>\n",
       "  <th>Prob(Omnibus):</th> <td> 0.000</td> <th>  Jarque-Bera (JB):  </th> <td>  35.520</td>\n",
       "</tr>\n",
       "<tr>\n",
       "  <th>Skew:</th>          <td>-1.043</td> <th>  Prob(JB):          </th> <td>1.94e-08</td>\n",
       "</tr>\n",
       "<tr>\n",
       "  <th>Kurtosis:</th>      <td> 5.042</td> <th>  Cond. No.          </th> <td>    10.9</td>\n",
       "</tr>\n",
       "</table><br/><br/>Warnings:<br/>[1] Standard Errors assume that the covariance matrix of the errors is correctly specified."
      ],
      "text/plain": [
       "<class 'statsmodels.iolib.summary.Summary'>\n",
       "\"\"\"\n",
       "                            OLS Regression Results                            \n",
       "==============================================================================\n",
       "Dep. Variable:                  votes   R-squared:                       0.318\n",
       "Model:                            OLS   Adj. R-squared:                  0.250\n",
       "Method:                 Least Squares   F-statistic:                     4.671\n",
       "Date:                Wed, 17 Jul 2019   Prob (F-statistic):           4.33e-05\n",
       "Time:                        12:14:52   Log-Likelihood:                -453.67\n",
       "No. Observations:                 100   AIC:                             927.3\n",
       "Df Residuals:                      90   BIC:                             953.4\n",
       "Df Model:                           9                                         \n",
       "Covariance Type:            nonrobust                                         \n",
       "===============================================================================\n",
       "                  coef    std err          t      P>|t|      [0.025      0.975]\n",
       "-------------------------------------------------------------------------------\n",
       "Intercept     315.7000      7.532     41.915      0.000     300.737     330.663\n",
       "C(run)[T.1]    18.7000     10.652      1.756      0.083      -2.461      39.861\n",
       "C(run)[T.2]     8.1000     10.652      0.760      0.449     -13.061      29.261\n",
       "C(run)[T.3]   -14.3000     10.652     -1.343      0.183     -35.461       6.861\n",
       "C(run)[T.4]    14.1000     10.652      1.324      0.189      -7.061      35.261\n",
       "C(run)[T.5]   -24.6000     10.652     -2.310      0.023     -45.761      -3.439\n",
       "C(run)[T.6]    13.5000     10.652      1.267      0.208      -7.661      34.661\n",
       "C(run)[T.7]    15.1000     10.652      1.418      0.160      -6.061      36.261\n",
       "C(run)[T.8]    12.4000     10.652      1.164      0.247      -8.761      33.561\n",
       "C(run)[T.9]   -21.1000     10.652     -1.981      0.051     -42.261       0.061\n",
       "==============================================================================\n",
       "Omnibus:                       23.282   Durbin-Watson:                   2.311\n",
       "Prob(Omnibus):                  0.000   Jarque-Bera (JB):               35.520\n",
       "Skew:                          -1.043   Prob(JB):                     1.94e-08\n",
       "Kurtosis:                       5.042   Cond. No.                         10.9\n",
       "==============================================================================\n",
       "\n",
       "Warnings:\n",
       "[1] Standard Errors assume that the covariance matrix of the errors is correctly specified.\n",
       "\"\"\""
      ]
     },
     "execution_count": 21,
     "metadata": {},
     "output_type": "execute_result"
    }
   ],
   "source": [
    "linreg = ols('votes ~ C(run)', data=df).fit()\n",
    "linreg.summary()"
   ]
  },
  {
   "cell_type": "code",
   "execution_count": 22,
   "metadata": {},
   "outputs": [
    {
     "data": {
      "text/html": [
       "<div>\n",
       "<style scoped>\n",
       "    .dataframe tbody tr th:only-of-type {\n",
       "        vertical-align: middle;\n",
       "    }\n",
       "\n",
       "    .dataframe tbody tr th {\n",
       "        vertical-align: top;\n",
       "    }\n",
       "\n",
       "    .dataframe thead th {\n",
       "        text-align: right;\n",
       "    }\n",
       "</style>\n",
       "<table border=\"1\" class=\"dataframe\">\n",
       "  <thead>\n",
       "    <tr style=\"text-align: right;\">\n",
       "      <th></th>\n",
       "      <th>df</th>\n",
       "      <th>sum_sq</th>\n",
       "      <th>mean_sq</th>\n",
       "      <th>F</th>\n",
       "      <th>PR(&gt;F)</th>\n",
       "    </tr>\n",
       "  </thead>\n",
       "  <tbody>\n",
       "    <tr>\n",
       "      <th>C(run)</th>\n",
       "      <td>9.0</td>\n",
       "      <td>23850.29</td>\n",
       "      <td>2650.032222</td>\n",
       "      <td>4.671444</td>\n",
       "      <td>0.000043</td>\n",
       "    </tr>\n",
       "    <tr>\n",
       "      <th>Residual</th>\n",
       "      <td>90.0</td>\n",
       "      <td>51055.50</td>\n",
       "      <td>567.283333</td>\n",
       "      <td>NaN</td>\n",
       "      <td>NaN</td>\n",
       "    </tr>\n",
       "  </tbody>\n",
       "</table>\n",
       "</div>"
      ],
      "text/plain": [
       "            df    sum_sq      mean_sq         F    PR(>F)\n",
       "C(run)     9.0  23850.29  2650.032222  4.671444  0.000043\n",
       "Residual  90.0  51055.50   567.283333       NaN       NaN"
      ]
     },
     "execution_count": 22,
     "metadata": {},
     "output_type": "execute_result"
    }
   ],
   "source": [
    "aov_table = sm.stats.anova_lm(linreg)\n",
    "aov_table"
   ]
  },
  {
   "cell_type": "code",
   "execution_count": 23,
   "metadata": {},
   "outputs": [
    {
     "data": {
      "text/html": [
       "<table class=\"simpletable\">\n",
       "<caption>OLS Regression Results</caption>\n",
       "<tr>\n",
       "  <th>Dep. Variable:</th>          <td>abs_x</td>      <th>  R-squared:         </th> <td>   0.746</td>\n",
       "</tr>\n",
       "<tr>\n",
       "  <th>Model:</th>                   <td>OLS</td>       <th>  Adj. R-squared:    </th> <td>   0.721</td>\n",
       "</tr>\n",
       "<tr>\n",
       "  <th>Method:</th>             <td>Least Squares</td>  <th>  F-statistic:       </th> <td>   29.38</td>\n",
       "</tr>\n",
       "<tr>\n",
       "  <th>Date:</th>             <td>Wed, 17 Jul 2019</td> <th>  Prob (F-statistic):</th> <td>3.75e-23</td>\n",
       "</tr>\n",
       "<tr>\n",
       "  <th>Time:</th>                 <td>12:14:54</td>     <th>  Log-Likelihood:    </th> <td> -63.463</td>\n",
       "</tr>\n",
       "<tr>\n",
       "  <th>No. Observations:</th>      <td>   100</td>      <th>  AIC:               </th> <td>   146.9</td>\n",
       "</tr>\n",
       "<tr>\n",
       "  <th>Df Residuals:</th>          <td>    90</td>      <th>  BIC:               </th> <td>   173.0</td>\n",
       "</tr>\n",
       "<tr>\n",
       "  <th>Df Model:</th>              <td>     9</td>      <th>                     </th>     <td> </td>   \n",
       "</tr>\n",
       "<tr>\n",
       "  <th>Covariance Type:</th>      <td>nonrobust</td>    <th>                     </th>     <td> </td>   \n",
       "</tr>\n",
       "</table>\n",
       "<table class=\"simpletable\">\n",
       "<tr>\n",
       "       <td></td>          <th>coef</th>     <th>std err</th>      <th>t</th>      <th>P>|t|</th>  <th>[0.025</th>    <th>0.975]</th>  \n",
       "</tr>\n",
       "<tr>\n",
       "  <th>Intercept</th>   <td>    1.7308</td> <td>    0.152</td> <td>   11.376</td> <td> 0.000</td> <td>    1.428</td> <td>    2.033</td>\n",
       "</tr>\n",
       "<tr>\n",
       "  <th>C(run)[T.1]</th> <td>    0.0804</td> <td>    0.215</td> <td>    0.374</td> <td> 0.709</td> <td>   -0.347</td> <td>    0.508</td>\n",
       "</tr>\n",
       "<tr>\n",
       "  <th>C(run)[T.2]</th> <td>   -1.0235</td> <td>    0.215</td> <td>   -4.757</td> <td> 0.000</td> <td>   -1.451</td> <td>   -0.596</td>\n",
       "</tr>\n",
       "<tr>\n",
       "  <th>C(run)[T.3]</th> <td>   -1.2585</td> <td>    0.215</td> <td>   -5.849</td> <td> 0.000</td> <td>   -1.686</td> <td>   -0.831</td>\n",
       "</tr>\n",
       "<tr>\n",
       "  <th>C(run)[T.4]</th> <td>   -1.1378</td> <td>    0.215</td> <td>   -5.288</td> <td> 0.000</td> <td>   -1.565</td> <td>   -0.710</td>\n",
       "</tr>\n",
       "<tr>\n",
       "  <th>C(run)[T.5]</th> <td>    0.6278</td> <td>    0.215</td> <td>    2.918</td> <td> 0.004</td> <td>    0.200</td> <td>    1.055</td>\n",
       "</tr>\n",
       "<tr>\n",
       "  <th>C(run)[T.6]</th> <td>    0.2132</td> <td>    0.215</td> <td>    0.991</td> <td> 0.324</td> <td>   -0.214</td> <td>    0.641</td>\n",
       "</tr>\n",
       "<tr>\n",
       "  <th>C(run)[T.7]</th> <td>   -1.1359</td> <td>    0.215</td> <td>   -5.279</td> <td> 0.000</td> <td>   -1.563</td> <td>   -0.708</td>\n",
       "</tr>\n",
       "<tr>\n",
       "  <th>C(run)[T.8]</th> <td>   -0.5295</td> <td>    0.215</td> <td>   -2.461</td> <td> 0.016</td> <td>   -0.957</td> <td>   -0.102</td>\n",
       "</tr>\n",
       "<tr>\n",
       "  <th>C(run)[T.9]</th> <td>    1.0663</td> <td>    0.215</td> <td>    4.956</td> <td> 0.000</td> <td>    0.639</td> <td>    1.494</td>\n",
       "</tr>\n",
       "</table>\n",
       "<table class=\"simpletable\">\n",
       "<tr>\n",
       "  <th>Omnibus:</th>       <td> 2.298</td> <th>  Durbin-Watson:     </th> <td>   1.950</td>\n",
       "</tr>\n",
       "<tr>\n",
       "  <th>Prob(Omnibus):</th> <td> 0.317</td> <th>  Jarque-Bera (JB):  </th> <td>   1.924</td>\n",
       "</tr>\n",
       "<tr>\n",
       "  <th>Skew:</th>          <td> 0.078</td> <th>  Prob(JB):          </th> <td>   0.382</td>\n",
       "</tr>\n",
       "<tr>\n",
       "  <th>Kurtosis:</th>      <td> 3.661</td> <th>  Cond. No.          </th> <td>    10.9</td>\n",
       "</tr>\n",
       "</table><br/><br/>Warnings:<br/>[1] Standard Errors assume that the covariance matrix of the errors is correctly specified."
      ],
      "text/plain": [
       "<class 'statsmodels.iolib.summary.Summary'>\n",
       "\"\"\"\n",
       "                            OLS Regression Results                            \n",
       "==============================================================================\n",
       "Dep. Variable:                  abs_x   R-squared:                       0.746\n",
       "Model:                            OLS   Adj. R-squared:                  0.721\n",
       "Method:                 Least Squares   F-statistic:                     29.38\n",
       "Date:                Wed, 17 Jul 2019   Prob (F-statistic):           3.75e-23\n",
       "Time:                        12:14:54   Log-Likelihood:                -63.463\n",
       "No. Observations:                 100   AIC:                             146.9\n",
       "Df Residuals:                      90   BIC:                             173.0\n",
       "Df Model:                           9                                         \n",
       "Covariance Type:            nonrobust                                         \n",
       "===============================================================================\n",
       "                  coef    std err          t      P>|t|      [0.025      0.975]\n",
       "-------------------------------------------------------------------------------\n",
       "Intercept       1.7308      0.152     11.376      0.000       1.428       2.033\n",
       "C(run)[T.1]     0.0804      0.215      0.374      0.709      -0.347       0.508\n",
       "C(run)[T.2]    -1.0235      0.215     -4.757      0.000      -1.451      -0.596\n",
       "C(run)[T.3]    -1.2585      0.215     -5.849      0.000      -1.686      -0.831\n",
       "C(run)[T.4]    -1.1378      0.215     -5.288      0.000      -1.565      -0.710\n",
       "C(run)[T.5]     0.6278      0.215      2.918      0.004       0.200       1.055\n",
       "C(run)[T.6]     0.2132      0.215      0.991      0.324      -0.214       0.641\n",
       "C(run)[T.7]    -1.1359      0.215     -5.279      0.000      -1.563      -0.708\n",
       "C(run)[T.8]    -0.5295      0.215     -2.461      0.016      -0.957      -0.102\n",
       "C(run)[T.9]     1.0663      0.215      4.956      0.000       0.639       1.494\n",
       "==============================================================================\n",
       "Omnibus:                        2.298   Durbin-Watson:                   1.950\n",
       "Prob(Omnibus):                  0.317   Jarque-Bera (JB):                1.924\n",
       "Skew:                           0.078   Prob(JB):                        0.382\n",
       "Kurtosis:                       3.661   Cond. No.                         10.9\n",
       "==============================================================================\n",
       "\n",
       "Warnings:\n",
       "[1] Standard Errors assume that the covariance matrix of the errors is correctly specified.\n",
       "\"\"\""
      ]
     },
     "execution_count": 23,
     "metadata": {},
     "output_type": "execute_result"
    }
   ],
   "source": [
    "linreg = ols('abs_x ~ C(run)', data=df).fit()\n",
    "linreg.summary()"
   ]
  },
  {
   "cell_type": "code",
   "execution_count": 24,
   "metadata": {},
   "outputs": [
    {
     "data": {
      "text/html": [
       "<div>\n",
       "<style scoped>\n",
       "    .dataframe tbody tr th:only-of-type {\n",
       "        vertical-align: middle;\n",
       "    }\n",
       "\n",
       "    .dataframe tbody tr th {\n",
       "        vertical-align: top;\n",
       "    }\n",
       "\n",
       "    .dataframe thead th {\n",
       "        text-align: right;\n",
       "    }\n",
       "</style>\n",
       "<table border=\"1\" class=\"dataframe\">\n",
       "  <thead>\n",
       "    <tr style=\"text-align: right;\">\n",
       "      <th></th>\n",
       "      <th>df</th>\n",
       "      <th>sum_sq</th>\n",
       "      <th>mean_sq</th>\n",
       "      <th>F</th>\n",
       "      <th>PR(&gt;F)</th>\n",
       "    </tr>\n",
       "  </thead>\n",
       "  <tbody>\n",
       "    <tr>\n",
       "      <th>C(run)</th>\n",
       "      <td>9.0</td>\n",
       "      <td>61.205361</td>\n",
       "      <td>6.800596</td>\n",
       "      <td>29.378695</td>\n",
       "      <td>3.747033e-23</td>\n",
       "    </tr>\n",
       "    <tr>\n",
       "      <th>Residual</th>\n",
       "      <td>90.0</td>\n",
       "      <td>20.833247</td>\n",
       "      <td>0.231481</td>\n",
       "      <td>NaN</td>\n",
       "      <td>NaN</td>\n",
       "    </tr>\n",
       "  </tbody>\n",
       "</table>\n",
       "</div>"
      ],
      "text/plain": [
       "            df     sum_sq   mean_sq          F        PR(>F)\n",
       "C(run)     9.0  61.205361  6.800596  29.378695  3.747033e-23\n",
       "Residual  90.0  20.833247  0.231481        NaN           NaN"
      ]
     },
     "execution_count": 24,
     "metadata": {},
     "output_type": "execute_result"
    }
   ],
   "source": [
    "aov_table = sm.stats.anova_lm(linreg)\n",
    "aov_table"
   ]
  },
  {
   "cell_type": "code",
   "execution_count": 25,
   "metadata": {},
   "outputs": [
    {
     "data": {
      "text/html": [
       "<table class=\"simpletable\">\n",
       "<caption>OLS Regression Results</caption>\n",
       "<tr>\n",
       "  <th>Dep. Variable:</th>          <td>pos_x</td>      <th>  R-squared:         </th> <td>   0.613</td>\n",
       "</tr>\n",
       "<tr>\n",
       "  <th>Model:</th>                   <td>OLS</td>       <th>  Adj. R-squared:    </th> <td>   0.575</td>\n",
       "</tr>\n",
       "<tr>\n",
       "  <th>Method:</th>             <td>Least Squares</td>  <th>  F-statistic:       </th> <td>   15.86</td>\n",
       "</tr>\n",
       "<tr>\n",
       "  <th>Date:</th>             <td>Wed, 17 Jul 2019</td> <th>  Prob (F-statistic):</th> <td>3.21e-15</td>\n",
       "</tr>\n",
       "<tr>\n",
       "  <th>Time:</th>                 <td>12:14:55</td>     <th>  Log-Likelihood:    </th> <td> -125.20</td>\n",
       "</tr>\n",
       "<tr>\n",
       "  <th>No. Observations:</th>      <td>   100</td>      <th>  AIC:               </th> <td>   270.4</td>\n",
       "</tr>\n",
       "<tr>\n",
       "  <th>Df Residuals:</th>          <td>    90</td>      <th>  BIC:               </th> <td>   296.4</td>\n",
       "</tr>\n",
       "<tr>\n",
       "  <th>Df Model:</th>              <td>     9</td>      <th>                     </th>     <td> </td>   \n",
       "</tr>\n",
       "<tr>\n",
       "  <th>Covariance Type:</th>      <td>nonrobust</td>    <th>                     </th>     <td> </td>   \n",
       "</tr>\n",
       "</table>\n",
       "<table class=\"simpletable\">\n",
       "<tr>\n",
       "       <td></td>          <th>coef</th>     <th>std err</th>      <th>t</th>      <th>P>|t|</th>  <th>[0.025</th>    <th>0.975]</th>  \n",
       "</tr>\n",
       "<tr>\n",
       "  <th>Intercept</th>   <td>   -0.9728</td> <td>    0.282</td> <td>   -3.449</td> <td> 0.001</td> <td>   -1.533</td> <td>   -0.412</td>\n",
       "</tr>\n",
       "<tr>\n",
       "  <th>C(run)[T.1]</th> <td>    1.4791</td> <td>    0.399</td> <td>    3.708</td> <td> 0.000</td> <td>    0.687</td> <td>    2.272</td>\n",
       "</tr>\n",
       "<tr>\n",
       "  <th>C(run)[T.2]</th> <td>    0.2655</td> <td>    0.399</td> <td>    0.666</td> <td> 0.507</td> <td>   -0.527</td> <td>    1.058</td>\n",
       "</tr>\n",
       "<tr>\n",
       "  <th>C(run)[T.3]</th> <td>    0.5054</td> <td>    0.399</td> <td>    1.267</td> <td> 0.208</td> <td>   -0.287</td> <td>    1.298</td>\n",
       "</tr>\n",
       "<tr>\n",
       "  <th>C(run)[T.4]</th> <td>    0.3798</td> <td>    0.399</td> <td>    0.952</td> <td> 0.344</td> <td>   -0.413</td> <td>    1.172</td>\n",
       "</tr>\n",
       "<tr>\n",
       "  <th>C(run)[T.5]</th> <td>   -1.3858</td> <td>    0.399</td> <td>   -3.474</td> <td> 0.001</td> <td>   -2.178</td> <td>   -0.593</td>\n",
       "</tr>\n",
       "<tr>\n",
       "  <th>C(run)[T.6]</th> <td>   -0.9712</td> <td>    0.399</td> <td>   -2.435</td> <td> 0.017</td> <td>   -1.764</td> <td>   -0.179</td>\n",
       "</tr>\n",
       "<tr>\n",
       "  <th>C(run)[T.7]</th> <td>    1.5676</td> <td>    0.399</td> <td>    3.930</td> <td> 0.000</td> <td>    0.775</td> <td>    2.360</td>\n",
       "</tr>\n",
       "<tr>\n",
       "  <th>C(run)[T.8]</th> <td>   -0.2285</td> <td>    0.399</td> <td>   -0.573</td> <td> 0.568</td> <td>   -1.021</td> <td>    0.564</td>\n",
       "</tr>\n",
       "<tr>\n",
       "  <th>C(run)[T.9]</th> <td>   -1.8243</td> <td>    0.399</td> <td>   -4.573</td> <td> 0.000</td> <td>   -2.617</td> <td>   -1.032</td>\n",
       "</tr>\n",
       "</table>\n",
       "<table class=\"simpletable\">\n",
       "<tr>\n",
       "  <th>Omnibus:</th>       <td>12.804</td> <th>  Durbin-Watson:     </th> <td>   2.112</td>\n",
       "</tr>\n",
       "<tr>\n",
       "  <th>Prob(Omnibus):</th> <td> 0.002</td> <th>  Jarque-Bera (JB):  </th> <td>  35.709</td>\n",
       "</tr>\n",
       "<tr>\n",
       "  <th>Skew:</th>          <td>-0.248</td> <th>  Prob(JB):          </th> <td>1.76e-08</td>\n",
       "</tr>\n",
       "<tr>\n",
       "  <th>Kurtosis:</th>      <td> 5.885</td> <th>  Cond. No.          </th> <td>    10.9</td>\n",
       "</tr>\n",
       "</table><br/><br/>Warnings:<br/>[1] Standard Errors assume that the covariance matrix of the errors is correctly specified."
      ],
      "text/plain": [
       "<class 'statsmodels.iolib.summary.Summary'>\n",
       "\"\"\"\n",
       "                            OLS Regression Results                            \n",
       "==============================================================================\n",
       "Dep. Variable:                  pos_x   R-squared:                       0.613\n",
       "Model:                            OLS   Adj. R-squared:                  0.575\n",
       "Method:                 Least Squares   F-statistic:                     15.86\n",
       "Date:                Wed, 17 Jul 2019   Prob (F-statistic):           3.21e-15\n",
       "Time:                        12:14:55   Log-Likelihood:                -125.20\n",
       "No. Observations:                 100   AIC:                             270.4\n",
       "Df Residuals:                      90   BIC:                             296.4\n",
       "Df Model:                           9                                         \n",
       "Covariance Type:            nonrobust                                         \n",
       "===============================================================================\n",
       "                  coef    std err          t      P>|t|      [0.025      0.975]\n",
       "-------------------------------------------------------------------------------\n",
       "Intercept      -0.9728      0.282     -3.449      0.001      -1.533      -0.412\n",
       "C(run)[T.1]     1.4791      0.399      3.708      0.000       0.687       2.272\n",
       "C(run)[T.2]     0.2655      0.399      0.666      0.507      -0.527       1.058\n",
       "C(run)[T.3]     0.5054      0.399      1.267      0.208      -0.287       1.298\n",
       "C(run)[T.4]     0.3798      0.399      0.952      0.344      -0.413       1.172\n",
       "C(run)[T.5]    -1.3858      0.399     -3.474      0.001      -2.178      -0.593\n",
       "C(run)[T.6]    -0.9712      0.399     -2.435      0.017      -1.764      -0.179\n",
       "C(run)[T.7]     1.5676      0.399      3.930      0.000       0.775       2.360\n",
       "C(run)[T.8]    -0.2285      0.399     -0.573      0.568      -1.021       0.564\n",
       "C(run)[T.9]    -1.8243      0.399     -4.573      0.000      -2.617      -1.032\n",
       "==============================================================================\n",
       "Omnibus:                       12.804   Durbin-Watson:                   2.112\n",
       "Prob(Omnibus):                  0.002   Jarque-Bera (JB):               35.709\n",
       "Skew:                          -0.248   Prob(JB):                     1.76e-08\n",
       "Kurtosis:                       5.885   Cond. No.                         10.9\n",
       "==============================================================================\n",
       "\n",
       "Warnings:\n",
       "[1] Standard Errors assume that the covariance matrix of the errors is correctly specified.\n",
       "\"\"\""
      ]
     },
     "execution_count": 25,
     "metadata": {},
     "output_type": "execute_result"
    }
   ],
   "source": [
    "linreg = ols('pos_x ~ C(run)', data=df).fit()\n",
    "linreg.summary()"
   ]
  },
  {
   "cell_type": "code",
   "execution_count": 26,
   "metadata": {},
   "outputs": [
    {
     "data": {
      "text/html": [
       "<div>\n",
       "<style scoped>\n",
       "    .dataframe tbody tr th:only-of-type {\n",
       "        vertical-align: middle;\n",
       "    }\n",
       "\n",
       "    .dataframe tbody tr th {\n",
       "        vertical-align: top;\n",
       "    }\n",
       "\n",
       "    .dataframe thead th {\n",
       "        text-align: right;\n",
       "    }\n",
       "</style>\n",
       "<table border=\"1\" class=\"dataframe\">\n",
       "  <thead>\n",
       "    <tr style=\"text-align: right;\">\n",
       "      <th></th>\n",
       "      <th>df</th>\n",
       "      <th>sum_sq</th>\n",
       "      <th>mean_sq</th>\n",
       "      <th>F</th>\n",
       "      <th>PR(&gt;F)</th>\n",
       "    </tr>\n",
       "  </thead>\n",
       "  <tbody>\n",
       "    <tr>\n",
       "      <th>C(run)</th>\n",
       "      <td>9.0</td>\n",
       "      <td>113.548597</td>\n",
       "      <td>12.616511</td>\n",
       "      <td>15.855877</td>\n",
       "      <td>3.213803e-15</td>\n",
       "    </tr>\n",
       "    <tr>\n",
       "      <th>Residual</th>\n",
       "      <td>90.0</td>\n",
       "      <td>71.612938</td>\n",
       "      <td>0.795699</td>\n",
       "      <td>NaN</td>\n",
       "      <td>NaN</td>\n",
       "    </tr>\n",
       "  </tbody>\n",
       "</table>\n",
       "</div>"
      ],
      "text/plain": [
       "            df      sum_sq    mean_sq          F        PR(>F)\n",
       "C(run)     9.0  113.548597  12.616511  15.855877  3.213803e-15\n",
       "Residual  90.0   71.612938   0.795699        NaN           NaN"
      ]
     },
     "execution_count": 26,
     "metadata": {},
     "output_type": "execute_result"
    }
   ],
   "source": [
    "aov_table = sm.stats.anova_lm(linreg)\n",
    "aov_table"
   ]
  },
  {
   "cell_type": "code",
   "execution_count": 27,
   "metadata": {},
   "outputs": [
    {
     "data": {
      "text/html": [
       "<table class=\"simpletable\">\n",
       "<caption>OLS Regression Results</caption>\n",
       "<tr>\n",
       "  <th>Dep. Variable:</th>          <td>votes</td>      <th>  R-squared:         </th> <td>   0.372</td>\n",
       "</tr>\n",
       "<tr>\n",
       "  <th>Model:</th>                   <td>OLS</td>       <th>  Adj. R-squared:    </th> <td>   0.294</td>\n",
       "</tr>\n",
       "<tr>\n",
       "  <th>Method:</th>             <td>Least Squares</td>  <th>  F-statistic:       </th> <td>   4.742</td>\n",
       "</tr>\n",
       "<tr>\n",
       "  <th>Date:</th>             <td>Wed, 17 Jul 2019</td> <th>  Prob (F-statistic):</th> <td>1.11e-05</td>\n",
       "</tr>\n",
       "<tr>\n",
       "  <th>Time:</th>                 <td>12:14:55</td>     <th>  Log-Likelihood:    </th> <td> -449.56</td>\n",
       "</tr>\n",
       "<tr>\n",
       "  <th>No. Observations:</th>      <td>   100</td>      <th>  AIC:               </th> <td>   923.1</td>\n",
       "</tr>\n",
       "<tr>\n",
       "  <th>Df Residuals:</th>          <td>    88</td>      <th>  BIC:               </th> <td>   954.4</td>\n",
       "</tr>\n",
       "<tr>\n",
       "  <th>Df Model:</th>              <td>    11</td>      <th>                     </th>     <td> </td>   \n",
       "</tr>\n",
       "<tr>\n",
       "  <th>Covariance Type:</th>      <td>nonrobust</td>    <th>                     </th>     <td> </td>   \n",
       "</tr>\n",
       "</table>\n",
       "<table class=\"simpletable\">\n",
       "<tr>\n",
       "       <td></td>          <th>coef</th>     <th>std err</th>      <th>t</th>      <th>P>|t|</th>  <th>[0.025</th>    <th>0.975]</th>  \n",
       "</tr>\n",
       "<tr>\n",
       "  <th>Intercept</th>   <td>  322.9506</td> <td>    7.794</td> <td>   41.438</td> <td> 0.000</td> <td>  307.463</td> <td>  338.439</td>\n",
       "</tr>\n",
       "<tr>\n",
       "  <th>C(run)[T.1]</th> <td>   11.1963</td> <td>   11.412</td> <td>    0.981</td> <td> 0.329</td> <td>  -11.482</td> <td>   33.874</td>\n",
       "</tr>\n",
       "<tr>\n",
       "  <th>C(run)[T.2]</th> <td>    7.4753</td> <td>   10.430</td> <td>    0.717</td> <td> 0.475</td> <td>  -13.252</td> <td>   28.202</td>\n",
       "</tr>\n",
       "<tr>\n",
       "  <th>C(run)[T.3]</th> <td>  -21.4228</td> <td>   10.994</td> <td>   -1.949</td> <td> 0.055</td> <td>  -43.271</td> <td>    0.425</td>\n",
       "</tr>\n",
       "<tr>\n",
       "  <th>C(run)[T.4]</th> <td>   14.4752</td> <td>   10.785</td> <td>    1.342</td> <td> 0.183</td> <td>   -6.959</td> <td>   35.909</td>\n",
       "</tr>\n",
       "<tr>\n",
       "  <th>C(run)[T.5]</th> <td>  -16.9787</td> <td>   11.175</td> <td>   -1.519</td> <td> 0.132</td> <td>  -39.187</td> <td>    5.229</td>\n",
       "</tr>\n",
       "<tr>\n",
       "  <th>C(run)[T.6]</th> <td>   16.8285</td> <td>   11.165</td> <td>    1.507</td> <td> 0.135</td> <td>   -5.359</td> <td>   39.016</td>\n",
       "</tr>\n",
       "<tr>\n",
       "  <th>C(run)[T.7]</th> <td>    2.2972</td> <td>   11.343</td> <td>    0.203</td> <td> 0.840</td> <td>  -20.244</td> <td>   24.839</td>\n",
       "</tr>\n",
       "<tr>\n",
       "  <th>C(run)[T.8]</th> <td>   17.1319</td> <td>   10.790</td> <td>    1.588</td> <td> 0.116</td> <td>   -4.310</td> <td>   38.574</td>\n",
       "</tr>\n",
       "<tr>\n",
       "  <th>C(run)[T.9]</th> <td>   -6.1892</td> <td>   11.680</td> <td>   -0.530</td> <td> 0.598</td> <td>  -29.401</td> <td>   17.022</td>\n",
       "</tr>\n",
       "<tr>\n",
       "  <th>pos_x</th>       <td>    6.7342</td> <td>    2.739</td> <td>    2.459</td> <td> 0.016</td> <td>    1.291</td> <td>   12.177</td>\n",
       "</tr>\n",
       "<tr>\n",
       "  <th>pos_y</th>       <td>   -0.8037</td> <td>    0.772</td> <td>   -1.041</td> <td> 0.301</td> <td>   -2.338</td> <td>    0.731</td>\n",
       "</tr>\n",
       "</table>\n",
       "<table class=\"simpletable\">\n",
       "<tr>\n",
       "  <th>Omnibus:</th>       <td>25.478</td> <th>  Durbin-Watson:     </th> <td>   2.405</td>\n",
       "</tr>\n",
       "<tr>\n",
       "  <th>Prob(Omnibus):</th> <td> 0.000</td> <th>  Jarque-Bera (JB):  </th> <td>  43.411</td>\n",
       "</tr>\n",
       "<tr>\n",
       "  <th>Skew:</th>          <td>-1.073</td> <th>  Prob(JB):          </th> <td>3.74e-10</td>\n",
       "</tr>\n",
       "<tr>\n",
       "  <th>Kurtosis:</th>      <td> 5.411</td> <th>  Cond. No.          </th> <td>    47.2</td>\n",
       "</tr>\n",
       "</table><br/><br/>Warnings:<br/>[1] Standard Errors assume that the covariance matrix of the errors is correctly specified."
      ],
      "text/plain": [
       "<class 'statsmodels.iolib.summary.Summary'>\n",
       "\"\"\"\n",
       "                            OLS Regression Results                            \n",
       "==============================================================================\n",
       "Dep. Variable:                  votes   R-squared:                       0.372\n",
       "Model:                            OLS   Adj. R-squared:                  0.294\n",
       "Method:                 Least Squares   F-statistic:                     4.742\n",
       "Date:                Wed, 17 Jul 2019   Prob (F-statistic):           1.11e-05\n",
       "Time:                        12:14:55   Log-Likelihood:                -449.56\n",
       "No. Observations:                 100   AIC:                             923.1\n",
       "Df Residuals:                      88   BIC:                             954.4\n",
       "Df Model:                          11                                         \n",
       "Covariance Type:            nonrobust                                         \n",
       "===============================================================================\n",
       "                  coef    std err          t      P>|t|      [0.025      0.975]\n",
       "-------------------------------------------------------------------------------\n",
       "Intercept     322.9506      7.794     41.438      0.000     307.463     338.439\n",
       "C(run)[T.1]    11.1963     11.412      0.981      0.329     -11.482      33.874\n",
       "C(run)[T.2]     7.4753     10.430      0.717      0.475     -13.252      28.202\n",
       "C(run)[T.3]   -21.4228     10.994     -1.949      0.055     -43.271       0.425\n",
       "C(run)[T.4]    14.4752     10.785      1.342      0.183      -6.959      35.909\n",
       "C(run)[T.5]   -16.9787     11.175     -1.519      0.132     -39.187       5.229\n",
       "C(run)[T.6]    16.8285     11.165      1.507      0.135      -5.359      39.016\n",
       "C(run)[T.7]     2.2972     11.343      0.203      0.840     -20.244      24.839\n",
       "C(run)[T.8]    17.1319     10.790      1.588      0.116      -4.310      38.574\n",
       "C(run)[T.9]    -6.1892     11.680     -0.530      0.598     -29.401      17.022\n",
       "pos_x           6.7342      2.739      2.459      0.016       1.291      12.177\n",
       "pos_y          -0.8037      0.772     -1.041      0.301      -2.338       0.731\n",
       "==============================================================================\n",
       "Omnibus:                       25.478   Durbin-Watson:                   2.405\n",
       "Prob(Omnibus):                  0.000   Jarque-Bera (JB):               43.411\n",
       "Skew:                          -1.073   Prob(JB):                     3.74e-10\n",
       "Kurtosis:                       5.411   Cond. No.                         47.2\n",
       "==============================================================================\n",
       "\n",
       "Warnings:\n",
       "[1] Standard Errors assume that the covariance matrix of the errors is correctly specified.\n",
       "\"\"\""
      ]
     },
     "execution_count": 27,
     "metadata": {},
     "output_type": "execute_result"
    }
   ],
   "source": [
    "mlr = linreg = ols('votes ~ C(run) + pos_x + pos_y', data=df).fit()\n",
    "linreg.summary()"
   ]
  },
  {
   "cell_type": "code",
   "execution_count": 28,
   "metadata": {},
   "outputs": [
    {
     "data": {
      "text/html": [
       "<table class=\"simpletable\">\n",
       "<caption>OLS Regression Results</caption>\n",
       "<tr>\n",
       "  <th>Dep. Variable:</th>          <td>votes</td>      <th>  R-squared:         </th> <td>   0.661</td>\n",
       "</tr>\n",
       "<tr>\n",
       "  <th>Model:</th>                   <td>OLS</td>       <th>  Adj. R-squared:    </th> <td>   0.618</td>\n",
       "</tr>\n",
       "<tr>\n",
       "  <th>Method:</th>             <td>Least Squares</td>  <th>  F-statistic:       </th> <td>   15.58</td>\n",
       "</tr>\n",
       "<tr>\n",
       "  <th>Date:</th>             <td>Wed, 17 Jul 2019</td> <th>  Prob (F-statistic):</th> <td>2.26e-16</td>\n",
       "</tr>\n",
       "<tr>\n",
       "  <th>Time:</th>                 <td>12:14:55</td>     <th>  Log-Likelihood:    </th> <td> -418.80</td>\n",
       "</tr>\n",
       "<tr>\n",
       "  <th>No. Observations:</th>      <td>   100</td>      <th>  AIC:               </th> <td>   861.6</td>\n",
       "</tr>\n",
       "<tr>\n",
       "  <th>Df Residuals:</th>          <td>    88</td>      <th>  BIC:               </th> <td>   892.9</td>\n",
       "</tr>\n",
       "<tr>\n",
       "  <th>Df Model:</th>              <td>    11</td>      <th>                     </th>     <td> </td>   \n",
       "</tr>\n",
       "<tr>\n",
       "  <th>Covariance Type:</th>      <td>nonrobust</td>    <th>                     </th>     <td> </td>   \n",
       "</tr>\n",
       "</table>\n",
       "<table class=\"simpletable\">\n",
       "<tr>\n",
       "       <td></td>          <th>coef</th>     <th>std err</th>      <th>t</th>      <th>P>|t|</th>  <th>[0.025</th>    <th>0.975]</th>  \n",
       "</tr>\n",
       "<tr>\n",
       "  <th>Intercept</th>   <td>  366.6128</td> <td>    8.517</td> <td>   43.046</td> <td> 0.000</td> <td>  349.688</td> <td>  383.538</td>\n",
       "</tr>\n",
       "<tr>\n",
       "  <th>C(run)[T.1]</th> <td>   37.8721</td> <td>    7.999</td> <td>    4.735</td> <td> 0.000</td> <td>   21.976</td> <td>   53.768</td>\n",
       "</tr>\n",
       "<tr>\n",
       "  <th>C(run)[T.2]</th> <td>   -1.5729</td> <td>    8.750</td> <td>   -0.180</td> <td> 0.858</td> <td>  -18.961</td> <td>   15.816</td>\n",
       "</tr>\n",
       "<tr>\n",
       "  <th>C(run)[T.3]</th> <td>  -19.8313</td> <td>    9.573</td> <td>   -2.072</td> <td> 0.041</td> <td>  -38.855</td> <td>   -0.808</td>\n",
       "</tr>\n",
       "<tr>\n",
       "  <th>C(run)[T.4]</th> <td>    6.9531</td> <td>    9.145</td> <td>    0.760</td> <td> 0.449</td> <td>  -11.221</td> <td>   25.127</td>\n",
       "</tr>\n",
       "<tr>\n",
       "  <th>C(run)[T.5]</th> <td>   20.3048</td> <td>    9.046</td> <td>    2.245</td> <td> 0.027</td> <td>    2.327</td> <td>   38.283</td>\n",
       "</tr>\n",
       "<tr>\n",
       "  <th>C(run)[T.6]</th> <td>   30.7948</td> <td>    7.841</td> <td>    3.927</td> <td> 0.000</td> <td>   15.212</td> <td>   46.378</td>\n",
       "</tr>\n",
       "<tr>\n",
       "  <th>C(run)[T.7]</th> <td>   -6.5719</td> <td>    8.729</td> <td>   -0.753</td> <td> 0.454</td> <td>  -23.918</td> <td>   10.774</td>\n",
       "</tr>\n",
       "<tr>\n",
       "  <th>C(run)[T.8]</th> <td>   22.3852</td> <td>    8.485</td> <td>    2.638</td> <td> 0.010</td> <td>    5.523</td> <td>   39.247</td>\n",
       "</tr>\n",
       "<tr>\n",
       "  <th>C(run)[T.9]</th> <td>   23.8116</td> <td>    9.032</td> <td>    2.636</td> <td> 0.010</td> <td>    5.862</td> <td>   41.761</td>\n",
       "</tr>\n",
       "<tr>\n",
       "  <th>abs_x</th>       <td>  -24.7358</td> <td>    3.727</td> <td>   -6.636</td> <td> 0.000</td> <td>  -32.143</td> <td>  -17.328</td>\n",
       "</tr>\n",
       "<tr>\n",
       "  <th>abs_y</th>       <td>   -6.4372</td> <td>    0.922</td> <td>   -6.984</td> <td> 0.000</td> <td>   -8.269</td> <td>   -4.605</td>\n",
       "</tr>\n",
       "</table>\n",
       "<table class=\"simpletable\">\n",
       "<tr>\n",
       "  <th>Omnibus:</th>       <td> 0.375</td> <th>  Durbin-Watson:     </th> <td>   2.269</td>\n",
       "</tr>\n",
       "<tr>\n",
       "  <th>Prob(Omnibus):</th> <td> 0.829</td> <th>  Jarque-Bera (JB):  </th> <td>   0.335</td>\n",
       "</tr>\n",
       "<tr>\n",
       "  <th>Skew:</th>          <td>-0.137</td> <th>  Prob(JB):          </th> <td>   0.846</td>\n",
       "</tr>\n",
       "<tr>\n",
       "  <th>Kurtosis:</th>      <td> 2.927</td> <th>  Cond. No.          </th> <td>    56.5</td>\n",
       "</tr>\n",
       "</table><br/><br/>Warnings:<br/>[1] Standard Errors assume that the covariance matrix of the errors is correctly specified."
      ],
      "text/plain": [
       "<class 'statsmodels.iolib.summary.Summary'>\n",
       "\"\"\"\n",
       "                            OLS Regression Results                            \n",
       "==============================================================================\n",
       "Dep. Variable:                  votes   R-squared:                       0.661\n",
       "Model:                            OLS   Adj. R-squared:                  0.618\n",
       "Method:                 Least Squares   F-statistic:                     15.58\n",
       "Date:                Wed, 17 Jul 2019   Prob (F-statistic):           2.26e-16\n",
       "Time:                        12:14:55   Log-Likelihood:                -418.80\n",
       "No. Observations:                 100   AIC:                             861.6\n",
       "Df Residuals:                      88   BIC:                             892.9\n",
       "Df Model:                          11                                         \n",
       "Covariance Type:            nonrobust                                         \n",
       "===============================================================================\n",
       "                  coef    std err          t      P>|t|      [0.025      0.975]\n",
       "-------------------------------------------------------------------------------\n",
       "Intercept     366.6128      8.517     43.046      0.000     349.688     383.538\n",
       "C(run)[T.1]    37.8721      7.999      4.735      0.000      21.976      53.768\n",
       "C(run)[T.2]    -1.5729      8.750     -0.180      0.858     -18.961      15.816\n",
       "C(run)[T.3]   -19.8313      9.573     -2.072      0.041     -38.855      -0.808\n",
       "C(run)[T.4]     6.9531      9.145      0.760      0.449     -11.221      25.127\n",
       "C(run)[T.5]    20.3048      9.046      2.245      0.027       2.327      38.283\n",
       "C(run)[T.6]    30.7948      7.841      3.927      0.000      15.212      46.378\n",
       "C(run)[T.7]    -6.5719      8.729     -0.753      0.454     -23.918      10.774\n",
       "C(run)[T.8]    22.3852      8.485      2.638      0.010       5.523      39.247\n",
       "C(run)[T.9]    23.8116      9.032      2.636      0.010       5.862      41.761\n",
       "abs_x         -24.7358      3.727     -6.636      0.000     -32.143     -17.328\n",
       "abs_y          -6.4372      0.922     -6.984      0.000      -8.269      -4.605\n",
       "==============================================================================\n",
       "Omnibus:                        0.375   Durbin-Watson:                   2.269\n",
       "Prob(Omnibus):                  0.829   Jarque-Bera (JB):                0.335\n",
       "Skew:                          -0.137   Prob(JB):                        0.846\n",
       "Kurtosis:                       2.927   Cond. No.                         56.5\n",
       "==============================================================================\n",
       "\n",
       "Warnings:\n",
       "[1] Standard Errors assume that the covariance matrix of the errors is correctly specified.\n",
       "\"\"\""
      ]
     },
     "execution_count": 28,
     "metadata": {},
     "output_type": "execute_result"
    }
   ],
   "source": [
    "mlr = linreg = ols('votes ~ C(run) + abs_x + abs_y', data=df).fit()\n",
    "linreg.summary()"
   ]
  },
  {
   "cell_type": "code",
   "execution_count": 29,
   "metadata": {},
   "outputs": [],
   "source": [
    "df['abs_y_t'] = abs (df['abs_y'] - 3.8)"
   ]
  },
  {
   "cell_type": "code",
   "execution_count": 30,
   "metadata": {},
   "outputs": [
    {
     "data": {
      "text/plain": [
       "<matplotlib.axes._subplots.AxesSubplot at 0x7fb682a4ea90>"
      ]
     },
     "execution_count": 30,
     "metadata": {},
     "output_type": "execute_result"
    },
    {
     "data": {
      "image/png": "[encoded data removed]",
      "text/plain": [
       "<Figure size 432x288 with 2 Axes>"
      ]
     },
     "metadata": {
      "needs_background": "light"
     },
     "output_type": "display_data"
    }
   ],
   "source": [
    "df.plot.scatter(x='abs_y_t', y='votes', c='run', colormap='viridis')"
   ]
  },
  {
   "cell_type": "code",
   "execution_count": 31,
   "metadata": {},
   "outputs": [
    {
     "data": {
      "text/html": [
       "<table class=\"simpletable\">\n",
       "<caption>OLS Regression Results</caption>\n",
       "<tr>\n",
       "  <th>Dep. Variable:</th>          <td>votes</td>      <th>  R-squared:         </th> <td>   0.730</td>\n",
       "</tr>\n",
       "<tr>\n",
       "  <th>Model:</th>                   <td>OLS</td>       <th>  Adj. R-squared:    </th> <td>   0.696</td>\n",
       "</tr>\n",
       "<tr>\n",
       "  <th>Method:</th>             <td>Least Squares</td>  <th>  F-statistic:       </th> <td>   21.63</td>\n",
       "</tr>\n",
       "<tr>\n",
       "  <th>Date:</th>             <td>Wed, 17 Jul 2019</td> <th>  Prob (F-statistic):</th> <td>1.50e-20</td>\n",
       "</tr>\n",
       "<tr>\n",
       "  <th>Time:</th>                 <td>12:14:57</td>     <th>  Log-Likelihood:    </th> <td> -407.37</td>\n",
       "</tr>\n",
       "<tr>\n",
       "  <th>No. Observations:</th>      <td>   100</td>      <th>  AIC:               </th> <td>   838.7</td>\n",
       "</tr>\n",
       "<tr>\n",
       "  <th>Df Residuals:</th>          <td>    88</td>      <th>  BIC:               </th> <td>   870.0</td>\n",
       "</tr>\n",
       "<tr>\n",
       "  <th>Df Model:</th>              <td>    11</td>      <th>                     </th>     <td> </td>   \n",
       "</tr>\n",
       "<tr>\n",
       "  <th>Covariance Type:</th>      <td>nonrobust</td>    <th>                     </th>     <td> </td>   \n",
       "</tr>\n",
       "</table>\n",
       "<table class=\"simpletable\">\n",
       "<tr>\n",
       "       <td></td>          <th>coef</th>     <th>std err</th>      <th>t</th>      <th>P>|t|</th>  <th>[0.025</th>    <th>0.975]</th>  \n",
       "</tr>\n",
       "<tr>\n",
       "  <th>Intercept</th>   <td>  370.9851</td> <td>    7.652</td> <td>   48.483</td> <td> 0.000</td> <td>  355.779</td> <td>  386.192</td>\n",
       "</tr>\n",
       "<tr>\n",
       "  <th>C(run)[T.1]</th> <td>    1.2654</td> <td>    7.106</td> <td>    0.178</td> <td> 0.859</td> <td>  -12.856</td> <td>   15.387</td>\n",
       "</tr>\n",
       "<tr>\n",
       "  <th>C(run)[T.2]</th> <td>  -30.7095</td> <td>    7.753</td> <td>   -3.961</td> <td> 0.000</td> <td>  -46.117</td> <td>  -15.302</td>\n",
       "</tr>\n",
       "<tr>\n",
       "  <th>C(run)[T.3]</th> <td>  -26.2667</td> <td>    8.195</td> <td>   -3.205</td> <td> 0.002</td> <td>  -42.553</td> <td>   -9.981</td>\n",
       "</tr>\n",
       "<tr>\n",
       "  <th>C(run)[T.4]</th> <td>  -23.6944</td> <td>    7.855</td> <td>   -3.017</td> <td> 0.003</td> <td>  -39.304</td> <td>   -8.085</td>\n",
       "</tr>\n",
       "<tr>\n",
       "  <th>C(run)[T.5]</th> <td>  -12.6527</td> <td>    7.100</td> <td>   -1.782</td> <td> 0.078</td> <td>  -26.763</td> <td>    1.457</td>\n",
       "</tr>\n",
       "<tr>\n",
       "  <th>C(run)[T.6]</th> <td>   -6.0348</td> <td>    7.325</td> <td>   -0.824</td> <td> 0.412</td> <td>  -20.592</td> <td>    8.523</td>\n",
       "</tr>\n",
       "<tr>\n",
       "  <th>C(run)[T.7]</th> <td>  -13.0927</td> <td>    7.761</td> <td>   -1.687</td> <td> 0.095</td> <td>  -28.516</td> <td>    2.330</td>\n",
       "</tr>\n",
       "<tr>\n",
       "  <th>C(run)[T.8]</th> <td>   -7.2708</td> <td>    7.048</td> <td>   -1.032</td> <td> 0.305</td> <td>  -21.278</td> <td>    6.737</td>\n",
       "</tr>\n",
       "<tr>\n",
       "  <th>C(run)[T.9]</th> <td>   -6.2825</td> <td>    7.731</td> <td>   -0.813</td> <td> 0.419</td> <td>  -21.647</td> <td>    9.082</td>\n",
       "</tr>\n",
       "<tr>\n",
       "  <th>abs_x</th>       <td>  -14.1995</td> <td>    3.475</td> <td>   -4.087</td> <td> 0.000</td> <td>  -21.105</td> <td>   -7.294</td>\n",
       "</tr>\n",
       "<tr>\n",
       "  <th>abs_y_t</th>     <td>  -12.0829</td> <td>    1.319</td> <td>   -9.159</td> <td> 0.000</td> <td>  -14.705</td> <td>   -9.461</td>\n",
       "</tr>\n",
       "</table>\n",
       "<table class=\"simpletable\">\n",
       "<tr>\n",
       "  <th>Omnibus:</th>       <td> 0.260</td> <th>  Durbin-Watson:     </th> <td>   2.189</td>\n",
       "</tr>\n",
       "<tr>\n",
       "  <th>Prob(Omnibus):</th> <td> 0.878</td> <th>  Jarque-Bera (JB):  </th> <td>   0.410</td>\n",
       "</tr>\n",
       "<tr>\n",
       "  <th>Skew:</th>          <td>-0.098</td> <th>  Prob(JB):          </th> <td>   0.815</td>\n",
       "</tr>\n",
       "<tr>\n",
       "  <th>Kurtosis:</th>      <td> 2.755</td> <th>  Cond. No.          </th> <td>    31.7</td>\n",
       "</tr>\n",
       "</table><br/><br/>Warnings:<br/>[1] Standard Errors assume that the covariance matrix of the errors is correctly specified."
      ],
      "text/plain": [
       "<class 'statsmodels.iolib.summary.Summary'>\n",
       "\"\"\"\n",
       "                            OLS Regression Results                            \n",
       "==============================================================================\n",
       "Dep. Variable:                  votes   R-squared:                       0.730\n",
       "Model:                            OLS   Adj. R-squared:                  0.696\n",
       "Method:                 Least Squares   F-statistic:                     21.63\n",
       "Date:                Wed, 17 Jul 2019   Prob (F-statistic):           1.50e-20\n",
       "Time:                        12:14:57   Log-Likelihood:                -407.37\n",
       "No. Observations:                 100   AIC:                             838.7\n",
       "Df Residuals:                      88   BIC:                             870.0\n",
       "Df Model:                          11                                         \n",
       "Covariance Type:            nonrobust                                         \n",
       "===============================================================================\n",
       "                  coef    std err          t      P>|t|      [0.025      0.975]\n",
       "-------------------------------------------------------------------------------\n",
       "Intercept     370.9851      7.652     48.483      0.000     355.779     386.192\n",
       "C(run)[T.1]     1.2654      7.106      0.178      0.859     -12.856      15.387\n",
       "C(run)[T.2]   -30.7095      7.753     -3.961      0.000     -46.117     -15.302\n",
       "C(run)[T.3]   -26.2667      8.195     -3.205      0.002     -42.553      -9.981\n",
       "C(run)[T.4]   -23.6944      7.855     -3.017      0.003     -39.304      -8.085\n",
       "C(run)[T.5]   -12.6527      7.100     -1.782      0.078     -26.763       1.457\n",
       "C(run)[T.6]    -6.0348      7.325     -0.824      0.412     -20.592       8.523\n",
       "C(run)[T.7]   -13.0927      7.761     -1.687      0.095     -28.516       2.330\n",
       "C(run)[T.8]    -7.2708      7.048     -1.032      0.305     -21.278       6.737\n",
       "C(run)[T.9]    -6.2825      7.731     -0.813      0.419     -21.647       9.082\n",
       "abs_x         -14.1995      3.475     -4.087      0.000     -21.105      -7.294\n",
       "abs_y_t       -12.0829      1.319     -9.159      0.000     -14.705      -9.461\n",
       "==============================================================================\n",
       "Omnibus:                        0.260   Durbin-Watson:                   2.189\n",
       "Prob(Omnibus):                  0.878   Jarque-Bera (JB):                0.410\n",
       "Skew:                          -0.098   Prob(JB):                        0.815\n",
       "Kurtosis:                       2.755   Cond. No.                         31.7\n",
       "==============================================================================\n",
       "\n",
       "Warnings:\n",
       "[1] Standard Errors assume that the covariance matrix of the errors is correctly specified.\n",
       "\"\"\""
      ]
     },
     "execution_count": 31,
     "metadata": {},
     "output_type": "execute_result"
    }
   ],
   "source": [
    "mlr = linreg = ols('votes ~ C(run) + abs_x + abs_y_t', data=df).fit()\n",
    "linreg.summary()"
   ]
  },
  {
   "cell_type": "code",
   "execution_count": 32,
   "metadata": {},
   "outputs": [
    {
     "data": {
      "text/html": [
       "<table class=\"simpletable\">\n",
       "<caption>OLS Regression Results</caption>\n",
       "<tr>\n",
       "  <th>Dep. Variable:</th>          <td>votes</td>      <th>  R-squared:         </th> <td>   0.411</td>\n",
       "</tr>\n",
       "<tr>\n",
       "  <th>Model:</th>                   <td>OLS</td>       <th>  Adj. R-squared:    </th> <td>   0.399</td>\n",
       "</tr>\n",
       "<tr>\n",
       "  <th>Method:</th>             <td>Least Squares</td>  <th>  F-statistic:       </th> <td>   33.85</td>\n",
       "</tr>\n",
       "<tr>\n",
       "  <th>Date:</th>             <td>Wed, 17 Jul 2019</td> <th>  Prob (F-statistic):</th> <td>7.06e-12</td>\n",
       "</tr>\n",
       "<tr>\n",
       "  <th>Time:</th>                 <td>12:14:58</td>     <th>  Log-Likelihood:    </th> <td> -446.36</td>\n",
       "</tr>\n",
       "<tr>\n",
       "  <th>No. Observations:</th>      <td>   100</td>      <th>  AIC:               </th> <td>   898.7</td>\n",
       "</tr>\n",
       "<tr>\n",
       "  <th>Df Residuals:</th>          <td>    97</td>      <th>  BIC:               </th> <td>   906.5</td>\n",
       "</tr>\n",
       "<tr>\n",
       "  <th>Df Model:</th>              <td>     2</td>      <th>                     </th>     <td> </td>   \n",
       "</tr>\n",
       "<tr>\n",
       "  <th>Covariance Type:</th>      <td>nonrobust</td>    <th>                     </th>     <td> </td>   \n",
       "</tr>\n",
       "</table>\n",
       "<table class=\"simpletable\">\n",
       "<tr>\n",
       "      <td></td>         <th>coef</th>     <th>std err</th>      <th>t</th>      <th>P>|t|</th>  <th>[0.025</th>    <th>0.975]</th>  \n",
       "</tr>\n",
       "<tr>\n",
       "  <th>Intercept</th> <td>  358.6284</td> <td>    5.391</td> <td>   66.521</td> <td> 0.000</td> <td>  347.928</td> <td>  369.329</td>\n",
       "</tr>\n",
       "<tr>\n",
       "  <th>abs_x</th>     <td>  -12.8705</td> <td>    2.355</td> <td>   -5.466</td> <td> 0.000</td> <td>  -17.544</td> <td>   -8.197</td>\n",
       "</tr>\n",
       "<tr>\n",
       "  <th>abs_y</th>     <td>   -5.7833</td> <td>    0.942</td> <td>   -6.136</td> <td> 0.000</td> <td>   -7.654</td> <td>   -3.913</td>\n",
       "</tr>\n",
       "</table>\n",
       "<table class=\"simpletable\">\n",
       "<tr>\n",
       "  <th>Omnibus:</th>       <td> 6.560</td> <th>  Durbin-Watson:     </th> <td>   1.515</td>\n",
       "</tr>\n",
       "<tr>\n",
       "  <th>Prob(Omnibus):</th> <td> 0.038</td> <th>  Jarque-Bera (JB):  </th> <td>   6.015</td>\n",
       "</tr>\n",
       "<tr>\n",
       "  <th>Skew:</th>          <td>-0.570</td> <th>  Prob(JB):          </th> <td>  0.0494</td>\n",
       "</tr>\n",
       "<tr>\n",
       "  <th>Kurtosis:</th>      <td> 3.378</td> <th>  Cond. No.          </th> <td>    12.6</td>\n",
       "</tr>\n",
       "</table><br/><br/>Warnings:<br/>[1] Standard Errors assume that the covariance matrix of the errors is correctly specified."
      ],
      "text/plain": [
       "<class 'statsmodels.iolib.summary.Summary'>\n",
       "\"\"\"\n",
       "                            OLS Regression Results                            \n",
       "==============================================================================\n",
       "Dep. Variable:                  votes   R-squared:                       0.411\n",
       "Model:                            OLS   Adj. R-squared:                  0.399\n",
       "Method:                 Least Squares   F-statistic:                     33.85\n",
       "Date:                Wed, 17 Jul 2019   Prob (F-statistic):           7.06e-12\n",
       "Time:                        12:14:58   Log-Likelihood:                -446.36\n",
       "No. Observations:                 100   AIC:                             898.7\n",
       "Df Residuals:                      97   BIC:                             906.5\n",
       "Df Model:                           2                                         \n",
       "Covariance Type:            nonrobust                                         \n",
       "==============================================================================\n",
       "                 coef    std err          t      P>|t|      [0.025      0.975]\n",
       "------------------------------------------------------------------------------\n",
       "Intercept    358.6284      5.391     66.521      0.000     347.928     369.329\n",
       "abs_x        -12.8705      2.355     -5.466      0.000     -17.544      -8.197\n",
       "abs_y         -5.7833      0.942     -6.136      0.000      -7.654      -3.913\n",
       "==============================================================================\n",
       "Omnibus:                        6.560   Durbin-Watson:                   1.515\n",
       "Prob(Omnibus):                  0.038   Jarque-Bera (JB):                6.015\n",
       "Skew:                          -0.570   Prob(JB):                       0.0494\n",
       "Kurtosis:                       3.378   Cond. No.                         12.6\n",
       "==============================================================================\n",
       "\n",
       "Warnings:\n",
       "[1] Standard Errors assume that the covariance matrix of the errors is correctly specified.\n",
       "\"\"\""
      ]
     },
     "execution_count": 32,
     "metadata": {},
     "output_type": "execute_result"
    }
   ],
   "source": [
    "mlr = linreg = ols('votes ~ abs_x + abs_y', data=df).fit()\n",
    "linreg.summary()"
   ]
  },
  {
   "cell_type": "code",
   "execution_count": 33,
   "metadata": {},
   "outputs": [],
   "source": [
    "data_path_random_1 = ['data/e1' + l + 'r.csv' for l in letters]"
   ]
  },
  {
   "cell_type": "code",
   "execution_count": 34,
   "metadata": {},
   "outputs": [],
   "source": [
    "dfsr = [nn.load_nl_data({'data_path':path}) for path in data_path_random_1]\n",
    "dfsr = pd.concat(dfsr)\n",
    "dfsr = pd.concat([dfsr, pd.DataFrame(dfsr['pos'].values.tolist(), columns = ['pos_x', 'pos_y'], index=dfsr.index)], axis = 1)"
   ]
  },
  {
   "cell_type": "code",
   "execution_count": 35,
   "metadata": {},
   "outputs": [
    {
     "data": {
      "text/plain": [
       "array([[<matplotlib.axes._subplots.AxesSubplot object at 0x7fb6829d34e0>],\n",
       "       [<matplotlib.axes._subplots.AxesSubplot object at 0x7fb67f8050f0>],\n",
       "       [<matplotlib.axes._subplots.AxesSubplot object at 0x7fb680a466a0>]],\n",
       "      dtype=object)"
      ]
     },
     "execution_count": 35,
     "metadata": {},
     "output_type": "execute_result"
    },
    {
     "data": {
      "image/png": "[encoded data removed]",
      "text/plain": [
       "<Figure size 360x1440 with 3 Axes>"
      ]
     },
     "metadata": {
      "needs_background": "light"
     },
     "output_type": "display_data"
    }
   ],
   "source": [
    "dfsr.hist(column=['votes', 'pos_x', 'pos_y'], layout=(3,1), figsize=(5,20))"
   ]
  },
  {
   "cell_type": "code",
   "execution_count": 36,
   "metadata": {},
   "outputs": [
    {
     "data": {
      "text/html": [
       "<div>\n",
       "<style scoped>\n",
       "    .dataframe tbody tr th:only-of-type {\n",
       "        vertical-align: middle;\n",
       "    }\n",
       "\n",
       "    .dataframe tbody tr th {\n",
       "        vertical-align: top;\n",
       "    }\n",
       "\n",
       "    .dataframe thead th {\n",
       "        text-align: right;\n",
       "    }\n",
       "</style>\n",
       "<table border=\"1\" class=\"dataframe\">\n",
       "  <thead>\n",
       "    <tr style=\"text-align: right;\">\n",
       "      <th></th>\n",
       "      <th>time</th>\n",
       "      <th>agent</th>\n",
       "      <th>next_move</th>\n",
       "      <th>previous_votes</th>\n",
       "      <th>votes</th>\n",
       "      <th>previous_seats</th>\n",
       "      <th>seats</th>\n",
       "      <th>pos_x</th>\n",
       "      <th>pos_y</th>\n",
       "    </tr>\n",
       "  </thead>\n",
       "  <tbody>\n",
       "    <tr>\n",
       "      <th>count</th>\n",
       "      <td>100000.000000</td>\n",
       "      <td>100000.0</td>\n",
       "      <td>100000.000000</td>\n",
       "      <td>100000.000000</td>\n",
       "      <td>100000.000000</td>\n",
       "      <td>100000.0000</td>\n",
       "      <td>100000.0</td>\n",
       "      <td>100000.000000</td>\n",
       "      <td>100000.000000</td>\n",
       "    </tr>\n",
       "    <tr>\n",
       "      <th>mean</th>\n",
       "      <td>4999.500000</td>\n",
       "      <td>1000.0</td>\n",
       "      <td>1.996020</td>\n",
       "      <td>215.423450</td>\n",
       "      <td>215.444820</td>\n",
       "      <td>0.9999</td>\n",
       "      <td>1.0</td>\n",
       "      <td>-0.213074</td>\n",
       "      <td>0.261007</td>\n",
       "    </tr>\n",
       "    <tr>\n",
       "      <th>std</th>\n",
       "      <td>2886.765765</td>\n",
       "      <td>0.0</td>\n",
       "      <td>1.413741</td>\n",
       "      <td>80.792619</td>\n",
       "      <td>80.767574</td>\n",
       "      <td>0.0100</td>\n",
       "      <td>0.0</td>\n",
       "      <td>6.010835</td>\n",
       "      <td>5.995424</td>\n",
       "    </tr>\n",
       "    <tr>\n",
       "      <th>min</th>\n",
       "      <td>0.000000</td>\n",
       "      <td>1000.0</td>\n",
       "      <td>0.000000</td>\n",
       "      <td>0.000000</td>\n",
       "      <td>42.000000</td>\n",
       "      <td>0.0000</td>\n",
       "      <td>1.0</td>\n",
       "      <td>-10.486637</td>\n",
       "      <td>-10.412890</td>\n",
       "    </tr>\n",
       "    <tr>\n",
       "      <th>25%</th>\n",
       "      <td>2499.750000</td>\n",
       "      <td>1000.0</td>\n",
       "      <td>1.000000</td>\n",
       "      <td>146.000000</td>\n",
       "      <td>146.000000</td>\n",
       "      <td>1.0000</td>\n",
       "      <td>1.0</td>\n",
       "      <td>-5.486637</td>\n",
       "      <td>-4.859457</td>\n",
       "    </tr>\n",
       "    <tr>\n",
       "      <th>50%</th>\n",
       "      <td>4999.500000</td>\n",
       "      <td>1000.0</td>\n",
       "      <td>2.000000</td>\n",
       "      <td>225.000000</td>\n",
       "      <td>225.000000</td>\n",
       "      <td>1.0000</td>\n",
       "      <td>1.0</td>\n",
       "      <td>-0.337571</td>\n",
       "      <td>0.387116</td>\n",
       "    </tr>\n",
       "    <tr>\n",
       "      <th>75%</th>\n",
       "      <td>7499.250000</td>\n",
       "      <td>1000.0</td>\n",
       "      <td>3.000000</td>\n",
       "      <td>286.000000</td>\n",
       "      <td>286.000000</td>\n",
       "      <td>1.0000</td>\n",
       "      <td>1.0</td>\n",
       "      <td>4.846744</td>\n",
       "      <td>5.333294</td>\n",
       "    </tr>\n",
       "    <tr>\n",
       "      <th>max</th>\n",
       "      <td>9999.000000</td>\n",
       "      <td>1000.0</td>\n",
       "      <td>4.000000</td>\n",
       "      <td>387.000000</td>\n",
       "      <td>387.000000</td>\n",
       "      <td>1.0000</td>\n",
       "      <td>1.0</td>\n",
       "      <td>10.466066</td>\n",
       "      <td>10.387116</td>\n",
       "    </tr>\n",
       "  </tbody>\n",
       "</table>\n",
       "</div>"
      ],
      "text/plain": [
       "                time     agent      next_move  previous_votes          votes  \\\n",
       "count  100000.000000  100000.0  100000.000000   100000.000000  100000.000000   \n",
       "mean     4999.500000    1000.0       1.996020      215.423450     215.444820   \n",
       "std      2886.765765       0.0       1.413741       80.792619      80.767574   \n",
       "min         0.000000    1000.0       0.000000        0.000000      42.000000   \n",
       "25%      2499.750000    1000.0       1.000000      146.000000     146.000000   \n",
       "50%      4999.500000    1000.0       2.000000      225.000000     225.000000   \n",
       "75%      7499.250000    1000.0       3.000000      286.000000     286.000000   \n",
       "max      9999.000000    1000.0       4.000000      387.000000     387.000000   \n",
       "\n",
       "       previous_seats     seats          pos_x          pos_y  \n",
       "count     100000.0000  100000.0  100000.000000  100000.000000  \n",
       "mean           0.9999       1.0      -0.213074       0.261007  \n",
       "std            0.0100       0.0       6.010835       5.995424  \n",
       "min            0.0000       1.0     -10.486637     -10.412890  \n",
       "25%            1.0000       1.0      -5.486637      -4.859457  \n",
       "50%            1.0000       1.0      -0.337571       0.387116  \n",
       "75%            1.0000       1.0       4.846744       5.333294  \n",
       "max            1.0000       1.0      10.466066      10.387116  "
      ]
     },
     "execution_count": 36,
     "metadata": {},
     "output_type": "execute_result"
    }
   ],
   "source": [
    "dfsr.describe()"
   ]
  },
  {
   "cell_type": "code",
   "execution_count": 37,
   "metadata": {},
   "outputs": [
    {
     "data": {
      "text/plain": [
       "<Figure size 432x288 with 0 Axes>"
      ]
     },
     "metadata": {},
     "output_type": "display_data"
    },
    {
     "data": {
      "text/plain": [
       "<Figure size 432x288 with 0 Axes>"
      ]
     },
     "metadata": {},
     "output_type": "display_data"
    },
    {
     "data": {
      "text/plain": [
       "<Figure size 432x288 with 0 Axes>"
      ]
     },
     "metadata": {},
     "output_type": "display_data"
    },
    {
     "data": {
      "image/png": "[encoded data removed]",
      "text/plain": [
       "<Figure size 432x288 with 1 Axes>"
      ]
     },
     "metadata": {
      "needs_background": "light"
     },
     "output_type": "display_data"
    }
   ],
   "source": [
    "figure, axes = plt.subplots()\n",
    "dfsr.hist(column=['votes'],figsize=(7,5), ax=axes)\n",
    "figure.savefig('plot/ex1rvotes.pdf')\n",
    "figure.clear()\n",
    "figure, axes = plt.subplots()\n",
    "df.hist(column=['votes'],figsize=(7,5), ax=axes)\n",
    "figure.savefig('plot/ex1tvotes.pdf')\n",
    "figure.clear()\n",
    "figure, axes = plt.subplots()\n",
    "df.hist(column=['abs_y'],figsize=(7,5), ax=axes)\n",
    "figure.savefig('plot/ex1absy.pdf')\n",
    "figure.clear()\n",
    "figure, axes = plt.subplots()\n",
    "df.plot.scatter(x='abs_y', y='votes', ax=axes)\n",
    "figure.savefig('plot/ex1yvotes.pdf')"
   ]
  },
  {
   "cell_type": "code",
   "execution_count": null,
   "metadata": {},
   "outputs": [],
   "source": []
  }
 ],
 "metadata": {
  "kernelspec": {
   "display_name": "Python 3",
   "language": "python",
   "name": "python3"
  },
  "language_info": {
   "codemirror_mode": {
    "name": "ipython",
    "version": 3
   },
   "file_extension": ".py",
   "mimetype": "text/x-python",
   "name": "python",
   "nbconvert_exporter": "python",
   "pygments_lexer": "ipython3",
   "version": "3.7.3"
  }
 },
 "nbformat": 4,
 "nbformat_minor": 2
}
