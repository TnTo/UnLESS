{
 "cells": [
  {
   "cell_type": "code",
   "execution_count": 1,
   "metadata": {},
   "outputs": [
    {
     "data": {
      "text/plain": [
       "['data/e2at.csv',\n",
       " 'data/e2bt.csv',\n",
       " 'data/e2ct.csv',\n",
       " 'data/e2dt.csv',\n",
       " 'data/e2et.csv',\n",
       " 'data/e2ft.csv',\n",
       " 'data/e2gt.csv',\n",
       " 'data/e2ht.csv',\n",
       " 'data/e2it.csv',\n",
       " 'data/e2jt.csv']"
      ]
     },
     "execution_count": 1,
     "metadata": {},
     "output_type": "execute_result"
    }
   ],
   "source": [
    "letters = ['a','b','c','d','e','f','g','h','i','j']\n",
    "data_path_1 = ['data/e2' + l + 't.csv' for l in letters]\n",
    "data_path_1"
   ]
  },
  {
   "cell_type": "code",
   "execution_count": 2,
   "metadata": {},
   "outputs": [
    {
     "name": "stderr",
     "output_type": "stream",
     "text": [
      "Using TensorFlow backend.\n",
      "WARNING: Logging before flag parsing goes to stderr.\n",
      "W0717 12:14:12.497574 140480543311488 __init__.py:308] Limited tf.compat.v2.summary API due to missing TensorBoard installation.\n"
     ]
    },
    {
     "name": "stdout",
     "output_type": "stream",
     "text": [
      "Populating the interactive namespace from numpy and matplotlib\n"
     ]
    }
   ],
   "source": [
    "import neural_network as nn\n",
    "import pandas as pd\n",
    "import matplotlib.pyplot as plt\n",
    "%pylab inline"
   ]
  },
  {
   "cell_type": "code",
   "execution_count": 3,
   "metadata": {},
   "outputs": [],
   "source": [
    "dfs = [nn.load_nl_data({'data_path':path}) for path in data_path_1]"
   ]
  },
  {
   "cell_type": "code",
   "execution_count": 4,
   "metadata": {},
   "outputs": [],
   "source": [
    "dfs = [df[df['time'] >= 489] for df in dfs]"
   ]
  },
  {
   "cell_type": "code",
   "execution_count": 5,
   "metadata": {},
   "outputs": [],
   "source": [
    "dfs = [df.drop(columns=['old_pos', 'electors_state', 'votes_state', 'next_move', 'previous_votes', 'seats', 'previous_seats']) for df in dfs]"
   ]
  },
  {
   "cell_type": "code",
   "execution_count": 6,
   "metadata": {},
   "outputs": [],
   "source": [
    "dfs = [pd.concat([df, pd.DataFrame(df['pos'].values.tolist(), columns = ['pos_x', 'pos_y'], index=df.index)], axis = 1) for df in dfs]"
   ]
  },
  {
   "cell_type": "code",
   "execution_count": 7,
   "metadata": {},
   "outputs": [],
   "source": [
    "for i in range(len(letters)):\n",
    "    dfs[i]['run'] = i"
   ]
  },
  {
   "cell_type": "code",
   "execution_count": 8,
   "metadata": {},
   "outputs": [],
   "source": [
    "df = pd.concat(dfs)"
   ]
  },
  {
   "cell_type": "code",
   "execution_count": 9,
   "metadata": {},
   "outputs": [
    {
     "data": {
      "text/html": [
       "<div>\n",
       "<style scoped>\n",
       "    .dataframe tbody tr th:only-of-type {\n",
       "        vertical-align: middle;\n",
       "    }\n",
       "\n",
       "    .dataframe tbody tr th {\n",
       "        vertical-align: top;\n",
       "    }\n",
       "\n",
       "    .dataframe thead th {\n",
       "        text-align: right;\n",
       "    }\n",
       "</style>\n",
       "<table border=\"1\" class=\"dataframe\">\n",
       "  <thead>\n",
       "    <tr style=\"text-align: right;\">\n",
       "      <th></th>\n",
       "      <th>time</th>\n",
       "      <th>agent</th>\n",
       "      <th>votes</th>\n",
       "      <th>pos_x</th>\n",
       "      <th>pos_y</th>\n",
       "      <th>run</th>\n",
       "    </tr>\n",
       "  </thead>\n",
       "  <tbody>\n",
       "    <tr>\n",
       "      <th>count</th>\n",
       "      <td>1100.000000</td>\n",
       "      <td>1100.0</td>\n",
       "      <td>1100.000000</td>\n",
       "      <td>1100.000000</td>\n",
       "      <td>1100.000000</td>\n",
       "      <td>1100.000000</td>\n",
       "    </tr>\n",
       "    <tr>\n",
       "      <th>mean</th>\n",
       "      <td>494.000000</td>\n",
       "      <td>1000.0</td>\n",
       "      <td>275.565455</td>\n",
       "      <td>-0.512186</td>\n",
       "      <td>2.059417</td>\n",
       "      <td>4.500000</td>\n",
       "    </tr>\n",
       "    <tr>\n",
       "      <th>std</th>\n",
       "      <td>3.163716</td>\n",
       "      <td>0.0</td>\n",
       "      <td>54.532360</td>\n",
       "      <td>3.353606</td>\n",
       "      <td>5.363492</td>\n",
       "      <td>2.873588</td>\n",
       "    </tr>\n",
       "    <tr>\n",
       "      <th>min</th>\n",
       "      <td>489.000000</td>\n",
       "      <td>1000.0</td>\n",
       "      <td>79.000000</td>\n",
       "      <td>-8.996769</td>\n",
       "      <td>-10.449944</td>\n",
       "      <td>0.000000</td>\n",
       "    </tr>\n",
       "    <tr>\n",
       "      <th>25%</th>\n",
       "      <td>491.000000</td>\n",
       "      <td>1000.0</td>\n",
       "      <td>239.000000</td>\n",
       "      <td>-2.279855</td>\n",
       "      <td>-1.437725</td>\n",
       "      <td>2.000000</td>\n",
       "    </tr>\n",
       "    <tr>\n",
       "      <th>50%</th>\n",
       "      <td>494.000000</td>\n",
       "      <td>1000.0</td>\n",
       "      <td>291.500000</td>\n",
       "      <td>-0.314231</td>\n",
       "      <td>2.007872</td>\n",
       "      <td>4.500000</td>\n",
       "    </tr>\n",
       "    <tr>\n",
       "      <th>75%</th>\n",
       "      <td>497.000000</td>\n",
       "      <td>1000.0</td>\n",
       "      <td>318.000000</td>\n",
       "      <td>1.740830</td>\n",
       "      <td>5.898661</td>\n",
       "      <td>7.000000</td>\n",
       "    </tr>\n",
       "    <tr>\n",
       "      <th>max</th>\n",
       "      <td>499.000000</td>\n",
       "      <td>1000.0</td>\n",
       "      <td>364.000000</td>\n",
       "      <td>6.401090</td>\n",
       "      <td>10.436269</td>\n",
       "      <td>9.000000</td>\n",
       "    </tr>\n",
       "  </tbody>\n",
       "</table>\n",
       "</div>"
      ],
      "text/plain": [
       "              time   agent        votes        pos_x        pos_y          run\n",
       "count  1100.000000  1100.0  1100.000000  1100.000000  1100.000000  1100.000000\n",
       "mean    494.000000  1000.0   275.565455    -0.512186     2.059417     4.500000\n",
       "std       3.163716     0.0    54.532360     3.353606     5.363492     2.873588\n",
       "min     489.000000  1000.0    79.000000    -8.996769   -10.449944     0.000000\n",
       "25%     491.000000  1000.0   239.000000    -2.279855    -1.437725     2.000000\n",
       "50%     494.000000  1000.0   291.500000    -0.314231     2.007872     4.500000\n",
       "75%     497.000000  1000.0   318.000000     1.740830     5.898661     7.000000\n",
       "max     499.000000  1000.0   364.000000     6.401090    10.436269     9.000000"
      ]
     },
     "execution_count": 9,
     "metadata": {},
     "output_type": "execute_result"
    }
   ],
   "source": [
    "df.describe()"
   ]
  },
  {
   "cell_type": "code",
   "execution_count": 10,
   "metadata": {},
   "outputs": [
    {
     "data": {
      "text/html": [
       "<div>\n",
       "<style scoped>\n",
       "    .dataframe tbody tr th:only-of-type {\n",
       "        vertical-align: middle;\n",
       "    }\n",
       "\n",
       "    .dataframe tbody tr th {\n",
       "        vertical-align: top;\n",
       "    }\n",
       "\n",
       "    .dataframe thead th {\n",
       "        text-align: right;\n",
       "    }\n",
       "</style>\n",
       "<table border=\"1\" class=\"dataframe\">\n",
       "  <thead>\n",
       "    <tr style=\"text-align: right;\">\n",
       "      <th></th>\n",
       "      <th>time</th>\n",
       "      <th>agent</th>\n",
       "      <th>votes</th>\n",
       "      <th>pos_x</th>\n",
       "      <th>pos_y</th>\n",
       "      <th>run</th>\n",
       "    </tr>\n",
       "  </thead>\n",
       "  <tbody>\n",
       "    <tr>\n",
       "      <th>count</th>\n",
       "      <td>100.0</td>\n",
       "      <td>100.0</td>\n",
       "      <td>100.000000</td>\n",
       "      <td>100.000000</td>\n",
       "      <td>100.000000</td>\n",
       "      <td>100.000000</td>\n",
       "    </tr>\n",
       "    <tr>\n",
       "      <th>mean</th>\n",
       "      <td>499.0</td>\n",
       "      <td>1000.0</td>\n",
       "      <td>275.450000</td>\n",
       "      <td>-0.505368</td>\n",
       "      <td>2.050326</td>\n",
       "      <td>4.500000</td>\n",
       "    </tr>\n",
       "    <tr>\n",
       "      <th>std</th>\n",
       "      <td>0.0</td>\n",
       "      <td>0.0</td>\n",
       "      <td>53.655349</td>\n",
       "      <td>3.366976</td>\n",
       "      <td>5.381595</td>\n",
       "      <td>2.886751</td>\n",
       "    </tr>\n",
       "    <tr>\n",
       "      <th>min</th>\n",
       "      <td>499.0</td>\n",
       "      <td>1000.0</td>\n",
       "      <td>96.000000</td>\n",
       "      <td>-8.496769</td>\n",
       "      <td>-10.449944</td>\n",
       "      <td>0.000000</td>\n",
       "    </tr>\n",
       "    <tr>\n",
       "      <th>25%</th>\n",
       "      <td>499.0</td>\n",
       "      <td>1000.0</td>\n",
       "      <td>239.250000</td>\n",
       "      <td>-2.279855</td>\n",
       "      <td>-1.437725</td>\n",
       "      <td>2.000000</td>\n",
       "    </tr>\n",
       "    <tr>\n",
       "      <th>50%</th>\n",
       "      <td>499.0</td>\n",
       "      <td>1000.0</td>\n",
       "      <td>290.000000</td>\n",
       "      <td>-0.268499</td>\n",
       "      <td>2.007872</td>\n",
       "      <td>4.500000</td>\n",
       "    </tr>\n",
       "    <tr>\n",
       "      <th>75%</th>\n",
       "      <td>499.0</td>\n",
       "      <td>1000.0</td>\n",
       "      <td>316.250000</td>\n",
       "      <td>1.740830</td>\n",
       "      <td>5.898661</td>\n",
       "      <td>7.000000</td>\n",
       "    </tr>\n",
       "    <tr>\n",
       "      <th>max</th>\n",
       "      <td>499.0</td>\n",
       "      <td>1000.0</td>\n",
       "      <td>349.000000</td>\n",
       "      <td>6.401090</td>\n",
       "      <td>10.436269</td>\n",
       "      <td>9.000000</td>\n",
       "    </tr>\n",
       "  </tbody>\n",
       "</table>\n",
       "</div>"
      ],
      "text/plain": [
       "        time   agent       votes       pos_x       pos_y         run\n",
       "count  100.0   100.0  100.000000  100.000000  100.000000  100.000000\n",
       "mean   499.0  1000.0  275.450000   -0.505368    2.050326    4.500000\n",
       "std      0.0     0.0   53.655349    3.366976    5.381595    2.886751\n",
       "min    499.0  1000.0   96.000000   -8.496769  -10.449944    0.000000\n",
       "25%    499.0  1000.0  239.250000   -2.279855   -1.437725    2.000000\n",
       "50%    499.0  1000.0  290.000000   -0.268499    2.007872    4.500000\n",
       "75%    499.0  1000.0  316.250000    1.740830    5.898661    7.000000\n",
       "max    499.0  1000.0  349.000000    6.401090   10.436269    9.000000"
      ]
     },
     "execution_count": 10,
     "metadata": {},
     "output_type": "execute_result"
    }
   ],
   "source": [
    "df[df['time'] == 499].describe()"
   ]
  },
  {
   "cell_type": "code",
   "execution_count": 11,
   "metadata": {},
   "outputs": [],
   "source": [
    "df = df[df['time'] == 499]"
   ]
  },
  {
   "cell_type": "code",
   "execution_count": 12,
   "metadata": {},
   "outputs": [],
   "source": [
    "df = df.drop(columns=['time','pos', 'agent'])"
   ]
  },
  {
   "cell_type": "code",
   "execution_count": 13,
   "metadata": {},
   "outputs": [],
   "source": [
    "df['abs_x'] = abs(df['pos_x'])\n",
    "df['abs_y'] = abs(df['pos_y'])"
   ]
  },
  {
   "cell_type": "code",
   "execution_count": 14,
   "metadata": {},
   "outputs": [
    {
     "data": {
      "text/plain": [
       "array([[<matplotlib.axes._subplots.AxesSubplot object at 0x7fc3ee8dd208>],\n",
       "       [<matplotlib.axes._subplots.AxesSubplot object at 0x7fc3ee48ff28>],\n",
       "       [<matplotlib.axes._subplots.AxesSubplot object at 0x7fc3ee895518>],\n",
       "       [<matplotlib.axes._subplots.AxesSubplot object at 0x7fc3eebe35c0>],\n",
       "       [<matplotlib.axes._subplots.AxesSubplot object at 0x7fc3eebb7710>],\n",
       "       [<matplotlib.axes._subplots.AxesSubplot object at 0x7fc3ee589c88>]],\n",
       "      dtype=object)"
      ]
     },
     "execution_count": 14,
     "metadata": {},
     "output_type": "execute_result"
    },
    {
     "data": {
      "image/png": "[encoded data removed]",
      "text/plain": [
       "<Figure size 360x1440 with 6 Axes>"
      ]
     },
     "metadata": {
      "needs_background": "light"
     },
     "output_type": "display_data"
    }
   ],
   "source": [
    "df.hist(layout=(6,1), figsize=(5,20))"
   ]
  },
  {
   "cell_type": "code",
   "execution_count": 15,
   "metadata": {},
   "outputs": [
    {
     "data": {
      "text/plain": [
       "<matplotlib.axes._subplots.AxesSubplot at 0x7fc3eed3df28>"
      ]
     },
     "execution_count": 15,
     "metadata": {},
     "output_type": "execute_result"
    },
    {
     "data": {
      "image/png": "[encoded data removed]",
      "text/plain": [
       "<Figure size 432x288 with 1 Axes>"
      ]
     },
     "metadata": {
      "needs_background": "light"
     },
     "output_type": "display_data"
    }
   ],
   "source": [
    "df.boxplot(column=['votes'], whis=1)"
   ]
  },
  {
   "cell_type": "code",
   "execution_count": 16,
   "metadata": {},
   "outputs": [
    {
     "data": {
      "text/plain": [
       "<matplotlib.axes._subplots.AxesSubplot at 0x7fc3ef2d4908>"
      ]
     },
     "execution_count": 16,
     "metadata": {},
     "output_type": "execute_result"
    },
    {
     "data": {
      "image/png": "[encoded data removed]",
      "text/plain": [
       "<Figure size 432x288 with 1 Axes>"
      ]
     },
     "metadata": {
      "needs_background": "light"
     },
     "output_type": "display_data"
    }
   ],
   "source": [
    "df.boxplot(column=['votes'], whis=1, by='run')"
   ]
  },
  {
   "cell_type": "code",
   "execution_count": 17,
   "metadata": {},
   "outputs": [
    {
     "data": {
      "text/plain": [
       "<matplotlib.axes._subplots.AxesSubplot at 0x7fc3eec0bf98>"
      ]
     },
     "execution_count": 17,
     "metadata": {},
     "output_type": "execute_result"
    },
    {
     "data": {
      "image/png": "[encoded data removed]",
      "text/plain": [
       "<Figure size 432x288 with 1 Axes>"
      ]
     },
     "metadata": {
      "needs_background": "light"
     },
     "output_type": "display_data"
    }
   ],
   "source": [
    "df.boxplot(column=['pos_x','pos_y', 'abs_x','abs_y'], whis=1)"
   ]
  },
  {
   "cell_type": "code",
   "execution_count": 18,
   "metadata": {},
   "outputs": [
    {
     "data": {
      "text/plain": [
       "<matplotlib.axes._subplots.AxesSubplot at 0x7fc3eea217f0>"
      ]
     },
     "execution_count": 18,
     "metadata": {},
     "output_type": "execute_result"
    },
    {
     "data": {
      "image/png": "[encoded data removed]",
      "text/plain": [
       "<Figure size 432x288 with 2 Axes>"
      ]
     },
     "metadata": {
      "needs_background": "light"
     },
     "output_type": "display_data"
    }
   ],
   "source": [
    "df.plot.scatter(x='abs_y', y='votes', c='run', colormap='viridis')"
   ]
  },
  {
   "cell_type": "code",
   "execution_count": 19,
   "metadata": {},
   "outputs": [],
   "source": [
    "import statsmodels.api as sm\n",
    "from statsmodels.formula.api import ols"
   ]
  },
  {
   "cell_type": "code",
   "execution_count": 20,
   "metadata": {},
   "outputs": [
    {
     "data": {
      "text/html": [
       "<table class=\"simpletable\">\n",
       "<caption>OLS Regression Results</caption>\n",
       "<tr>\n",
       "  <th>Dep. Variable:</th>          <td>votes</td>      <th>  R-squared:         </th> <td>   0.734</td>\n",
       "</tr>\n",
       "<tr>\n",
       "  <th>Model:</th>                   <td>OLS</td>       <th>  Adj. R-squared:    </th> <td>   0.708</td>\n",
       "</tr>\n",
       "<tr>\n",
       "  <th>Method:</th>             <td>Least Squares</td>  <th>  F-statistic:       </th> <td>   27.64</td>\n",
       "</tr>\n",
       "<tr>\n",
       "  <th>Date:</th>             <td>Wed, 17 Jul 2019</td> <th>  Prob (F-statistic):</th> <td>2.70e-22</td>\n",
       "</tr>\n",
       "<tr>\n",
       "  <th>Time:</th>                 <td>12:14:52</td>     <th>  Log-Likelihood:    </th> <td> -473.37</td>\n",
       "</tr>\n",
       "<tr>\n",
       "  <th>No. Observations:</th>      <td>   100</td>      <th>  AIC:               </th> <td>   966.7</td>\n",
       "</tr>\n",
       "<tr>\n",
       "  <th>Df Residuals:</th>          <td>    90</td>      <th>  BIC:               </th> <td>   992.8</td>\n",
       "</tr>\n",
       "<tr>\n",
       "  <th>Df Model:</th>              <td>     9</td>      <th>                     </th>     <td> </td>   \n",
       "</tr>\n",
       "<tr>\n",
       "  <th>Covariance Type:</th>      <td>nonrobust</td>    <th>                     </th>     <td> </td>   \n",
       "</tr>\n",
       "</table>\n",
       "<table class=\"simpletable\">\n",
       "<tr>\n",
       "       <td></td>          <th>coef</th>     <th>std err</th>      <th>t</th>      <th>P>|t|</th>  <th>[0.025</th>    <th>0.975]</th>  \n",
       "</tr>\n",
       "<tr>\n",
       "  <th>Intercept</th>   <td>  305.5000</td> <td>    9.172</td> <td>   33.307</td> <td> 0.000</td> <td>  287.278</td> <td>  323.722</td>\n",
       "</tr>\n",
       "<tr>\n",
       "  <th>C(run)[T.1]</th> <td>  -65.3000</td> <td>   12.971</td> <td>   -5.034</td> <td> 0.000</td> <td>  -91.070</td> <td>  -39.530</td>\n",
       "</tr>\n",
       "<tr>\n",
       "  <th>C(run)[T.2]</th> <td>    4.6000</td> <td>   12.971</td> <td>    0.355</td> <td> 0.724</td> <td>  -21.170</td> <td>   30.370</td>\n",
       "</tr>\n",
       "<tr>\n",
       "  <th>C(run)[T.3]</th> <td> -124.4000</td> <td>   12.971</td> <td>   -9.590</td> <td> 0.000</td> <td> -150.170</td> <td>  -98.630</td>\n",
       "</tr>\n",
       "<tr>\n",
       "  <th>C(run)[T.4]</th> <td>   12.1000</td> <td>   12.971</td> <td>    0.933</td> <td> 0.353</td> <td>  -13.670</td> <td>   37.870</td>\n",
       "</tr>\n",
       "<tr>\n",
       "  <th>C(run)[T.5]</th> <td>  -82.8000</td> <td>   12.971</td> <td>   -6.383</td> <td> 0.000</td> <td> -108.570</td> <td>  -57.030</td>\n",
       "</tr>\n",
       "<tr>\n",
       "  <th>C(run)[T.6]</th> <td>  -51.3000</td> <td>   12.971</td> <td>   -3.955</td> <td> 0.000</td> <td>  -77.070</td> <td>  -25.530</td>\n",
       "</tr>\n",
       "<tr>\n",
       "  <th>C(run)[T.7]</th> <td>   21.3000</td> <td>   12.971</td> <td>    1.642</td> <td> 0.104</td> <td>   -4.470</td> <td>   47.070</td>\n",
       "</tr>\n",
       "<tr>\n",
       "  <th>C(run)[T.8]</th> <td>   -6.1000</td> <td>   12.971</td> <td>   -0.470</td> <td> 0.639</td> <td>  -31.870</td> <td>   19.670</td>\n",
       "</tr>\n",
       "<tr>\n",
       "  <th>C(run)[T.9]</th> <td>   -8.6000</td> <td>   12.971</td> <td>   -0.663</td> <td> 0.509</td> <td>  -34.370</td> <td>   17.170</td>\n",
       "</tr>\n",
       "</table>\n",
       "<table class=\"simpletable\">\n",
       "<tr>\n",
       "  <th>Omnibus:</th>       <td>17.640</td> <th>  Durbin-Watson:     </th> <td>   2.539</td>\n",
       "</tr>\n",
       "<tr>\n",
       "  <th>Prob(Omnibus):</th> <td> 0.000</td> <th>  Jarque-Bera (JB):  </th> <td>  28.012</td>\n",
       "</tr>\n",
       "<tr>\n",
       "  <th>Skew:</th>          <td>-0.769</td> <th>  Prob(JB):          </th> <td>8.27e-07</td>\n",
       "</tr>\n",
       "<tr>\n",
       "  <th>Kurtosis:</th>      <td> 5.088</td> <th>  Cond. No.          </th> <td>    10.9</td>\n",
       "</tr>\n",
       "</table><br/><br/>Warnings:<br/>[1] Standard Errors assume that the covariance matrix of the errors is correctly specified."
      ],
      "text/plain": [
       "<class 'statsmodels.iolib.summary.Summary'>\n",
       "\"\"\"\n",
       "                            OLS Regression Results                            \n",
       "==============================================================================\n",
       "Dep. Variable:                  votes   R-squared:                       0.734\n",
       "Model:                            OLS   Adj. R-squared:                  0.708\n",
       "Method:                 Least Squares   F-statistic:                     27.64\n",
       "Date:                Wed, 17 Jul 2019   Prob (F-statistic):           2.70e-22\n",
       "Time:                        12:14:52   Log-Likelihood:                -473.37\n",
       "No. Observations:                 100   AIC:                             966.7\n",
       "Df Residuals:                      90   BIC:                             992.8\n",
       "Df Model:                           9                                         \n",
       "Covariance Type:            nonrobust                                         \n",
       "===============================================================================\n",
       "                  coef    std err          t      P>|t|      [0.025      0.975]\n",
       "-------------------------------------------------------------------------------\n",
       "Intercept     305.5000      9.172     33.307      0.000     287.278     323.722\n",
       "C(run)[T.1]   -65.3000     12.971     -5.034      0.000     -91.070     -39.530\n",
       "C(run)[T.2]     4.6000     12.971      0.355      0.724     -21.170      30.370\n",
       "C(run)[T.3]  -124.4000     12.971     -9.590      0.000    -150.170     -98.630\n",
       "C(run)[T.4]    12.1000     12.971      0.933      0.353     -13.670      37.870\n",
       "C(run)[T.5]   -82.8000     12.971     -6.383      0.000    -108.570     -57.030\n",
       "C(run)[T.6]   -51.3000     12.971     -3.955      0.000     -77.070     -25.530\n",
       "C(run)[T.7]    21.3000     12.971      1.642      0.104      -4.470      47.070\n",
       "C(run)[T.8]    -6.1000     12.971     -0.470      0.639     -31.870      19.670\n",
       "C(run)[T.9]    -8.6000     12.971     -0.663      0.509     -34.370      17.170\n",
       "==============================================================================\n",
       "Omnibus:                       17.640   Durbin-Watson:                   2.539\n",
       "Prob(Omnibus):                  0.000   Jarque-Bera (JB):               28.012\n",
       "Skew:                          -0.769   Prob(JB):                     8.27e-07\n",
       "Kurtosis:                       5.088   Cond. No.                         10.9\n",
       "==============================================================================\n",
       "\n",
       "Warnings:\n",
       "[1] Standard Errors assume that the covariance matrix of the errors is correctly specified.\n",
       "\"\"\""
      ]
     },
     "execution_count": 20,
     "metadata": {},
     "output_type": "execute_result"
    }
   ],
   "source": [
    "linreg = ols('votes ~ C(run)', data=df).fit()\n",
    "linreg.summary()"
   ]
  },
  {
   "cell_type": "code",
   "execution_count": 21,
   "metadata": {},
   "outputs": [
    {
     "data": {
      "text/html": [
       "<div>\n",
       "<style scoped>\n",
       "    .dataframe tbody tr th:only-of-type {\n",
       "        vertical-align: middle;\n",
       "    }\n",
       "\n",
       "    .dataframe tbody tr th {\n",
       "        vertical-align: top;\n",
       "    }\n",
       "\n",
       "    .dataframe thead th {\n",
       "        text-align: right;\n",
       "    }\n",
       "</style>\n",
       "<table border=\"1\" class=\"dataframe\">\n",
       "  <thead>\n",
       "    <tr style=\"text-align: right;\">\n",
       "      <th></th>\n",
       "      <th>df</th>\n",
       "      <th>sum_sq</th>\n",
       "      <th>mean_sq</th>\n",
       "      <th>F</th>\n",
       "      <th>PR(&gt;F)</th>\n",
       "    </tr>\n",
       "  </thead>\n",
       "  <tbody>\n",
       "    <tr>\n",
       "      <th>C(run)</th>\n",
       "      <td>9.0</td>\n",
       "      <td>209293.85</td>\n",
       "      <td>23254.872222</td>\n",
       "      <td>27.64163</td>\n",
       "      <td>2.704062e-22</td>\n",
       "    </tr>\n",
       "    <tr>\n",
       "      <th>Residual</th>\n",
       "      <td>90.0</td>\n",
       "      <td>75716.90</td>\n",
       "      <td>841.298889</td>\n",
       "      <td>NaN</td>\n",
       "      <td>NaN</td>\n",
       "    </tr>\n",
       "  </tbody>\n",
       "</table>\n",
       "</div>"
      ],
      "text/plain": [
       "            df     sum_sq       mean_sq         F        PR(>F)\n",
       "C(run)     9.0  209293.85  23254.872222  27.64163  2.704062e-22\n",
       "Residual  90.0   75716.90    841.298889       NaN           NaN"
      ]
     },
     "execution_count": 21,
     "metadata": {},
     "output_type": "execute_result"
    }
   ],
   "source": [
    "aov_table = sm.stats.anova_lm(linreg)\n",
    "aov_table"
   ]
  },
  {
   "cell_type": "code",
   "execution_count": 22,
   "metadata": {},
   "outputs": [
    {
     "data": {
      "text/html": [
       "<table class=\"simpletable\">\n",
       "<caption>OLS Regression Results</caption>\n",
       "<tr>\n",
       "  <th>Dep. Variable:</th>          <td>abs_x</td>      <th>  R-squared:         </th> <td>   0.835</td>\n",
       "</tr>\n",
       "<tr>\n",
       "  <th>Model:</th>                   <td>OLS</td>       <th>  Adj. R-squared:    </th> <td>   0.818</td>\n",
       "</tr>\n",
       "<tr>\n",
       "  <th>Method:</th>             <td>Least Squares</td>  <th>  F-statistic:       </th> <td>   50.57</td>\n",
       "</tr>\n",
       "<tr>\n",
       "  <th>Date:</th>             <td>Wed, 17 Jul 2019</td> <th>  Prob (F-statistic):</th> <td>2.11e-31</td>\n",
       "</tr>\n",
       "<tr>\n",
       "  <th>Time:</th>                 <td>12:14:53</td>     <th>  Log-Likelihood:    </th> <td> -125.31</td>\n",
       "</tr>\n",
       "<tr>\n",
       "  <th>No. Observations:</th>      <td>   100</td>      <th>  AIC:               </th> <td>   270.6</td>\n",
       "</tr>\n",
       "<tr>\n",
       "  <th>Df Residuals:</th>          <td>    90</td>      <th>  BIC:               </th> <td>   296.7</td>\n",
       "</tr>\n",
       "<tr>\n",
       "  <th>Df Model:</th>              <td>     9</td>      <th>                     </th>     <td> </td>   \n",
       "</tr>\n",
       "<tr>\n",
       "  <th>Covariance Type:</th>      <td>nonrobust</td>    <th>                     </th>     <td> </td>   \n",
       "</tr>\n",
       "</table>\n",
       "<table class=\"simpletable\">\n",
       "<tr>\n",
       "       <td></td>          <th>coef</th>     <th>std err</th>      <th>t</th>      <th>P>|t|</th>  <th>[0.025</th>    <th>0.975]</th>  \n",
       "</tr>\n",
       "<tr>\n",
       "  <th>Intercept</th>   <td>    1.5051</td> <td>    0.282</td> <td>    5.330</td> <td> 0.000</td> <td>    0.944</td> <td>    2.066</td>\n",
       "</tr>\n",
       "<tr>\n",
       "  <th>C(run)[T.1]</th> <td>   -0.2552</td> <td>    0.399</td> <td>   -0.639</td> <td> 0.524</td> <td>   -1.049</td> <td>    0.538</td>\n",
       "</tr>\n",
       "<tr>\n",
       "  <th>C(run)[T.2]</th> <td>   -0.1821</td> <td>    0.399</td> <td>   -0.456</td> <td> 0.649</td> <td>   -0.976</td> <td>    0.611</td>\n",
       "</tr>\n",
       "<tr>\n",
       "  <th>C(run)[T.3]</th> <td>    5.3177</td> <td>    0.399</td> <td>   13.316</td> <td> 0.000</td> <td>    4.524</td> <td>    6.111</td>\n",
       "</tr>\n",
       "<tr>\n",
       "  <th>C(run)[T.4]</th> <td>   -0.7005</td> <td>    0.399</td> <td>   -1.754</td> <td> 0.083</td> <td>   -1.494</td> <td>    0.093</td>\n",
       "</tr>\n",
       "<tr>\n",
       "  <th>C(run)[T.5]</th> <td>    3.3957</td> <td>    0.399</td> <td>    8.503</td> <td> 0.000</td> <td>    2.602</td> <td>    4.189</td>\n",
       "</tr>\n",
       "<tr>\n",
       "  <th>C(run)[T.6]</th> <td>    2.6043</td> <td>    0.399</td> <td>    6.521</td> <td> 0.000</td> <td>    1.811</td> <td>    3.398</td>\n",
       "</tr>\n",
       "<tr>\n",
       "  <th>C(run)[T.7]</th> <td>   -0.6300</td> <td>    0.399</td> <td>   -1.577</td> <td> 0.118</td> <td>   -1.423</td> <td>    0.163</td>\n",
       "</tr>\n",
       "<tr>\n",
       "  <th>C(run)[T.8]</th> <td>    0.8462</td> <td>    0.399</td> <td>    2.119</td> <td> 0.037</td> <td>    0.053</td> <td>    1.640</td>\n",
       "</tr>\n",
       "<tr>\n",
       "  <th>C(run)[T.9]</th> <td>    1.2575</td> <td>    0.399</td> <td>    3.149</td> <td> 0.002</td> <td>    0.464</td> <td>    2.051</td>\n",
       "</tr>\n",
       "</table>\n",
       "<table class=\"simpletable\">\n",
       "<tr>\n",
       "  <th>Omnibus:</th>       <td>10.927</td> <th>  Durbin-Watson:     </th> <td>   2.349</td>\n",
       "</tr>\n",
       "<tr>\n",
       "  <th>Prob(Omnibus):</th> <td> 0.004</td> <th>  Jarque-Bera (JB):  </th> <td>  12.027</td>\n",
       "</tr>\n",
       "<tr>\n",
       "  <th>Skew:</th>          <td> 0.647</td> <th>  Prob(JB):          </th> <td> 0.00245</td>\n",
       "</tr>\n",
       "<tr>\n",
       "  <th>Kurtosis:</th>      <td> 4.102</td> <th>  Cond. No.          </th> <td>    10.9</td>\n",
       "</tr>\n",
       "</table><br/><br/>Warnings:<br/>[1] Standard Errors assume that the covariance matrix of the errors is correctly specified."
      ],
      "text/plain": [
       "<class 'statsmodels.iolib.summary.Summary'>\n",
       "\"\"\"\n",
       "                            OLS Regression Results                            \n",
       "==============================================================================\n",
       "Dep. Variable:                  abs_x   R-squared:                       0.835\n",
       "Model:                            OLS   Adj. R-squared:                  0.818\n",
       "Method:                 Least Squares   F-statistic:                     50.57\n",
       "Date:                Wed, 17 Jul 2019   Prob (F-statistic):           2.11e-31\n",
       "Time:                        12:14:53   Log-Likelihood:                -125.31\n",
       "No. Observations:                 100   AIC:                             270.6\n",
       "Df Residuals:                      90   BIC:                             296.7\n",
       "Df Model:                           9                                         \n",
       "Covariance Type:            nonrobust                                         \n",
       "===============================================================================\n",
       "                  coef    std err          t      P>|t|      [0.025      0.975]\n",
       "-------------------------------------------------------------------------------\n",
       "Intercept       1.5051      0.282      5.330      0.000       0.944       2.066\n",
       "C(run)[T.1]    -0.2552      0.399     -0.639      0.524      -1.049       0.538\n",
       "C(run)[T.2]    -0.1821      0.399     -0.456      0.649      -0.976       0.611\n",
       "C(run)[T.3]     5.3177      0.399     13.316      0.000       4.524       6.111\n",
       "C(run)[T.4]    -0.7005      0.399     -1.754      0.083      -1.494       0.093\n",
       "C(run)[T.5]     3.3957      0.399      8.503      0.000       2.602       4.189\n",
       "C(run)[T.6]     2.6043      0.399      6.521      0.000       1.811       3.398\n",
       "C(run)[T.7]    -0.6300      0.399     -1.577      0.118      -1.423       0.163\n",
       "C(run)[T.8]     0.8462      0.399      2.119      0.037       0.053       1.640\n",
       "C(run)[T.9]     1.2575      0.399      3.149      0.002       0.464       2.051\n",
       "==============================================================================\n",
       "Omnibus:                       10.927   Durbin-Watson:                   2.349\n",
       "Prob(Omnibus):                  0.004   Jarque-Bera (JB):               12.027\n",
       "Skew:                           0.647   Prob(JB):                      0.00245\n",
       "Kurtosis:                       4.102   Cond. No.                         10.9\n",
       "==============================================================================\n",
       "\n",
       "Warnings:\n",
       "[1] Standard Errors assume that the covariance matrix of the errors is correctly specified.\n",
       "\"\"\""
      ]
     },
     "execution_count": 22,
     "metadata": {},
     "output_type": "execute_result"
    }
   ],
   "source": [
    "linreg = ols('abs_x ~ C(run)', data=df).fit()\n",
    "linreg.summary()"
   ]
  },
  {
   "cell_type": "code",
   "execution_count": 23,
   "metadata": {},
   "outputs": [
    {
     "data": {
      "text/html": [
       "<div>\n",
       "<style scoped>\n",
       "    .dataframe tbody tr th:only-of-type {\n",
       "        vertical-align: middle;\n",
       "    }\n",
       "\n",
       "    .dataframe tbody tr th {\n",
       "        vertical-align: top;\n",
       "    }\n",
       "\n",
       "    .dataframe thead th {\n",
       "        text-align: right;\n",
       "    }\n",
       "</style>\n",
       "<table border=\"1\" class=\"dataframe\">\n",
       "  <thead>\n",
       "    <tr style=\"text-align: right;\">\n",
       "      <th></th>\n",
       "      <th>df</th>\n",
       "      <th>sum_sq</th>\n",
       "      <th>mean_sq</th>\n",
       "      <th>F</th>\n",
       "      <th>PR(&gt;F)</th>\n",
       "    </tr>\n",
       "  </thead>\n",
       "  <tbody>\n",
       "    <tr>\n",
       "      <th>C(run)</th>\n",
       "      <td>9.0</td>\n",
       "      <td>362.931628</td>\n",
       "      <td>40.325736</td>\n",
       "      <td>50.571676</td>\n",
       "      <td>2.111529e-31</td>\n",
       "    </tr>\n",
       "    <tr>\n",
       "      <th>Residual</th>\n",
       "      <td>90.0</td>\n",
       "      <td>71.765790</td>\n",
       "      <td>0.797398</td>\n",
       "      <td>NaN</td>\n",
       "      <td>NaN</td>\n",
       "    </tr>\n",
       "  </tbody>\n",
       "</table>\n",
       "</div>"
      ],
      "text/plain": [
       "            df      sum_sq    mean_sq          F        PR(>F)\n",
       "C(run)     9.0  362.931628  40.325736  50.571676  2.111529e-31\n",
       "Residual  90.0   71.765790   0.797398        NaN           NaN"
      ]
     },
     "execution_count": 23,
     "metadata": {},
     "output_type": "execute_result"
    }
   ],
   "source": [
    "aov_table = sm.stats.anova_lm(linreg)\n",
    "aov_table"
   ]
  },
  {
   "cell_type": "code",
   "execution_count": 24,
   "metadata": {},
   "outputs": [
    {
     "data": {
      "text/html": [
       "<table class=\"simpletable\">\n",
       "<caption>OLS Regression Results</caption>\n",
       "<tr>\n",
       "  <th>Dep. Variable:</th>          <td>pos_x</td>      <th>  R-squared:         </th> <td>   0.928</td>\n",
       "</tr>\n",
       "<tr>\n",
       "  <th>Model:</th>                   <td>OLS</td>       <th>  Adj. R-squared:    </th> <td>   0.921</td>\n",
       "</tr>\n",
       "<tr>\n",
       "  <th>Method:</th>             <td>Least Squares</td>  <th>  F-statistic:       </th> <td>   129.4</td>\n",
       "</tr>\n",
       "<tr>\n",
       "  <th>Date:</th>             <td>Wed, 17 Jul 2019</td> <th>  Prob (F-statistic):</th> <td>1.55e-47</td>\n",
       "</tr>\n",
       "<tr>\n",
       "  <th>Time:</th>                 <td>12:14:53</td>     <th>  Log-Likelihood:    </th> <td> -131.05</td>\n",
       "</tr>\n",
       "<tr>\n",
       "  <th>No. Observations:</th>      <td>   100</td>      <th>  AIC:               </th> <td>   282.1</td>\n",
       "</tr>\n",
       "<tr>\n",
       "  <th>Df Residuals:</th>          <td>    90</td>      <th>  BIC:               </th> <td>   308.2</td>\n",
       "</tr>\n",
       "<tr>\n",
       "  <th>Df Model:</th>              <td>     9</td>      <th>                     </th>     <td> </td>   \n",
       "</tr>\n",
       "<tr>\n",
       "  <th>Covariance Type:</th>      <td>nonrobust</td>    <th>                     </th>     <td> </td>   \n",
       "</tr>\n",
       "</table>\n",
       "<table class=\"simpletable\">\n",
       "<tr>\n",
       "       <td></td>          <th>coef</th>     <th>std err</th>      <th>t</th>      <th>P>|t|</th>  <th>[0.025</th>    <th>0.975]</th>  \n",
       "</tr>\n",
       "<tr>\n",
       "  <th>Intercept</th>   <td>   -1.5051</td> <td>    0.299</td> <td>   -5.033</td> <td> 0.000</td> <td>   -2.099</td> <td>   -0.911</td>\n",
       "</tr>\n",
       "<tr>\n",
       "  <th>C(run)[T.1]</th> <td>    2.7332</td> <td>    0.423</td> <td>    6.462</td> <td> 0.000</td> <td>    1.893</td> <td>    3.573</td>\n",
       "</tr>\n",
       "<tr>\n",
       "  <th>C(run)[T.2]</th> <td>    2.8226</td> <td>    0.423</td> <td>    6.673</td> <td> 0.000</td> <td>    1.982</td> <td>    3.663</td>\n",
       "</tr>\n",
       "<tr>\n",
       "  <th>C(run)[T.3]</th> <td>   -5.3177</td> <td>    0.423</td> <td>  -12.573</td> <td> 0.000</td> <td>   -6.158</td> <td>   -4.477</td>\n",
       "</tr>\n",
       "<tr>\n",
       "  <th>C(run)[T.4]</th> <td>    0.7700</td> <td>    0.423</td> <td>    1.820</td> <td> 0.072</td> <td>   -0.070</td> <td>    1.610</td>\n",
       "</tr>\n",
       "<tr>\n",
       "  <th>C(run)[T.5]</th> <td>    6.4060</td> <td>    0.423</td> <td>   15.146</td> <td> 0.000</td> <td>    5.566</td> <td>    7.246</td>\n",
       "</tr>\n",
       "<tr>\n",
       "  <th>C(run)[T.6]</th> <td>   -2.6043</td> <td>    0.423</td> <td>   -6.157</td> <td> 0.000</td> <td>   -3.445</td> <td>   -1.764</td>\n",
       "</tr>\n",
       "<tr>\n",
       "  <th>C(run)[T.7]</th> <td>    1.7663</td> <td>    0.423</td> <td>    4.176</td> <td> 0.000</td> <td>    0.926</td> <td>    2.607</td>\n",
       "</tr>\n",
       "<tr>\n",
       "  <th>C(run)[T.8]</th> <td>   -0.8462</td> <td>    0.423</td> <td>   -2.001</td> <td> 0.048</td> <td>   -1.686</td> <td>   -0.006</td>\n",
       "</tr>\n",
       "<tr>\n",
       "  <th>C(run)[T.9]</th> <td>    4.2678</td> <td>    0.423</td> <td>   10.090</td> <td> 0.000</td> <td>    3.428</td> <td>    5.108</td>\n",
       "</tr>\n",
       "</table>\n",
       "<table class=\"simpletable\">\n",
       "<tr>\n",
       "  <th>Omnibus:</th>       <td> 2.541</td> <th>  Durbin-Watson:     </th> <td>   2.452</td>\n",
       "</tr>\n",
       "<tr>\n",
       "  <th>Prob(Omnibus):</th> <td> 0.281</td> <th>  Jarque-Bera (JB):  </th> <td>   2.315</td>\n",
       "</tr>\n",
       "<tr>\n",
       "  <th>Skew:</th>          <td>-0.029</td> <th>  Prob(JB):          </th> <td>   0.314</td>\n",
       "</tr>\n",
       "<tr>\n",
       "  <th>Kurtosis:</th>      <td> 3.743</td> <th>  Cond. No.          </th> <td>    10.9</td>\n",
       "</tr>\n",
       "</table><br/><br/>Warnings:<br/>[1] Standard Errors assume that the covariance matrix of the errors is correctly specified."
      ],
      "text/plain": [
       "<class 'statsmodels.iolib.summary.Summary'>\n",
       "\"\"\"\n",
       "                            OLS Regression Results                            \n",
       "==============================================================================\n",
       "Dep. Variable:                  pos_x   R-squared:                       0.928\n",
       "Model:                            OLS   Adj. R-squared:                  0.921\n",
       "Method:                 Least Squares   F-statistic:                     129.4\n",
       "Date:                Wed, 17 Jul 2019   Prob (F-statistic):           1.55e-47\n",
       "Time:                        12:14:53   Log-Likelihood:                -131.05\n",
       "No. Observations:                 100   AIC:                             282.1\n",
       "Df Residuals:                      90   BIC:                             308.2\n",
       "Df Model:                           9                                         \n",
       "Covariance Type:            nonrobust                                         \n",
       "===============================================================================\n",
       "                  coef    std err          t      P>|t|      [0.025      0.975]\n",
       "-------------------------------------------------------------------------------\n",
       "Intercept      -1.5051      0.299     -5.033      0.000      -2.099      -0.911\n",
       "C(run)[T.1]     2.7332      0.423      6.462      0.000       1.893       3.573\n",
       "C(run)[T.2]     2.8226      0.423      6.673      0.000       1.982       3.663\n",
       "C(run)[T.3]    -5.3177      0.423    -12.573      0.000      -6.158      -4.477\n",
       "C(run)[T.4]     0.7700      0.423      1.820      0.072      -0.070       1.610\n",
       "C(run)[T.5]     6.4060      0.423     15.146      0.000       5.566       7.246\n",
       "C(run)[T.6]    -2.6043      0.423     -6.157      0.000      -3.445      -1.764\n",
       "C(run)[T.7]     1.7663      0.423      4.176      0.000       0.926       2.607\n",
       "C(run)[T.8]    -0.8462      0.423     -2.001      0.048      -1.686      -0.006\n",
       "C(run)[T.9]     4.2678      0.423     10.090      0.000       3.428       5.108\n",
       "==============================================================================\n",
       "Omnibus:                        2.541   Durbin-Watson:                   2.452\n",
       "Prob(Omnibus):                  0.281   Jarque-Bera (JB):                2.315\n",
       "Skew:                          -0.029   Prob(JB):                        0.314\n",
       "Kurtosis:                       3.743   Cond. No.                         10.9\n",
       "==============================================================================\n",
       "\n",
       "Warnings:\n",
       "[1] Standard Errors assume that the covariance matrix of the errors is correctly specified.\n",
       "\"\"\""
      ]
     },
     "execution_count": 24,
     "metadata": {},
     "output_type": "execute_result"
    }
   ],
   "source": [
    "linreg = ols('pos_x ~ C(run)', data=df).fit()\n",
    "linreg.summary()"
   ]
  },
  {
   "cell_type": "code",
   "execution_count": 25,
   "metadata": {},
   "outputs": [
    {
     "data": {
      "text/html": [
       "<div>\n",
       "<style scoped>\n",
       "    .dataframe tbody tr th:only-of-type {\n",
       "        vertical-align: middle;\n",
       "    }\n",
       "\n",
       "    .dataframe tbody tr th {\n",
       "        vertical-align: top;\n",
       "    }\n",
       "\n",
       "    .dataframe thead th {\n",
       "        text-align: right;\n",
       "    }\n",
       "</style>\n",
       "<table border=\"1\" class=\"dataframe\">\n",
       "  <thead>\n",
       "    <tr style=\"text-align: right;\">\n",
       "      <th></th>\n",
       "      <th>df</th>\n",
       "      <th>sum_sq</th>\n",
       "      <th>mean_sq</th>\n",
       "      <th>F</th>\n",
       "      <th>PR(&gt;F)</th>\n",
       "    </tr>\n",
       "  </thead>\n",
       "  <tbody>\n",
       "    <tr>\n",
       "      <th>C(run)</th>\n",
       "      <td>9.0</td>\n",
       "      <td>1041.812973</td>\n",
       "      <td>115.756997</td>\n",
       "      <td>129.412775</td>\n",
       "      <td>1.549689e-47</td>\n",
       "    </tr>\n",
       "    <tr>\n",
       "      <th>Residual</th>\n",
       "      <td>90.0</td>\n",
       "      <td>80.503102</td>\n",
       "      <td>0.894479</td>\n",
       "      <td>NaN</td>\n",
       "      <td>NaN</td>\n",
       "    </tr>\n",
       "  </tbody>\n",
       "</table>\n",
       "</div>"
      ],
      "text/plain": [
       "            df       sum_sq     mean_sq           F        PR(>F)\n",
       "C(run)     9.0  1041.812973  115.756997  129.412775  1.549689e-47\n",
       "Residual  90.0    80.503102    0.894479         NaN           NaN"
      ]
     },
     "execution_count": 25,
     "metadata": {},
     "output_type": "execute_result"
    }
   ],
   "source": [
    "aov_table = sm.stats.anova_lm(linreg)\n",
    "aov_table"
   ]
  },
  {
   "cell_type": "code",
   "execution_count": 26,
   "metadata": {},
   "outputs": [
    {
     "data": {
      "text/html": [
       "<table class=\"simpletable\">\n",
       "<caption>OLS Regression Results</caption>\n",
       "<tr>\n",
       "  <th>Dep. Variable:</th>          <td>votes</td>      <th>  R-squared:         </th> <td>   0.740</td>\n",
       "</tr>\n",
       "<tr>\n",
       "  <th>Model:</th>                   <td>OLS</td>       <th>  Adj. R-squared:    </th> <td>   0.708</td>\n",
       "</tr>\n",
       "<tr>\n",
       "  <th>Method:</th>             <td>Least Squares</td>  <th>  F-statistic:       </th> <td>   22.79</td>\n",
       "</tr>\n",
       "<tr>\n",
       "  <th>Date:</th>             <td>Wed, 17 Jul 2019</td> <th>  Prob (F-statistic):</th> <td>2.95e-21</td>\n",
       "</tr>\n",
       "<tr>\n",
       "  <th>Time:</th>                 <td>12:14:54</td>     <th>  Log-Likelihood:    </th> <td> -472.27</td>\n",
       "</tr>\n",
       "<tr>\n",
       "  <th>No. Observations:</th>      <td>   100</td>      <th>  AIC:               </th> <td>   968.5</td>\n",
       "</tr>\n",
       "<tr>\n",
       "  <th>Df Residuals:</th>          <td>    88</td>      <th>  BIC:               </th> <td>   999.8</td>\n",
       "</tr>\n",
       "<tr>\n",
       "  <th>Df Model:</th>              <td>    11</td>      <th>                     </th>     <td> </td>   \n",
       "</tr>\n",
       "<tr>\n",
       "  <th>Covariance Type:</th>      <td>nonrobust</td>    <th>                     </th>     <td> </td>   \n",
       "</tr>\n",
       "</table>\n",
       "<table class=\"simpletable\">\n",
       "<tr>\n",
       "       <td></td>          <th>coef</th>     <th>std err</th>      <th>t</th>      <th>P>|t|</th>  <th>[0.025</th>    <th>0.975]</th>  \n",
       "</tr>\n",
       "<tr>\n",
       "  <th>Intercept</th>   <td>  299.1694</td> <td>   10.492</td> <td>   28.514</td> <td> 0.000</td> <td>  278.319</td> <td>  320.020</td>\n",
       "</tr>\n",
       "<tr>\n",
       "  <th>C(run)[T.1]</th> <td>  -61.7106</td> <td>   16.565</td> <td>   -3.725</td> <td> 0.000</td> <td>  -94.630</td> <td>  -28.791</td>\n",
       "</tr>\n",
       "<tr>\n",
       "  <th>C(run)[T.2]</th> <td>   18.0453</td> <td>   16.461</td> <td>    1.096</td> <td> 0.276</td> <td>  -14.667</td> <td>   50.757</td>\n",
       "</tr>\n",
       "<tr>\n",
       "  <th>C(run)[T.3]</th> <td> -141.9386</td> <td>   21.543</td> <td>   -6.589</td> <td> 0.000</td> <td> -184.750</td> <td>  -99.127</td>\n",
       "</tr>\n",
       "<tr>\n",
       "  <th>C(run)[T.4]</th> <td>   14.0468</td> <td>   13.222</td> <td>    1.062</td> <td> 0.291</td> <td>  -12.228</td> <td>   40.322</td>\n",
       "</tr>\n",
       "<tr>\n",
       "  <th>C(run)[T.5]</th> <td>  -60.0760</td> <td>   24.529</td> <td>   -2.449</td> <td> 0.016</td> <td> -108.823</td> <td>  -11.329</td>\n",
       "</tr>\n",
       "<tr>\n",
       "  <th>C(run)[T.6]</th> <td>  -61.1253</td> <td>   15.534</td> <td>   -3.935</td> <td> 0.000</td> <td>  -91.996</td> <td>  -30.255</td>\n",
       "</tr>\n",
       "<tr>\n",
       "  <th>C(run)[T.7]</th> <td>   28.3398</td> <td>   14.240</td> <td>    1.990</td> <td> 0.050</td> <td>    0.040</td> <td>   56.639</td>\n",
       "</tr>\n",
       "<tr>\n",
       "  <th>C(run)[T.8]</th> <td>  -10.1195</td> <td>   13.323</td> <td>   -0.760</td> <td> 0.450</td> <td>  -36.597</td> <td>   16.358</td>\n",
       "</tr>\n",
       "<tr>\n",
       "  <th>C(run)[T.9]</th> <td>    5.4922</td> <td>   18.943</td> <td>    0.290</td> <td> 0.773</td> <td>  -32.153</td> <td>   43.138</td>\n",
       "</tr>\n",
       "<tr>\n",
       "  <th>pos_x</th>       <td>   -3.5180</td> <td>    3.247</td> <td>   -1.084</td> <td> 0.282</td> <td>   -9.971</td> <td>    2.934</td>\n",
       "</tr>\n",
       "<tr>\n",
       "  <th>pos_y</th>       <td>    0.6864</td> <td>    0.695</td> <td>    0.987</td> <td> 0.326</td> <td>   -0.695</td> <td>    2.068</td>\n",
       "</tr>\n",
       "</table>\n",
       "<table class=\"simpletable\">\n",
       "<tr>\n",
       "  <th>Omnibus:</th>       <td>18.776</td> <th>  Durbin-Watson:     </th> <td>   2.507</td>\n",
       "</tr>\n",
       "<tr>\n",
       "  <th>Prob(Omnibus):</th> <td> 0.000</td> <th>  Jarque-Bera (JB):  </th> <td>  29.426</td>\n",
       "</tr>\n",
       "<tr>\n",
       "  <th>Skew:</th>          <td>-0.826</td> <th>  Prob(JB):          </th> <td>4.08e-07</td>\n",
       "</tr>\n",
       "<tr>\n",
       "  <th>Kurtosis:</th>      <td> 5.082</td> <th>  Cond. No.          </th> <td>    77.0</td>\n",
       "</tr>\n",
       "</table><br/><br/>Warnings:<br/>[1] Standard Errors assume that the covariance matrix of the errors is correctly specified."
      ],
      "text/plain": [
       "<class 'statsmodels.iolib.summary.Summary'>\n",
       "\"\"\"\n",
       "                            OLS Regression Results                            \n",
       "==============================================================================\n",
       "Dep. Variable:                  votes   R-squared:                       0.740\n",
       "Model:                            OLS   Adj. R-squared:                  0.708\n",
       "Method:                 Least Squares   F-statistic:                     22.79\n",
       "Date:                Wed, 17 Jul 2019   Prob (F-statistic):           2.95e-21\n",
       "Time:                        12:14:54   Log-Likelihood:                -472.27\n",
       "No. Observations:                 100   AIC:                             968.5\n",
       "Df Residuals:                      88   BIC:                             999.8\n",
       "Df Model:                          11                                         \n",
       "Covariance Type:            nonrobust                                         \n",
       "===============================================================================\n",
       "                  coef    std err          t      P>|t|      [0.025      0.975]\n",
       "-------------------------------------------------------------------------------\n",
       "Intercept     299.1694     10.492     28.514      0.000     278.319     320.020\n",
       "C(run)[T.1]   -61.7106     16.565     -3.725      0.000     -94.630     -28.791\n",
       "C(run)[T.2]    18.0453     16.461      1.096      0.276     -14.667      50.757\n",
       "C(run)[T.3]  -141.9386     21.543     -6.589      0.000    -184.750     -99.127\n",
       "C(run)[T.4]    14.0468     13.222      1.062      0.291     -12.228      40.322\n",
       "C(run)[T.5]   -60.0760     24.529     -2.449      0.016    -108.823     -11.329\n",
       "C(run)[T.6]   -61.1253     15.534     -3.935      0.000     -91.996     -30.255\n",
       "C(run)[T.7]    28.3398     14.240      1.990      0.050       0.040      56.639\n",
       "C(run)[T.8]   -10.1195     13.323     -0.760      0.450     -36.597      16.358\n",
       "C(run)[T.9]     5.4922     18.943      0.290      0.773     -32.153      43.138\n",
       "pos_x          -3.5180      3.247     -1.084      0.282      -9.971       2.934\n",
       "pos_y           0.6864      0.695      0.987      0.326      -0.695       2.068\n",
       "==============================================================================\n",
       "Omnibus:                       18.776   Durbin-Watson:                   2.507\n",
       "Prob(Omnibus):                  0.000   Jarque-Bera (JB):               29.426\n",
       "Skew:                          -0.826   Prob(JB):                     4.08e-07\n",
       "Kurtosis:                       5.082   Cond. No.                         77.0\n",
       "==============================================================================\n",
       "\n",
       "Warnings:\n",
       "[1] Standard Errors assume that the covariance matrix of the errors is correctly specified.\n",
       "\"\"\""
      ]
     },
     "execution_count": 26,
     "metadata": {},
     "output_type": "execute_result"
    }
   ],
   "source": [
    "mlr = linreg = ols('votes ~ C(run) + pos_x + pos_y', data=df).fit()\n",
    "linreg.summary()"
   ]
  },
  {
   "cell_type": "code",
   "execution_count": 27,
   "metadata": {},
   "outputs": [
    {
     "data": {
      "text/html": [
       "<table class=\"simpletable\">\n",
       "<caption>OLS Regression Results</caption>\n",
       "<tr>\n",
       "  <th>Dep. Variable:</th>          <td>votes</td>      <th>  R-squared:         </th> <td>   0.855</td>\n",
       "</tr>\n",
       "<tr>\n",
       "  <th>Model:</th>                   <td>OLS</td>       <th>  Adj. R-squared:    </th> <td>   0.837</td>\n",
       "</tr>\n",
       "<tr>\n",
       "  <th>Method:</th>             <td>Least Squares</td>  <th>  F-statistic:       </th> <td>   47.09</td>\n",
       "</tr>\n",
       "<tr>\n",
       "  <th>Date:</th>             <td>Wed, 17 Jul 2019</td> <th>  Prob (F-statistic):</th> <td>4.20e-32</td>\n",
       "</tr>\n",
       "<tr>\n",
       "  <th>Time:</th>                 <td>12:14:54</td>     <th>  Log-Likelihood:    </th> <td> -443.17</td>\n",
       "</tr>\n",
       "<tr>\n",
       "  <th>No. Observations:</th>      <td>   100</td>      <th>  AIC:               </th> <td>   910.3</td>\n",
       "</tr>\n",
       "<tr>\n",
       "  <th>Df Residuals:</th>          <td>    88</td>      <th>  BIC:               </th> <td>   941.6</td>\n",
       "</tr>\n",
       "<tr>\n",
       "  <th>Df Model:</th>              <td>    11</td>      <th>                     </th>     <td> </td>   \n",
       "</tr>\n",
       "<tr>\n",
       "  <th>Covariance Type:</th>      <td>nonrobust</td>    <th>                     </th>     <td> </td>   \n",
       "</tr>\n",
       "</table>\n",
       "<table class=\"simpletable\">\n",
       "<tr>\n",
       "       <td></td>          <th>coef</th>     <th>std err</th>      <th>t</th>      <th>P>|t|</th>  <th>[0.025</th>    <th>0.975]</th>  \n",
       "</tr>\n",
       "<tr>\n",
       "  <th>Intercept</th>   <td>  349.8774</td> <td>    8.657</td> <td>   40.415</td> <td> 0.000</td> <td>  332.673</td> <td>  367.082</td>\n",
       "</tr>\n",
       "<tr>\n",
       "  <th>C(run)[T.1]</th> <td>  -48.2744</td> <td>   10.804</td> <td>   -4.468</td> <td> 0.000</td> <td>  -69.745</td> <td>  -26.804</td>\n",
       "</tr>\n",
       "<tr>\n",
       "  <th>C(run)[T.2]</th> <td>   -2.2556</td> <td>    9.740</td> <td>   -0.232</td> <td> 0.817</td> <td>  -21.611</td> <td>   17.100</td>\n",
       "</tr>\n",
       "<tr>\n",
       "  <th>C(run)[T.3]</th> <td>  -30.4525</td> <td>   16.737</td> <td>   -1.819</td> <td> 0.072</td> <td>  -63.714</td> <td>    2.809</td>\n",
       "</tr>\n",
       "<tr>\n",
       "  <th>C(run)[T.4]</th> <td>   -8.0645</td> <td>    9.988</td> <td>   -0.807</td> <td> 0.422</td> <td>  -27.914</td> <td>   11.785</td>\n",
       "</tr>\n",
       "<tr>\n",
       "  <th>C(run)[T.5]</th> <td>  -19.0272</td> <td>   13.027</td> <td>   -1.461</td> <td> 0.148</td> <td>  -44.915</td> <td>    6.861</td>\n",
       "</tr>\n",
       "<tr>\n",
       "  <th>C(run)[T.6]</th> <td>   -4.6910</td> <td>   11.773</td> <td>   -0.398</td> <td> 0.691</td> <td>  -28.087</td> <td>   18.705</td>\n",
       "</tr>\n",
       "<tr>\n",
       "  <th>C(run)[T.7]</th> <td>    6.9595</td> <td>    9.850</td> <td>    0.707</td> <td> 0.482</td> <td>  -12.615</td> <td>   26.534</td>\n",
       "</tr>\n",
       "<tr>\n",
       "  <th>C(run)[T.8]</th> <td>    2.5255</td> <td>   10.052</td> <td>    0.251</td> <td> 0.802</td> <td>  -17.450</td> <td>   22.501</td>\n",
       "</tr>\n",
       "<tr>\n",
       "  <th>C(run)[T.9]</th> <td>    7.5462</td> <td>   10.332</td> <td>    0.730</td> <td> 0.467</td> <td>  -12.986</td> <td>   28.078</td>\n",
       "</tr>\n",
       "<tr>\n",
       "  <th>abs_x</th>       <td>  -17.6120</td> <td>    2.566</td> <td>   -6.864</td> <td> 0.000</td> <td>  -22.711</td> <td>  -12.513</td>\n",
       "</tr>\n",
       "<tr>\n",
       "  <th>abs_y</th>       <td>   -3.8286</td> <td>    0.831</td> <td>   -4.607</td> <td> 0.000</td> <td>   -5.480</td> <td>   -2.177</td>\n",
       "</tr>\n",
       "</table>\n",
       "<table class=\"simpletable\">\n",
       "<tr>\n",
       "  <th>Omnibus:</th>       <td> 1.134</td> <th>  Durbin-Watson:     </th> <td>   2.432</td>\n",
       "</tr>\n",
       "<tr>\n",
       "  <th>Prob(Omnibus):</th> <td> 0.567</td> <th>  Jarque-Bera (JB):  </th> <td>   1.106</td>\n",
       "</tr>\n",
       "<tr>\n",
       "  <th>Skew:</th>          <td>-0.119</td> <th>  Prob(JB):          </th> <td>   0.575</td>\n",
       "</tr>\n",
       "<tr>\n",
       "  <th>Kurtosis:</th>      <td> 2.543</td> <th>  Cond. No.          </th> <td>    73.8</td>\n",
       "</tr>\n",
       "</table><br/><br/>Warnings:<br/>[1] Standard Errors assume that the covariance matrix of the errors is correctly specified."
      ],
      "text/plain": [
       "<class 'statsmodels.iolib.summary.Summary'>\n",
       "\"\"\"\n",
       "                            OLS Regression Results                            \n",
       "==============================================================================\n",
       "Dep. Variable:                  votes   R-squared:                       0.855\n",
       "Model:                            OLS   Adj. R-squared:                  0.837\n",
       "Method:                 Least Squares   F-statistic:                     47.09\n",
       "Date:                Wed, 17 Jul 2019   Prob (F-statistic):           4.20e-32\n",
       "Time:                        12:14:54   Log-Likelihood:                -443.17\n",
       "No. Observations:                 100   AIC:                             910.3\n",
       "Df Residuals:                      88   BIC:                             941.6\n",
       "Df Model:                          11                                         \n",
       "Covariance Type:            nonrobust                                         \n",
       "===============================================================================\n",
       "                  coef    std err          t      P>|t|      [0.025      0.975]\n",
       "-------------------------------------------------------------------------------\n",
       "Intercept     349.8774      8.657     40.415      0.000     332.673     367.082\n",
       "C(run)[T.1]   -48.2744     10.804     -4.468      0.000     -69.745     -26.804\n",
       "C(run)[T.2]    -2.2556      9.740     -0.232      0.817     -21.611      17.100\n",
       "C(run)[T.3]   -30.4525     16.737     -1.819      0.072     -63.714       2.809\n",
       "C(run)[T.4]    -8.0645      9.988     -0.807      0.422     -27.914      11.785\n",
       "C(run)[T.5]   -19.0272     13.027     -1.461      0.148     -44.915       6.861\n",
       "C(run)[T.6]    -4.6910     11.773     -0.398      0.691     -28.087      18.705\n",
       "C(run)[T.7]     6.9595      9.850      0.707      0.482     -12.615      26.534\n",
       "C(run)[T.8]     2.5255     10.052      0.251      0.802     -17.450      22.501\n",
       "C(run)[T.9]     7.5462     10.332      0.730      0.467     -12.986      28.078\n",
       "abs_x         -17.6120      2.566     -6.864      0.000     -22.711     -12.513\n",
       "abs_y          -3.8286      0.831     -4.607      0.000      -5.480      -2.177\n",
       "==============================================================================\n",
       "Omnibus:                        1.134   Durbin-Watson:                   2.432\n",
       "Prob(Omnibus):                  0.567   Jarque-Bera (JB):                1.106\n",
       "Skew:                          -0.119   Prob(JB):                        0.575\n",
       "Kurtosis:                       2.543   Cond. No.                         73.8\n",
       "==============================================================================\n",
       "\n",
       "Warnings:\n",
       "[1] Standard Errors assume that the covariance matrix of the errors is correctly specified.\n",
       "\"\"\""
      ]
     },
     "execution_count": 27,
     "metadata": {},
     "output_type": "execute_result"
    }
   ],
   "source": [
    "mlr = linreg = ols('votes ~ C(run) + abs_x + abs_y', data=df).fit()\n",
    "linreg.summary()"
   ]
  },
  {
   "cell_type": "code",
   "execution_count": 28,
   "metadata": {},
   "outputs": [],
   "source": [
    "df['abs_y_t'] = abs (df['abs_y'] - 3.8)"
   ]
  },
  {
   "cell_type": "code",
   "execution_count": 29,
   "metadata": {},
   "outputs": [
    {
     "data": {
      "text/plain": [
       "<matplotlib.axes._subplots.AxesSubplot at 0x7fc3ecadc978>"
      ]
     },
     "execution_count": 29,
     "metadata": {},
     "output_type": "execute_result"
    },
    {
     "data": {
      "image/png": "[encoded data removed]",
      "text/plain": [
       "<Figure size 432x288 with 2 Axes>"
      ]
     },
     "metadata": {
      "needs_background": "light"
     },
     "output_type": "display_data"
    }
   ],
   "source": [
    "df.plot.scatter(x='abs_y_t', y='votes', c='run', colormap='viridis')"
   ]
  },
  {
   "cell_type": "code",
   "execution_count": 30,
   "metadata": {},
   "outputs": [
    {
     "data": {
      "text/html": [
       "<table class=\"simpletable\">\n",
       "<caption>OLS Regression Results</caption>\n",
       "<tr>\n",
       "  <th>Dep. Variable:</th>          <td>votes</td>      <th>  R-squared:         </th> <td>   0.901</td>\n",
       "</tr>\n",
       "<tr>\n",
       "  <th>Model:</th>                   <td>OLS</td>       <th>  Adj. R-squared:    </th> <td>   0.888</td>\n",
       "</tr>\n",
       "<tr>\n",
       "  <th>Method:</th>             <td>Least Squares</td>  <th>  F-statistic:       </th> <td>   72.56</td>\n",
       "</tr>\n",
       "<tr>\n",
       "  <th>Date:</th>             <td>Wed, 17 Jul 2019</td> <th>  Prob (F-statistic):</th> <td>2.89e-39</td>\n",
       "</tr>\n",
       "<tr>\n",
       "  <th>Time:</th>                 <td>12:14:55</td>     <th>  Log-Likelihood:    </th> <td> -424.17</td>\n",
       "</tr>\n",
       "<tr>\n",
       "  <th>No. Observations:</th>      <td>   100</td>      <th>  AIC:               </th> <td>   872.3</td>\n",
       "</tr>\n",
       "<tr>\n",
       "  <th>Df Residuals:</th>          <td>    88</td>      <th>  BIC:               </th> <td>   903.6</td>\n",
       "</tr>\n",
       "<tr>\n",
       "  <th>Df Model:</th>              <td>    11</td>      <th>                     </th>     <td> </td>   \n",
       "</tr>\n",
       "<tr>\n",
       "  <th>Covariance Type:</th>      <td>nonrobust</td>    <th>                     </th>     <td> </td>   \n",
       "</tr>\n",
       "</table>\n",
       "<table class=\"simpletable\">\n",
       "<tr>\n",
       "       <td></td>          <th>coef</th>     <th>std err</th>      <th>t</th>      <th>P>|t|</th>  <th>[0.025</th>    <th>0.975]</th>  \n",
       "</tr>\n",
       "<tr>\n",
       "  <th>Intercept</th>   <td>  353.5258</td> <td>    6.933</td> <td>   50.995</td> <td> 0.000</td> <td>  339.749</td> <td>  367.303</td>\n",
       "</tr>\n",
       "<tr>\n",
       "  <th>C(run)[T.1]</th> <td>  -24.7813</td> <td>    9.650</td> <td>   -2.568</td> <td> 0.012</td> <td>  -43.958</td> <td>   -5.605</td>\n",
       "</tr>\n",
       "<tr>\n",
       "  <th>C(run)[T.2]</th> <td>    5.1570</td> <td>    8.043</td> <td>    0.641</td> <td> 0.523</td> <td>  -10.826</td> <td>   21.140</td>\n",
       "</tr>\n",
       "<tr>\n",
       "  <th>C(run)[T.3]</th> <td>  -29.6424</td> <td>   13.827</td> <td>   -2.144</td> <td> 0.035</td> <td>  -57.121</td> <td>   -2.164</td>\n",
       "</tr>\n",
       "<tr>\n",
       "  <th>C(run)[T.4]</th> <td>   -2.4705</td> <td>    8.158</td> <td>   -0.303</td> <td> 0.763</td> <td>  -18.683</td> <td>   13.743</td>\n",
       "</tr>\n",
       "<tr>\n",
       "  <th>C(run)[T.5]</th> <td>   -8.0742</td> <td>   10.866</td> <td>   -0.743</td> <td> 0.459</td> <td>  -29.667</td> <td>   13.519</td>\n",
       "</tr>\n",
       "<tr>\n",
       "  <th>C(run)[T.6]</th> <td>   -3.0133</td> <td>    9.732</td> <td>   -0.310</td> <td> 0.758</td> <td>  -22.354</td> <td>   16.327</td>\n",
       "</tr>\n",
       "<tr>\n",
       "  <th>C(run)[T.7]</th> <td>    9.7634</td> <td>    8.130</td> <td>    1.201</td> <td> 0.233</td> <td>   -6.394</td> <td>   25.920</td>\n",
       "</tr>\n",
       "<tr>\n",
       "  <th>C(run)[T.8]</th> <td>   12.4534</td> <td>    8.225</td> <td>    1.514</td> <td> 0.134</td> <td>   -3.892</td> <td>   28.799</td>\n",
       "</tr>\n",
       "<tr>\n",
       "  <th>C(run)[T.9]</th> <td>   -1.1767</td> <td>    8.652</td> <td>   -0.136</td> <td> 0.892</td> <td>  -18.371</td> <td>   16.018</td>\n",
       "</tr>\n",
       "<tr>\n",
       "  <th>abs_x</th>       <td>  -16.8148</td> <td>    2.125</td> <td>   -7.912</td> <td> 0.000</td> <td>  -21.039</td> <td>  -12.591</td>\n",
       "</tr>\n",
       "<tr>\n",
       "  <th>abs_y_t</th>     <td>  -10.4079</td> <td>    1.229</td> <td>   -8.470</td> <td> 0.000</td> <td>  -12.850</td> <td>   -7.966</td>\n",
       "</tr>\n",
       "</table>\n",
       "<table class=\"simpletable\">\n",
       "<tr>\n",
       "  <th>Omnibus:</th>       <td> 3.093</td> <th>  Durbin-Watson:     </th> <td>   2.216</td>\n",
       "</tr>\n",
       "<tr>\n",
       "  <th>Prob(Omnibus):</th> <td> 0.213</td> <th>  Jarque-Bera (JB):  </th> <td>   2.671</td>\n",
       "</tr>\n",
       "<tr>\n",
       "  <th>Skew:</th>          <td>-0.397</td> <th>  Prob(JB):          </th> <td>   0.263</td>\n",
       "</tr>\n",
       "<tr>\n",
       "  <th>Kurtosis:</th>      <td> 3.102</td> <th>  Cond. No.          </th> <td>    52.6</td>\n",
       "</tr>\n",
       "</table><br/><br/>Warnings:<br/>[1] Standard Errors assume that the covariance matrix of the errors is correctly specified."
      ],
      "text/plain": [
       "<class 'statsmodels.iolib.summary.Summary'>\n",
       "\"\"\"\n",
       "                            OLS Regression Results                            \n",
       "==============================================================================\n",
       "Dep. Variable:                  votes   R-squared:                       0.901\n",
       "Model:                            OLS   Adj. R-squared:                  0.888\n",
       "Method:                 Least Squares   F-statistic:                     72.56\n",
       "Date:                Wed, 17 Jul 2019   Prob (F-statistic):           2.89e-39\n",
       "Time:                        12:14:55   Log-Likelihood:                -424.17\n",
       "No. Observations:                 100   AIC:                             872.3\n",
       "Df Residuals:                      88   BIC:                             903.6\n",
       "Df Model:                          11                                         \n",
       "Covariance Type:            nonrobust                                         \n",
       "===============================================================================\n",
       "                  coef    std err          t      P>|t|      [0.025      0.975]\n",
       "-------------------------------------------------------------------------------\n",
       "Intercept     353.5258      6.933     50.995      0.000     339.749     367.303\n",
       "C(run)[T.1]   -24.7813      9.650     -2.568      0.012     -43.958      -5.605\n",
       "C(run)[T.2]     5.1570      8.043      0.641      0.523     -10.826      21.140\n",
       "C(run)[T.3]   -29.6424     13.827     -2.144      0.035     -57.121      -2.164\n",
       "C(run)[T.4]    -2.4705      8.158     -0.303      0.763     -18.683      13.743\n",
       "C(run)[T.5]    -8.0742     10.866     -0.743      0.459     -29.667      13.519\n",
       "C(run)[T.6]    -3.0133      9.732     -0.310      0.758     -22.354      16.327\n",
       "C(run)[T.7]     9.7634      8.130      1.201      0.233      -6.394      25.920\n",
       "C(run)[T.8]    12.4534      8.225      1.514      0.134      -3.892      28.799\n",
       "C(run)[T.9]    -1.1767      8.652     -0.136      0.892     -18.371      16.018\n",
       "abs_x         -16.8148      2.125     -7.912      0.000     -21.039     -12.591\n",
       "abs_y_t       -10.4079      1.229     -8.470      0.000     -12.850      -7.966\n",
       "==============================================================================\n",
       "Omnibus:                        3.093   Durbin-Watson:                   2.216\n",
       "Prob(Omnibus):                  0.213   Jarque-Bera (JB):                2.671\n",
       "Skew:                          -0.397   Prob(JB):                        0.263\n",
       "Kurtosis:                       3.102   Cond. No.                         52.6\n",
       "==============================================================================\n",
       "\n",
       "Warnings:\n",
       "[1] Standard Errors assume that the covariance matrix of the errors is correctly specified.\n",
       "\"\"\""
      ]
     },
     "execution_count": 30,
     "metadata": {},
     "output_type": "execute_result"
    }
   ],
   "source": [
    "mlr = linreg = ols('votes ~ C(run) + abs_x + abs_y_t', data=df).fit()\n",
    "linreg.summary()"
   ]
  },
  {
   "cell_type": "code",
   "execution_count": 31,
   "metadata": {},
   "outputs": [
    {
     "data": {
      "text/html": [
       "<table class=\"simpletable\">\n",
       "<caption>OLS Regression Results</caption>\n",
       "<tr>\n",
       "  <th>Dep. Variable:</th>          <td>votes</td>      <th>  R-squared:         </th> <td>   0.788</td>\n",
       "</tr>\n",
       "<tr>\n",
       "  <th>Model:</th>                   <td>OLS</td>       <th>  Adj. R-squared:    </th> <td>   0.783</td>\n",
       "</tr>\n",
       "<tr>\n",
       "  <th>Method:</th>             <td>Least Squares</td>  <th>  F-statistic:       </th> <td>   179.9</td>\n",
       "</tr>\n",
       "<tr>\n",
       "  <th>Date:</th>             <td>Wed, 17 Jul 2019</td> <th>  Prob (F-statistic):</th> <td>2.31e-33</td>\n",
       "</tr>\n",
       "<tr>\n",
       "  <th>Time:</th>                 <td>12:14:56</td>     <th>  Log-Likelihood:    </th> <td> -462.18</td>\n",
       "</tr>\n",
       "<tr>\n",
       "  <th>No. Observations:</th>      <td>   100</td>      <th>  AIC:               </th> <td>   930.4</td>\n",
       "</tr>\n",
       "<tr>\n",
       "  <th>Df Residuals:</th>          <td>    97</td>      <th>  BIC:               </th> <td>   938.2</td>\n",
       "</tr>\n",
       "<tr>\n",
       "  <th>Df Model:</th>              <td>     2</td>      <th>                     </th>     <td> </td>   \n",
       "</tr>\n",
       "<tr>\n",
       "  <th>Covariance Type:</th>      <td>nonrobust</td>    <th>                     </th>     <td> </td>   \n",
       "</tr>\n",
       "</table>\n",
       "<table class=\"simpletable\">\n",
       "<tr>\n",
       "      <td></td>         <th>coef</th>     <th>std err</th>      <th>t</th>      <th>P>|t|</th>  <th>[0.025</th>    <th>0.975]</th>  \n",
       "</tr>\n",
       "<tr>\n",
       "  <th>Intercept</th> <td>  358.0966</td> <td>    5.244</td> <td>   68.290</td> <td> 0.000</td> <td>  347.689</td> <td>  368.504</td>\n",
       "</tr>\n",
       "<tr>\n",
       "  <th>abs_x</th>     <td>  -19.7435</td> <td>    1.200</td> <td>  -16.459</td> <td> 0.000</td> <td>  -22.124</td> <td>  -17.363</td>\n",
       "</tr>\n",
       "<tr>\n",
       "  <th>abs_y</th>     <td>   -6.4282</td> <td>    0.747</td> <td>   -8.605</td> <td> 0.000</td> <td>   -7.911</td> <td>   -4.946</td>\n",
       "</tr>\n",
       "</table>\n",
       "<table class=\"simpletable\">\n",
       "<tr>\n",
       "  <th>Omnibus:</th>       <td> 0.830</td> <th>  Durbin-Watson:     </th> <td>   1.793</td>\n",
       "</tr>\n",
       "<tr>\n",
       "  <th>Prob(Omnibus):</th> <td> 0.660</td> <th>  Jarque-Bera (JB):  </th> <td>   0.854</td>\n",
       "</tr>\n",
       "<tr>\n",
       "  <th>Skew:</th>          <td>-0.039</td> <th>  Prob(JB):          </th> <td>   0.652</td>\n",
       "</tr>\n",
       "<tr>\n",
       "  <th>Kurtosis:</th>      <td> 2.554</td> <th>  Cond. No.          </th> <td>    13.4</td>\n",
       "</tr>\n",
       "</table><br/><br/>Warnings:<br/>[1] Standard Errors assume that the covariance matrix of the errors is correctly specified."
      ],
      "text/plain": [
       "<class 'statsmodels.iolib.summary.Summary'>\n",
       "\"\"\"\n",
       "                            OLS Regression Results                            \n",
       "==============================================================================\n",
       "Dep. Variable:                  votes   R-squared:                       0.788\n",
       "Model:                            OLS   Adj. R-squared:                  0.783\n",
       "Method:                 Least Squares   F-statistic:                     179.9\n",
       "Date:                Wed, 17 Jul 2019   Prob (F-statistic):           2.31e-33\n",
       "Time:                        12:14:56   Log-Likelihood:                -462.18\n",
       "No. Observations:                 100   AIC:                             930.4\n",
       "Df Residuals:                      97   BIC:                             938.2\n",
       "Df Model:                           2                                         \n",
       "Covariance Type:            nonrobust                                         \n",
       "==============================================================================\n",
       "                 coef    std err          t      P>|t|      [0.025      0.975]\n",
       "------------------------------------------------------------------------------\n",
       "Intercept    358.0966      5.244     68.290      0.000     347.689     368.504\n",
       "abs_x        -19.7435      1.200    -16.459      0.000     -22.124     -17.363\n",
       "abs_y         -6.4282      0.747     -8.605      0.000      -7.911      -4.946\n",
       "==============================================================================\n",
       "Omnibus:                        0.830   Durbin-Watson:                   1.793\n",
       "Prob(Omnibus):                  0.660   Jarque-Bera (JB):                0.854\n",
       "Skew:                          -0.039   Prob(JB):                        0.652\n",
       "Kurtosis:                       2.554   Cond. No.                         13.4\n",
       "==============================================================================\n",
       "\n",
       "Warnings:\n",
       "[1] Standard Errors assume that the covariance matrix of the errors is correctly specified.\n",
       "\"\"\""
      ]
     },
     "execution_count": 31,
     "metadata": {},
     "output_type": "execute_result"
    }
   ],
   "source": [
    "mlr = linreg = ols('votes ~ abs_x + abs_y', data=df).fit()\n",
    "linreg.summary()"
   ]
  },
  {
   "cell_type": "code",
   "execution_count": 32,
   "metadata": {},
   "outputs": [],
   "source": [
    "data_path_random_1 = ['data/e2' + l + 'r.csv' for l in letters]"
   ]
  },
  {
   "cell_type": "code",
   "execution_count": 33,
   "metadata": {},
   "outputs": [],
   "source": [
    "dfsr = [nn.load_nl_data({'data_path':path}) for path in data_path_random_1]\n",
    "dfsr = pd.concat(dfsr)\n",
    "dfsr = pd.concat([dfsr, pd.DataFrame(dfsr['pos'].values.tolist(), columns = ['pos_x', 'pos_y'], index=dfsr.index)], axis = 1)"
   ]
  },
  {
   "cell_type": "code",
   "execution_count": 34,
   "metadata": {},
   "outputs": [
    {
     "data": {
      "text/plain": [
       "array([[<matplotlib.axes._subplots.AxesSubplot object at 0x7fc3eeee2240>],\n",
       "       [<matplotlib.axes._subplots.AxesSubplot object at 0x7fc3e989ea90>],\n",
       "       [<matplotlib.axes._subplots.AxesSubplot object at 0x7fc3e986bbe0>]],\n",
       "      dtype=object)"
      ]
     },
     "execution_count": 34,
     "metadata": {},
     "output_type": "execute_result"
    },
    {
     "data": {
      "image/png": "[encoded data removed]",
      "text/plain": [
       "<Figure size 360x1440 with 3 Axes>"
      ]
     },
     "metadata": {
      "needs_background": "light"
     },
     "output_type": "display_data"
    }
   ],
   "source": [
    "dfsr.hist(column=['votes', 'pos_x', 'pos_y'], layout=(3,1), figsize=(5,20))"
   ]
  },
  {
   "cell_type": "code",
   "execution_count": 35,
   "metadata": {},
   "outputs": [
    {
     "data": {
      "text/plain": [
       "<Figure size 432x288 with 0 Axes>"
      ]
     },
     "metadata": {},
     "output_type": "display_data"
    },
    {
     "data": {
      "image/png": "[encoded data removed]",
      "text/plain": [
       "<Figure size 432x288 with 1 Axes>"
      ]
     },
     "metadata": {
      "needs_background": "light"
     },
     "output_type": "display_data"
    }
   ],
   "source": [
    "figure, axes = plt.subplots()\n",
    "df.hist(column=['votes'],figsize=(5,5), ax=axes)\n",
    "figure.savefig('plot/ex2votes.pdf')\n",
    "figure.clear()\n",
    "figure, axes = plt.subplots()\n",
    "df.hist(column=['abs_y'],figsize=(5,5), ax=axes)\n",
    "figure.savefig('plot/ex2absy.pdf')"
   ]
  },
  {
   "cell_type": "code",
   "execution_count": null,
   "metadata": {},
   "outputs": [],
   "source": []
  }
 ],
 "metadata": {
  "kernelspec": {
   "display_name": "Python 3",
   "language": "python",
   "name": "python3"
  },
  "language_info": {
   "codemirror_mode": {
    "name": "ipython",
    "version": 3
   },
   "file_extension": ".py",
   "mimetype": "text/x-python",
   "name": "python",
   "nbconvert_exporter": "python",
   "pygments_lexer": "ipython3",
   "version": "3.7.3"
  }
 },
 "nbformat": 4,
 "nbformat_minor": 2
}
