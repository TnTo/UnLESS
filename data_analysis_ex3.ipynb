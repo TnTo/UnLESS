{
 "cells": [
  {
   "cell_type": "code",
   "execution_count": 1,
   "metadata": {},
   "outputs": [
    {
     "data": {
      "text/plain": [
       "['data/e3at.csv',\n",
       " 'data/e3bt.csv',\n",
       " 'data/e3ct.csv',\n",
       " 'data/e3dt.csv',\n",
       " 'data/e3et.csv',\n",
       " 'data/e3ft.csv',\n",
       " 'data/e3gt.csv',\n",
       " 'data/e3ht.csv',\n",
       " 'data/e3it.csv',\n",
       " 'data/e3jt.csv']"
      ]
     },
     "execution_count": 1,
     "metadata": {},
     "output_type": "execute_result"
    }
   ],
   "source": [
    "letters = ['a','b','c','d', 'e', 'f', 'g', 'h', 'i', 'j']\n",
    "data_path_1 = ['data/e3' + l + 't.csv' for l in letters]\n",
    "data_path_1"
   ]
  },
  {
   "cell_type": "code",
   "execution_count": 2,
   "metadata": {},
   "outputs": [
    {
     "name": "stderr",
     "output_type": "stream",
     "text": [
      "Using TensorFlow backend.\n",
      "WARNING: Logging before flag parsing goes to stderr.\n",
      "W0717 10:08:30.208803 140001849263744 __init__.py:308] Limited tf.compat.v2.summary API due to missing TensorBoard installation.\n"
     ]
    },
    {
     "name": "stdout",
     "output_type": "stream",
     "text": [
      "Populating the interactive namespace from numpy and matplotlib\n"
     ]
    }
   ],
   "source": [
    "import neural_network as nn\n",
    "import pandas as pd\n",
    "import matplotlib.pyplot as plt\n",
    "%pylab inline"
   ]
  },
  {
   "cell_type": "code",
   "execution_count": 3,
   "metadata": {},
   "outputs": [],
   "source": [
    "dfs = [nn.load_nl_data({'data_path':path}) for path in data_path_1]"
   ]
  },
  {
   "cell_type": "code",
   "execution_count": 4,
   "metadata": {},
   "outputs": [],
   "source": [
    "dfs = [df[df['time'] >= 489] for df in dfs]"
   ]
  },
  {
   "cell_type": "code",
   "execution_count": 5,
   "metadata": {},
   "outputs": [],
   "source": [
    "dfs = [df.drop(columns=['old_pos', 'electors_state', 'votes_state', 'next_move', 'previous_votes', 'seats', 'previous_seats']) for df in dfs]"
   ]
  },
  {
   "cell_type": "code",
   "execution_count": 6,
   "metadata": {},
   "outputs": [],
   "source": [
    "dfs = [pd.concat([df, pd.DataFrame(df['pos'].values.tolist(), columns = ['pos_x', 'pos_y'], index=df.index)], axis = 1) for df in dfs]"
   ]
  },
  {
   "cell_type": "code",
   "execution_count": 7,
   "metadata": {},
   "outputs": [],
   "source": [
    "for i in range(len(letters)):\n",
    "    dfs[i]['run'] = i"
   ]
  },
  {
   "cell_type": "code",
   "execution_count": 8,
   "metadata": {},
   "outputs": [],
   "source": [
    "df = pd.concat(dfs)"
   ]
  },
  {
   "cell_type": "code",
   "execution_count": 9,
   "metadata": {},
   "outputs": [
    {
     "data": {
      "text/html": [
       "<div>\n",
       "<style scoped>\n",
       "    .dataframe tbody tr th:only-of-type {\n",
       "        vertical-align: middle;\n",
       "    }\n",
       "\n",
       "    .dataframe tbody tr th {\n",
       "        vertical-align: top;\n",
       "    }\n",
       "\n",
       "    .dataframe thead th {\n",
       "        text-align: right;\n",
       "    }\n",
       "</style>\n",
       "<table border=\"1\" class=\"dataframe\">\n",
       "  <thead>\n",
       "    <tr style=\"text-align: right;\">\n",
       "      <th></th>\n",
       "      <th>time</th>\n",
       "      <th>agent</th>\n",
       "      <th>votes</th>\n",
       "      <th>pos_x</th>\n",
       "      <th>pos_y</th>\n",
       "      <th>run</th>\n",
       "    </tr>\n",
       "  </thead>\n",
       "  <tbody>\n",
       "    <tr>\n",
       "      <th>count</th>\n",
       "      <td>2200.000000</td>\n",
       "      <td>2200.000000</td>\n",
       "      <td>2200.000000</td>\n",
       "      <td>2200.000000</td>\n",
       "      <td>2200.000000</td>\n",
       "      <td>2200.000000</td>\n",
       "    </tr>\n",
       "    <tr>\n",
       "      <th>mean</th>\n",
       "      <td>494.000000</td>\n",
       "      <td>1151.500000</td>\n",
       "      <td>180.793182</td>\n",
       "      <td>-0.121617</td>\n",
       "      <td>0.202631</td>\n",
       "      <td>4.500000</td>\n",
       "    </tr>\n",
       "    <tr>\n",
       "      <th>std</th>\n",
       "      <td>3.162997</td>\n",
       "      <td>5.767592</td>\n",
       "      <td>50.021473</td>\n",
       "      <td>2.217587</td>\n",
       "      <td>6.767687</td>\n",
       "      <td>2.872934</td>\n",
       "    </tr>\n",
       "    <tr>\n",
       "      <th>min</th>\n",
       "      <td>489.000000</td>\n",
       "      <td>1142.000000</td>\n",
       "      <td>27.000000</td>\n",
       "      <td>-7.968253</td>\n",
       "      <td>-10.412628</td>\n",
       "      <td>0.000000</td>\n",
       "    </tr>\n",
       "    <tr>\n",
       "      <th>25%</th>\n",
       "      <td>491.000000</td>\n",
       "      <td>1146.750000</td>\n",
       "      <td>158.000000</td>\n",
       "      <td>-0.874043</td>\n",
       "      <td>-6.155651</td>\n",
       "      <td>2.000000</td>\n",
       "    </tr>\n",
       "    <tr>\n",
       "      <th>50%</th>\n",
       "      <td>494.000000</td>\n",
       "      <td>1151.500000</td>\n",
       "      <td>175.000000</td>\n",
       "      <td>-0.077612</td>\n",
       "      <td>1.980321</td>\n",
       "      <td>4.500000</td>\n",
       "    </tr>\n",
       "    <tr>\n",
       "      <th>75%</th>\n",
       "      <td>497.000000</td>\n",
       "      <td>1156.250000</td>\n",
       "      <td>198.000000</td>\n",
       "      <td>0.534883</td>\n",
       "      <td>6.241701</td>\n",
       "      <td>7.000000</td>\n",
       "    </tr>\n",
       "    <tr>\n",
       "      <th>max</th>\n",
       "      <td>499.000000</td>\n",
       "      <td>1161.000000</td>\n",
       "      <td>330.000000</td>\n",
       "      <td>10.430581</td>\n",
       "      <td>10.387082</td>\n",
       "      <td>9.000000</td>\n",
       "    </tr>\n",
       "  </tbody>\n",
       "</table>\n",
       "</div>"
      ],
      "text/plain": [
       "              time        agent        votes        pos_x        pos_y  \\\n",
       "count  2200.000000  2200.000000  2200.000000  2200.000000  2200.000000   \n",
       "mean    494.000000  1151.500000   180.793182    -0.121617     0.202631   \n",
       "std       3.162997     5.767592    50.021473     2.217587     6.767687   \n",
       "min     489.000000  1142.000000    27.000000    -7.968253   -10.412628   \n",
       "25%     491.000000  1146.750000   158.000000    -0.874043    -6.155651   \n",
       "50%     494.000000  1151.500000   175.000000    -0.077612     1.980321   \n",
       "75%     497.000000  1156.250000   198.000000     0.534883     6.241701   \n",
       "max     499.000000  1161.000000   330.000000    10.430581    10.387082   \n",
       "\n",
       "               run  \n",
       "count  2200.000000  \n",
       "mean      4.500000  \n",
       "std       2.872934  \n",
       "min       0.000000  \n",
       "25%       2.000000  \n",
       "50%       4.500000  \n",
       "75%       7.000000  \n",
       "max       9.000000  "
      ]
     },
     "execution_count": 9,
     "metadata": {},
     "output_type": "execute_result"
    }
   ],
   "source": [
    "df.describe()"
   ]
  },
  {
   "cell_type": "code",
   "execution_count": 10,
   "metadata": {},
   "outputs": [
    {
     "data": {
      "text/html": [
       "<div>\n",
       "<style scoped>\n",
       "    .dataframe tbody tr th:only-of-type {\n",
       "        vertical-align: middle;\n",
       "    }\n",
       "\n",
       "    .dataframe tbody tr th {\n",
       "        vertical-align: top;\n",
       "    }\n",
       "\n",
       "    .dataframe thead th {\n",
       "        text-align: right;\n",
       "    }\n",
       "</style>\n",
       "<table border=\"1\" class=\"dataframe\">\n",
       "  <thead>\n",
       "    <tr style=\"text-align: right;\">\n",
       "      <th></th>\n",
       "      <th>time</th>\n",
       "      <th>agent</th>\n",
       "      <th>votes</th>\n",
       "      <th>pos_x</th>\n",
       "      <th>pos_y</th>\n",
       "      <th>run</th>\n",
       "    </tr>\n",
       "  </thead>\n",
       "  <tbody>\n",
       "    <tr>\n",
       "      <th>count</th>\n",
       "      <td>200.0</td>\n",
       "      <td>200.000000</td>\n",
       "      <td>200.000000</td>\n",
       "      <td>200.000000</td>\n",
       "      <td>200.000000</td>\n",
       "      <td>200.000000</td>\n",
       "    </tr>\n",
       "    <tr>\n",
       "      <th>mean</th>\n",
       "      <td>499.0</td>\n",
       "      <td>1151.500000</td>\n",
       "      <td>180.310000</td>\n",
       "      <td>-0.089117</td>\n",
       "      <td>0.190131</td>\n",
       "      <td>4.500000</td>\n",
       "    </tr>\n",
       "    <tr>\n",
       "      <th>std</th>\n",
       "      <td>0.0</td>\n",
       "      <td>5.780751</td>\n",
       "      <td>50.322616</td>\n",
       "      <td>2.229895</td>\n",
       "      <td>6.812240</td>\n",
       "      <td>2.879489</td>\n",
       "    </tr>\n",
       "    <tr>\n",
       "      <th>min</th>\n",
       "      <td>499.0</td>\n",
       "      <td>1142.000000</td>\n",
       "      <td>29.000000</td>\n",
       "      <td>-7.469940</td>\n",
       "      <td>-10.412628</td>\n",
       "      <td>0.000000</td>\n",
       "    </tr>\n",
       "    <tr>\n",
       "      <th>25%</th>\n",
       "      <td>499.0</td>\n",
       "      <td>1146.750000</td>\n",
       "      <td>155.500000</td>\n",
       "      <td>-0.732350</td>\n",
       "      <td>-6.149330</td>\n",
       "      <td>2.000000</td>\n",
       "    </tr>\n",
       "    <tr>\n",
       "      <th>50%</th>\n",
       "      <td>499.0</td>\n",
       "      <td>1151.500000</td>\n",
       "      <td>174.000000</td>\n",
       "      <td>-0.054548</td>\n",
       "      <td>1.980321</td>\n",
       "      <td>4.500000</td>\n",
       "    </tr>\n",
       "    <tr>\n",
       "      <th>75%</th>\n",
       "      <td>499.0</td>\n",
       "      <td>1156.250000</td>\n",
       "      <td>193.500000</td>\n",
       "      <td>0.545061</td>\n",
       "      <td>6.224439</td>\n",
       "      <td>7.000000</td>\n",
       "    </tr>\n",
       "    <tr>\n",
       "      <th>max</th>\n",
       "      <td>499.0</td>\n",
       "      <td>1161.000000</td>\n",
       "      <td>325.000000</td>\n",
       "      <td>10.430581</td>\n",
       "      <td>10.387082</td>\n",
       "      <td>9.000000</td>\n",
       "    </tr>\n",
       "  </tbody>\n",
       "</table>\n",
       "</div>"
      ],
      "text/plain": [
       "        time        agent       votes       pos_x       pos_y         run\n",
       "count  200.0   200.000000  200.000000  200.000000  200.000000  200.000000\n",
       "mean   499.0  1151.500000  180.310000   -0.089117    0.190131    4.500000\n",
       "std      0.0     5.780751   50.322616    2.229895    6.812240    2.879489\n",
       "min    499.0  1142.000000   29.000000   -7.469940  -10.412628    0.000000\n",
       "25%    499.0  1146.750000  155.500000   -0.732350   -6.149330    2.000000\n",
       "50%    499.0  1151.500000  174.000000   -0.054548    1.980321    4.500000\n",
       "75%    499.0  1156.250000  193.500000    0.545061    6.224439    7.000000\n",
       "max    499.0  1161.000000  325.000000   10.430581   10.387082    9.000000"
      ]
     },
     "execution_count": 10,
     "metadata": {},
     "output_type": "execute_result"
    }
   ],
   "source": [
    "df[df['time'] == 499].describe()"
   ]
  },
  {
   "cell_type": "code",
   "execution_count": 11,
   "metadata": {},
   "outputs": [],
   "source": [
    "df = df[df['time'] == 499]"
   ]
  },
  {
   "cell_type": "code",
   "execution_count": 12,
   "metadata": {},
   "outputs": [],
   "source": [
    "df = df.drop(columns=['time','pos', 'agent'])"
   ]
  },
  {
   "cell_type": "code",
   "execution_count": 13,
   "metadata": {},
   "outputs": [],
   "source": [
    "df['abs_x'] = abs(df['pos_x'])\n",
    "df['abs_y'] = abs(df['pos_y'])"
   ]
  },
  {
   "cell_type": "code",
   "execution_count": 14,
   "metadata": {},
   "outputs": [
    {
     "data": {
      "text/plain": [
       "array([[<matplotlib.axes._subplots.AxesSubplot object at 0x7f5479726128>],\n",
       "       [<matplotlib.axes._subplots.AxesSubplot object at 0x7f547a718ef0>],\n",
       "       [<matplotlib.axes._subplots.AxesSubplot object at 0x7f54794a14e0>],\n",
       "       [<matplotlib.axes._subplots.AxesSubplot object at 0x7f54794745c0>],\n",
       "       [<matplotlib.axes._subplots.AxesSubplot object at 0x7f547a68e710>],\n",
       "       [<matplotlib.axes._subplots.AxesSubplot object at 0x7f547a6e0cc0>]],\n",
       "      dtype=object)"
      ]
     },
     "execution_count": 14,
     "metadata": {},
     "output_type": "execute_result"
    },
    {
     "data": {
      "image/png": "[encoded data removed]",
      "text/plain": [
       "<Figure size 360x1440 with 6 Axes>"
      ]
     },
     "metadata": {
      "needs_background": "light"
     },
     "output_type": "display_data"
    }
   ],
   "source": [
    "df.hist(layout=(6,1), figsize=(5,20))"
   ]
  },
  {
   "cell_type": "code",
   "execution_count": 15,
   "metadata": {},
   "outputs": [
    {
     "data": {
      "text/plain": [
       "<matplotlib.axes._subplots.AxesSubplot at 0x7f547a32e320>"
      ]
     },
     "execution_count": 15,
     "metadata": {},
     "output_type": "execute_result"
    },
    {
     "data": {
      "image/png": "[encoded data removed]",
      "text/plain": [
       "<Figure size 432x288 with 1 Axes>"
      ]
     },
     "metadata": {
      "needs_background": "light"
     },
     "output_type": "display_data"
    }
   ],
   "source": [
    "df.boxplot(column=['votes'], whis=1)"
   ]
  },
  {
   "cell_type": "code",
   "execution_count": 16,
   "metadata": {},
   "outputs": [
    {
     "data": {
      "text/plain": [
       "<matplotlib.axes._subplots.AxesSubplot at 0x7f54796da160>"
      ]
     },
     "execution_count": 16,
     "metadata": {},
     "output_type": "execute_result"
    },
    {
     "data": {
      "image/png": "[encoded data removed]",
      "text/plain": [
       "<Figure size 432x288 with 1 Axes>"
      ]
     },
     "metadata": {
      "needs_background": "light"
     },
     "output_type": "display_data"
    }
   ],
   "source": [
    "df.boxplot(column=['votes'], whis=1, by='run')"
   ]
  },
  {
   "cell_type": "code",
   "execution_count": 17,
   "metadata": {},
   "outputs": [
    {
     "data": {
      "text/plain": [
       "<matplotlib.axes._subplots.AxesSubplot at 0x7f54790b39e8>"
      ]
     },
     "execution_count": 17,
     "metadata": {},
     "output_type": "execute_result"
    },
    {
     "data": {
      "image/png": "[encoded data removed]",
      "text/plain": [
       "<Figure size 432x288 with 1 Axes>"
      ]
     },
     "metadata": {
      "needs_background": "light"
     },
     "output_type": "display_data"
    }
   ],
   "source": [
    "df.boxplot(column=['pos_x','pos_y', 'abs_x','abs_y'], whis=1)"
   ]
  },
  {
   "cell_type": "code",
   "execution_count": 18,
   "metadata": {},
   "outputs": [
    {
     "data": {
      "text/plain": [
       "<matplotlib.axes._subplots.AxesSubplot at 0x7f547a9eac18>"
      ]
     },
     "execution_count": 18,
     "metadata": {},
     "output_type": "execute_result"
    },
    {
     "data": {
      "image/png": "[encoded data removed]",
      "text/plain": [
       "<Figure size 432x288 with 2 Axes>"
      ]
     },
     "metadata": {
      "needs_background": "light"
     },
     "output_type": "display_data"
    }
   ],
   "source": [
    "df.plot.scatter(x='abs_y', y='votes', c='run', colormap='viridis')"
   ]
  },
  {
   "cell_type": "code",
   "execution_count": 19,
   "metadata": {},
   "outputs": [],
   "source": [
    "import statsmodels.api as sm\n",
    "from statsmodels.formula.api import ols"
   ]
  },
  {
   "cell_type": "code",
   "execution_count": 20,
   "metadata": {},
   "outputs": [
    {
     "data": {
      "text/html": [
       "<table class=\"simpletable\">\n",
       "<caption>OLS Regression Results</caption>\n",
       "<tr>\n",
       "  <th>Dep. Variable:</th>          <td>votes</td>      <th>  R-squared:         </th> <td>   0.047</td>\n",
       "</tr>\n",
       "<tr>\n",
       "  <th>Model:</th>                   <td>OLS</td>       <th>  Adj. R-squared:    </th> <td>   0.002</td>\n",
       "</tr>\n",
       "<tr>\n",
       "  <th>Method:</th>             <td>Least Squares</td>  <th>  F-statistic:       </th> <td>   1.038</td>\n",
       "</tr>\n",
       "<tr>\n",
       "  <th>Date:</th>             <td>Wed, 17 Jul 2019</td> <th>  Prob (F-statistic):</th>  <td> 0.411</td> \n",
       "</tr>\n",
       "<tr>\n",
       "  <th>Time:</th>                 <td>10:09:13</td>     <th>  Log-Likelihood:    </th> <td> -1062.2</td>\n",
       "</tr>\n",
       "<tr>\n",
       "  <th>No. Observations:</th>      <td>   200</td>      <th>  AIC:               </th> <td>   2144.</td>\n",
       "</tr>\n",
       "<tr>\n",
       "  <th>Df Residuals:</th>          <td>   190</td>      <th>  BIC:               </th> <td>   2177.</td>\n",
       "</tr>\n",
       "<tr>\n",
       "  <th>Df Model:</th>              <td>     9</td>      <th>                     </th>     <td> </td>   \n",
       "</tr>\n",
       "<tr>\n",
       "  <th>Covariance Type:</th>      <td>nonrobust</td>    <th>                     </th>     <td> </td>   \n",
       "</tr>\n",
       "</table>\n",
       "<table class=\"simpletable\">\n",
       "<tr>\n",
       "       <td></td>          <th>coef</th>     <th>std err</th>      <th>t</th>      <th>P>|t|</th>  <th>[0.025</th>    <th>0.975]</th>  \n",
       "</tr>\n",
       "<tr>\n",
       "  <th>Intercept</th>   <td>  191.8000</td> <td>   11.243</td> <td>   17.060</td> <td> 0.000</td> <td>  169.623</td> <td>  213.977</td>\n",
       "</tr>\n",
       "<tr>\n",
       "  <th>C(run)[T.1]</th> <td>  -33.5500</td> <td>   15.900</td> <td>   -2.110</td> <td> 0.036</td> <td>  -64.913</td> <td>   -2.187</td>\n",
       "</tr>\n",
       "<tr>\n",
       "  <th>C(run)[T.2]</th> <td>   -9.1000</td> <td>   15.900</td> <td>   -0.572</td> <td> 0.568</td> <td>  -40.463</td> <td>   22.263</td>\n",
       "</tr>\n",
       "<tr>\n",
       "  <th>C(run)[T.3]</th> <td>   -4.8500</td> <td>   15.900</td> <td>   -0.305</td> <td> 0.761</td> <td>  -36.213</td> <td>   26.513</td>\n",
       "</tr>\n",
       "<tr>\n",
       "  <th>C(run)[T.4]</th> <td>  -21.3000</td> <td>   15.900</td> <td>   -1.340</td> <td> 0.182</td> <td>  -52.663</td> <td>   10.063</td>\n",
       "</tr>\n",
       "<tr>\n",
       "  <th>C(run)[T.5]</th> <td>    3.1000</td> <td>   15.900</td> <td>    0.195</td> <td> 0.846</td> <td>  -28.263</td> <td>   34.463</td>\n",
       "</tr>\n",
       "<tr>\n",
       "  <th>C(run)[T.6]</th> <td>  -18.7500</td> <td>   15.900</td> <td>   -1.179</td> <td> 0.240</td> <td>  -50.113</td> <td>   12.613</td>\n",
       "</tr>\n",
       "<tr>\n",
       "  <th>C(run)[T.7]</th> <td>  -16.8500</td> <td>   15.900</td> <td>   -1.060</td> <td> 0.291</td> <td>  -48.213</td> <td>   14.513</td>\n",
       "</tr>\n",
       "<tr>\n",
       "  <th>C(run)[T.8]</th> <td>   -0.5500</td> <td>   15.900</td> <td>   -0.035</td> <td> 0.972</td> <td>  -31.913</td> <td>   30.813</td>\n",
       "</tr>\n",
       "<tr>\n",
       "  <th>C(run)[T.9]</th> <td>  -13.0500</td> <td>   15.900</td> <td>   -0.821</td> <td> 0.413</td> <td>  -44.413</td> <td>   18.313</td>\n",
       "</tr>\n",
       "</table>\n",
       "<table class=\"simpletable\">\n",
       "<tr>\n",
       "  <th>Omnibus:</th>       <td> 9.227</td> <th>  Durbin-Watson:     </th> <td>   1.832</td>\n",
       "</tr>\n",
       "<tr>\n",
       "  <th>Prob(Omnibus):</th> <td> 0.010</td> <th>  Jarque-Bera (JB):  </th> <td>  18.688</td>\n",
       "</tr>\n",
       "<tr>\n",
       "  <th>Skew:</th>          <td>-0.047</td> <th>  Prob(JB):          </th> <td>8.75e-05</td>\n",
       "</tr>\n",
       "<tr>\n",
       "  <th>Kurtosis:</th>      <td> 4.495</td> <th>  Cond. No.          </th> <td>    10.9</td>\n",
       "</tr>\n",
       "</table><br/><br/>Warnings:<br/>[1] Standard Errors assume that the covariance matrix of the errors is correctly specified."
      ],
      "text/plain": [
       "<class 'statsmodels.iolib.summary.Summary'>\n",
       "\"\"\"\n",
       "                            OLS Regression Results                            \n",
       "==============================================================================\n",
       "Dep. Variable:                  votes   R-squared:                       0.047\n",
       "Model:                            OLS   Adj. R-squared:                  0.002\n",
       "Method:                 Least Squares   F-statistic:                     1.038\n",
       "Date:                Wed, 17 Jul 2019   Prob (F-statistic):              0.411\n",
       "Time:                        10:09:13   Log-Likelihood:                -1062.2\n",
       "No. Observations:                 200   AIC:                             2144.\n",
       "Df Residuals:                     190   BIC:                             2177.\n",
       "Df Model:                           9                                         \n",
       "Covariance Type:            nonrobust                                         \n",
       "===============================================================================\n",
       "                  coef    std err          t      P>|t|      [0.025      0.975]\n",
       "-------------------------------------------------------------------------------\n",
       "Intercept     191.8000     11.243     17.060      0.000     169.623     213.977\n",
       "C(run)[T.1]   -33.5500     15.900     -2.110      0.036     -64.913      -2.187\n",
       "C(run)[T.2]    -9.1000     15.900     -0.572      0.568     -40.463      22.263\n",
       "C(run)[T.3]    -4.8500     15.900     -0.305      0.761     -36.213      26.513\n",
       "C(run)[T.4]   -21.3000     15.900     -1.340      0.182     -52.663      10.063\n",
       "C(run)[T.5]     3.1000     15.900      0.195      0.846     -28.263      34.463\n",
       "C(run)[T.6]   -18.7500     15.900     -1.179      0.240     -50.113      12.613\n",
       "C(run)[T.7]   -16.8500     15.900     -1.060      0.291     -48.213      14.513\n",
       "C(run)[T.8]    -0.5500     15.900     -0.035      0.972     -31.913      30.813\n",
       "C(run)[T.9]   -13.0500     15.900     -0.821      0.413     -44.413      18.313\n",
       "==============================================================================\n",
       "Omnibus:                        9.227   Durbin-Watson:                   1.832\n",
       "Prob(Omnibus):                  0.010   Jarque-Bera (JB):               18.688\n",
       "Skew:                          -0.047   Prob(JB):                     8.75e-05\n",
       "Kurtosis:                       4.495   Cond. No.                         10.9\n",
       "==============================================================================\n",
       "\n",
       "Warnings:\n",
       "[1] Standard Errors assume that the covariance matrix of the errors is correctly specified.\n",
       "\"\"\""
      ]
     },
     "execution_count": 20,
     "metadata": {},
     "output_type": "execute_result"
    }
   ],
   "source": [
    "linreg = ols('votes ~ C(run)', data=df).fit()\n",
    "linreg.summary()"
   ]
  },
  {
   "cell_type": "code",
   "execution_count": 21,
   "metadata": {},
   "outputs": [
    {
     "data": {
      "text/html": [
       "<div>\n",
       "<style scoped>\n",
       "    .dataframe tbody tr th:only-of-type {\n",
       "        vertical-align: middle;\n",
       "    }\n",
       "\n",
       "    .dataframe tbody tr th {\n",
       "        vertical-align: top;\n",
       "    }\n",
       "\n",
       "    .dataframe thead th {\n",
       "        text-align: right;\n",
       "    }\n",
       "</style>\n",
       "<table border=\"1\" class=\"dataframe\">\n",
       "  <thead>\n",
       "    <tr style=\"text-align: right;\">\n",
       "      <th></th>\n",
       "      <th>df</th>\n",
       "      <th>sum_sq</th>\n",
       "      <th>mean_sq</th>\n",
       "      <th>F</th>\n",
       "      <th>PR(&gt;F)</th>\n",
       "    </tr>\n",
       "  </thead>\n",
       "  <tbody>\n",
       "    <tr>\n",
       "      <th>C(run)</th>\n",
       "      <td>9.0</td>\n",
       "      <td>23622.48</td>\n",
       "      <td>2624.720000</td>\n",
       "      <td>1.038263</td>\n",
       "      <td>0.411088</td>\n",
       "    </tr>\n",
       "    <tr>\n",
       "      <th>Residual</th>\n",
       "      <td>190.0</td>\n",
       "      <td>480318.30</td>\n",
       "      <td>2527.991053</td>\n",
       "      <td>NaN</td>\n",
       "      <td>NaN</td>\n",
       "    </tr>\n",
       "  </tbody>\n",
       "</table>\n",
       "</div>"
      ],
      "text/plain": [
       "             df     sum_sq      mean_sq         F    PR(>F)\n",
       "C(run)      9.0   23622.48  2624.720000  1.038263  0.411088\n",
       "Residual  190.0  480318.30  2527.991053       NaN       NaN"
      ]
     },
     "execution_count": 21,
     "metadata": {},
     "output_type": "execute_result"
    }
   ],
   "source": [
    "aov_table = sm.stats.anova_lm(linreg)\n",
    "aov_table"
   ]
  },
  {
   "cell_type": "code",
   "execution_count": 22,
   "metadata": {},
   "outputs": [
    {
     "data": {
      "text/html": [
       "<table class=\"simpletable\">\n",
       "<caption>OLS Regression Results</caption>\n",
       "<tr>\n",
       "  <th>Dep. Variable:</th>          <td>abs_x</td>      <th>  R-squared:         </th> <td>   0.204</td>\n",
       "</tr>\n",
       "<tr>\n",
       "  <th>Model:</th>                   <td>OLS</td>       <th>  Adj. R-squared:    </th> <td>   0.166</td>\n",
       "</tr>\n",
       "<tr>\n",
       "  <th>Method:</th>             <td>Least Squares</td>  <th>  F-statistic:       </th> <td>   5.404</td>\n",
       "</tr>\n",
       "<tr>\n",
       "  <th>Date:</th>             <td>Wed, 17 Jul 2019</td> <th>  Prob (F-statistic):</th> <td>1.36e-06</td>\n",
       "</tr>\n",
       "<tr>\n",
       "  <th>Time:</th>                 <td>10:09:13</td>     <th>  Log-Likelihood:    </th> <td> -377.33</td>\n",
       "</tr>\n",
       "<tr>\n",
       "  <th>No. Observations:</th>      <td>   200</td>      <th>  AIC:               </th> <td>   774.7</td>\n",
       "</tr>\n",
       "<tr>\n",
       "  <th>Df Residuals:</th>          <td>   190</td>      <th>  BIC:               </th> <td>   807.6</td>\n",
       "</tr>\n",
       "<tr>\n",
       "  <th>Df Model:</th>              <td>     9</td>      <th>                     </th>     <td> </td>   \n",
       "</tr>\n",
       "<tr>\n",
       "  <th>Covariance Type:</th>      <td>nonrobust</td>    <th>                     </th>     <td> </td>   \n",
       "</tr>\n",
       "</table>\n",
       "<table class=\"simpletable\">\n",
       "<tr>\n",
       "       <td></td>          <th>coef</th>     <th>std err</th>      <th>t</th>      <th>P>|t|</th>  <th>[0.025</th>    <th>0.975]</th>  \n",
       "</tr>\n",
       "<tr>\n",
       "  <th>Intercept</th>   <td>    0.8576</td> <td>    0.366</td> <td>    2.342</td> <td> 0.020</td> <td>    0.135</td> <td>    1.580</td>\n",
       "</tr>\n",
       "<tr>\n",
       "  <th>C(run)[T.1]</th> <td>    2.2083</td> <td>    0.518</td> <td>    4.264</td> <td> 0.000</td> <td>    1.187</td> <td>    3.230</td>\n",
       "</tr>\n",
       "<tr>\n",
       "  <th>C(run)[T.2]</th> <td>    0.3889</td> <td>    0.518</td> <td>    0.751</td> <td> 0.454</td> <td>   -0.633</td> <td>    1.411</td>\n",
       "</tr>\n",
       "<tr>\n",
       "  <th>C(run)[T.3]</th> <td>    0.1403</td> <td>    0.518</td> <td>    0.271</td> <td> 0.787</td> <td>   -0.881</td> <td>    1.162</td>\n",
       "</tr>\n",
       "<tr>\n",
       "  <th>C(run)[T.4]</th> <td>    0.1784</td> <td>    0.518</td> <td>    0.345</td> <td> 0.731</td> <td>   -0.843</td> <td>    1.200</td>\n",
       "</tr>\n",
       "<tr>\n",
       "  <th>C(run)[T.5]</th> <td>    1.7913</td> <td>    0.518</td> <td>    3.459</td> <td> 0.001</td> <td>    0.770</td> <td>    2.813</td>\n",
       "</tr>\n",
       "<tr>\n",
       "  <th>C(run)[T.6]</th> <td>    0.1612</td> <td>    0.518</td> <td>    0.311</td> <td> 0.756</td> <td>   -0.860</td> <td>    1.183</td>\n",
       "</tr>\n",
       "<tr>\n",
       "  <th>C(run)[T.7]</th> <td>    0.2606</td> <td>    0.518</td> <td>    0.503</td> <td> 0.615</td> <td>   -0.761</td> <td>    1.282</td>\n",
       "</tr>\n",
       "<tr>\n",
       "  <th>C(run)[T.8]</th> <td>    0.1013</td> <td>    0.518</td> <td>    0.196</td> <td> 0.845</td> <td>   -0.920</td> <td>    1.123</td>\n",
       "</tr>\n",
       "<tr>\n",
       "  <th>C(run)[T.9]</th> <td>   -0.5591</td> <td>    0.518</td> <td>   -1.079</td> <td> 0.282</td> <td>   -1.581</td> <td>    0.463</td>\n",
       "</tr>\n",
       "</table>\n",
       "<table class=\"simpletable\">\n",
       "<tr>\n",
       "  <th>Omnibus:</th>       <td>83.547</td> <th>  Durbin-Watson:     </th> <td>   1.643</td>\n",
       "</tr>\n",
       "<tr>\n",
       "  <th>Prob(Omnibus):</th> <td> 0.000</td> <th>  Jarque-Bera (JB):  </th> <td> 260.773</td>\n",
       "</tr>\n",
       "<tr>\n",
       "  <th>Skew:</th>          <td> 1.767</td> <th>  Prob(JB):          </th> <td>2.37e-57</td>\n",
       "</tr>\n",
       "<tr>\n",
       "  <th>Kurtosis:</th>      <td> 7.336</td> <th>  Cond. No.          </th> <td>    10.9</td>\n",
       "</tr>\n",
       "</table><br/><br/>Warnings:<br/>[1] Standard Errors assume that the covariance matrix of the errors is correctly specified."
      ],
      "text/plain": [
       "<class 'statsmodels.iolib.summary.Summary'>\n",
       "\"\"\"\n",
       "                            OLS Regression Results                            \n",
       "==============================================================================\n",
       "Dep. Variable:                  abs_x   R-squared:                       0.204\n",
       "Model:                            OLS   Adj. R-squared:                  0.166\n",
       "Method:                 Least Squares   F-statistic:                     5.404\n",
       "Date:                Wed, 17 Jul 2019   Prob (F-statistic):           1.36e-06\n",
       "Time:                        10:09:13   Log-Likelihood:                -377.33\n",
       "No. Observations:                 200   AIC:                             774.7\n",
       "Df Residuals:                     190   BIC:                             807.6\n",
       "Df Model:                           9                                         \n",
       "Covariance Type:            nonrobust                                         \n",
       "===============================================================================\n",
       "                  coef    std err          t      P>|t|      [0.025      0.975]\n",
       "-------------------------------------------------------------------------------\n",
       "Intercept       0.8576      0.366      2.342      0.020       0.135       1.580\n",
       "C(run)[T.1]     2.2083      0.518      4.264      0.000       1.187       3.230\n",
       "C(run)[T.2]     0.3889      0.518      0.751      0.454      -0.633       1.411\n",
       "C(run)[T.3]     0.1403      0.518      0.271      0.787      -0.881       1.162\n",
       "C(run)[T.4]     0.1784      0.518      0.345      0.731      -0.843       1.200\n",
       "C(run)[T.5]     1.7913      0.518      3.459      0.001       0.770       2.813\n",
       "C(run)[T.6]     0.1612      0.518      0.311      0.756      -0.860       1.183\n",
       "C(run)[T.7]     0.2606      0.518      0.503      0.615      -0.761       1.282\n",
       "C(run)[T.8]     0.1013      0.518      0.196      0.845      -0.920       1.123\n",
       "C(run)[T.9]    -0.5591      0.518     -1.079      0.282      -1.581       0.463\n",
       "==============================================================================\n",
       "Omnibus:                       83.547   Durbin-Watson:                   1.643\n",
       "Prob(Omnibus):                  0.000   Jarque-Bera (JB):              260.773\n",
       "Skew:                           1.767   Prob(JB):                     2.37e-57\n",
       "Kurtosis:                       7.336   Cond. No.                         10.9\n",
       "==============================================================================\n",
       "\n",
       "Warnings:\n",
       "[1] Standard Errors assume that the covariance matrix of the errors is correctly specified.\n",
       "\"\"\""
      ]
     },
     "execution_count": 22,
     "metadata": {},
     "output_type": "execute_result"
    }
   ],
   "source": [
    "linreg = ols('abs_x ~ C(run)', data=df).fit()\n",
    "linreg.summary()"
   ]
  },
  {
   "cell_type": "code",
   "execution_count": 23,
   "metadata": {},
   "outputs": [
    {
     "data": {
      "text/html": [
       "<div>\n",
       "<style scoped>\n",
       "    .dataframe tbody tr th:only-of-type {\n",
       "        vertical-align: middle;\n",
       "    }\n",
       "\n",
       "    .dataframe tbody tr th {\n",
       "        vertical-align: top;\n",
       "    }\n",
       "\n",
       "    .dataframe thead th {\n",
       "        text-align: right;\n",
       "    }\n",
       "</style>\n",
       "<table border=\"1\" class=\"dataframe\">\n",
       "  <thead>\n",
       "    <tr style=\"text-align: right;\">\n",
       "      <th></th>\n",
       "      <th>df</th>\n",
       "      <th>sum_sq</th>\n",
       "      <th>mean_sq</th>\n",
       "      <th>F</th>\n",
       "      <th>PR(&gt;F)</th>\n",
       "    </tr>\n",
       "  </thead>\n",
       "  <tbody>\n",
       "    <tr>\n",
       "      <th>C(run)</th>\n",
       "      <td>9.0</td>\n",
       "      <td>130.452882</td>\n",
       "      <td>14.494765</td>\n",
       "      <td>5.40373</td>\n",
       "      <td>0.000001</td>\n",
       "    </tr>\n",
       "    <tr>\n",
       "      <th>Residual</th>\n",
       "      <td>190.0</td>\n",
       "      <td>509.648969</td>\n",
       "      <td>2.682363</td>\n",
       "      <td>NaN</td>\n",
       "      <td>NaN</td>\n",
       "    </tr>\n",
       "  </tbody>\n",
       "</table>\n",
       "</div>"
      ],
      "text/plain": [
       "             df      sum_sq    mean_sq        F    PR(>F)\n",
       "C(run)      9.0  130.452882  14.494765  5.40373  0.000001\n",
       "Residual  190.0  509.648969   2.682363      NaN       NaN"
      ]
     },
     "execution_count": 23,
     "metadata": {},
     "output_type": "execute_result"
    }
   ],
   "source": [
    "aov_table = sm.stats.anova_lm(linreg)\n",
    "aov_table"
   ]
  },
  {
   "cell_type": "code",
   "execution_count": 24,
   "metadata": {},
   "outputs": [
    {
     "data": {
      "text/html": [
       "<table class=\"simpletable\">\n",
       "<caption>OLS Regression Results</caption>\n",
       "<tr>\n",
       "  <th>Dep. Variable:</th>          <td>pos_x</td>      <th>  R-squared:         </th> <td>   0.052</td>\n",
       "</tr>\n",
       "<tr>\n",
       "  <th>Model:</th>                   <td>OLS</td>       <th>  Adj. R-squared:    </th> <td>   0.007</td>\n",
       "</tr>\n",
       "<tr>\n",
       "  <th>Method:</th>             <td>Least Squares</td>  <th>  F-statistic:       </th> <td>   1.148</td>\n",
       "</tr>\n",
       "<tr>\n",
       "  <th>Date:</th>             <td>Wed, 17 Jul 2019</td> <th>  Prob (F-statistic):</th>  <td> 0.331</td> \n",
       "</tr>\n",
       "<tr>\n",
       "  <th>Time:</th>                 <td>10:09:13</td>     <th>  Log-Likelihood:    </th> <td> -438.38</td>\n",
       "</tr>\n",
       "<tr>\n",
       "  <th>No. Observations:</th>      <td>   200</td>      <th>  AIC:               </th> <td>   896.8</td>\n",
       "</tr>\n",
       "<tr>\n",
       "  <th>Df Residuals:</th>          <td>   190</td>      <th>  BIC:               </th> <td>   929.7</td>\n",
       "</tr>\n",
       "<tr>\n",
       "  <th>Df Model:</th>              <td>     9</td>      <th>                     </th>     <td> </td>   \n",
       "</tr>\n",
       "<tr>\n",
       "  <th>Covariance Type:</th>      <td>nonrobust</td>    <th>                     </th>     <td> </td>   \n",
       "</tr>\n",
       "</table>\n",
       "<table class=\"simpletable\">\n",
       "<tr>\n",
       "       <td></td>          <th>coef</th>     <th>std err</th>      <th>t</th>      <th>P>|t|</th>  <th>[0.025</th>    <th>0.975]</th>  \n",
       "</tr>\n",
       "<tr>\n",
       "  <th>Intercept</th>   <td>    0.1762</td> <td>    0.497</td> <td>    0.354</td> <td> 0.723</td> <td>   -0.804</td> <td>    1.156</td>\n",
       "</tr>\n",
       "<tr>\n",
       "  <th>C(run)[T.1]</th> <td>    0.4369</td> <td>    0.703</td> <td>    0.622</td> <td> 0.535</td> <td>   -0.949</td> <td>    1.823</td>\n",
       "</tr>\n",
       "<tr>\n",
       "  <th>C(run)[T.2]</th> <td>   -0.2434</td> <td>    0.703</td> <td>   -0.346</td> <td> 0.729</td> <td>   -1.630</td> <td>    1.143</td>\n",
       "</tr>\n",
       "<tr>\n",
       "  <th>C(run)[T.3]</th> <td>    0.3217</td> <td>    0.703</td> <td>    0.458</td> <td> 0.648</td> <td>   -1.065</td> <td>    1.708</td>\n",
       "</tr>\n",
       "<tr>\n",
       "  <th>C(run)[T.4]</th> <td>   -0.0731</td> <td>    0.703</td> <td>   -0.104</td> <td> 0.917</td> <td>   -1.459</td> <td>    1.313</td>\n",
       "</tr>\n",
       "<tr>\n",
       "  <th>C(run)[T.5]</th> <td>   -1.2696</td> <td>    0.703</td> <td>   -1.806</td> <td> 0.072</td> <td>   -2.656</td> <td>    0.117</td>\n",
       "</tr>\n",
       "<tr>\n",
       "  <th>C(run)[T.6]</th> <td>   -0.6003</td> <td>    0.703</td> <td>   -0.854</td> <td> 0.394</td> <td>   -1.987</td> <td>    0.786</td>\n",
       "</tr>\n",
       "<tr>\n",
       "  <th>C(run)[T.7]</th> <td>   -0.0355</td> <td>    0.703</td> <td>   -0.050</td> <td> 0.960</td> <td>   -1.422</td> <td>    1.351</td>\n",
       "</tr>\n",
       "<tr>\n",
       "  <th>C(run)[T.8]</th> <td>   -0.9234</td> <td>    0.703</td> <td>   -1.314</td> <td> 0.190</td> <td>   -2.310</td> <td>    0.463</td>\n",
       "</tr>\n",
       "<tr>\n",
       "  <th>C(run)[T.9]</th> <td>   -0.2663</td> <td>    0.703</td> <td>   -0.379</td> <td> 0.705</td> <td>   -1.653</td> <td>    1.120</td>\n",
       "</tr>\n",
       "</table>\n",
       "<table class=\"simpletable\">\n",
       "<tr>\n",
       "  <th>Omnibus:</th>       <td>40.180</td> <th>  Durbin-Watson:     </th> <td>   1.476</td>\n",
       "</tr>\n",
       "<tr>\n",
       "  <th>Prob(Omnibus):</th> <td> 0.000</td> <th>  Jarque-Bera (JB):  </th> <td> 212.449</td>\n",
       "</tr>\n",
       "<tr>\n",
       "  <th>Skew:</th>          <td> 0.588</td> <th>  Prob(JB):          </th> <td>7.37e-47</td>\n",
       "</tr>\n",
       "<tr>\n",
       "  <th>Kurtosis:</th>      <td> 7.910</td> <th>  Cond. No.          </th> <td>    10.9</td>\n",
       "</tr>\n",
       "</table><br/><br/>Warnings:<br/>[1] Standard Errors assume that the covariance matrix of the errors is correctly specified."
      ],
      "text/plain": [
       "<class 'statsmodels.iolib.summary.Summary'>\n",
       "\"\"\"\n",
       "                            OLS Regression Results                            \n",
       "==============================================================================\n",
       "Dep. Variable:                  pos_x   R-squared:                       0.052\n",
       "Model:                            OLS   Adj. R-squared:                  0.007\n",
       "Method:                 Least Squares   F-statistic:                     1.148\n",
       "Date:                Wed, 17 Jul 2019   Prob (F-statistic):              0.331\n",
       "Time:                        10:09:13   Log-Likelihood:                -438.38\n",
       "No. Observations:                 200   AIC:                             896.8\n",
       "Df Residuals:                     190   BIC:                             929.7\n",
       "Df Model:                           9                                         \n",
       "Covariance Type:            nonrobust                                         \n",
       "===============================================================================\n",
       "                  coef    std err          t      P>|t|      [0.025      0.975]\n",
       "-------------------------------------------------------------------------------\n",
       "Intercept       0.1762      0.497      0.354      0.723      -0.804       1.156\n",
       "C(run)[T.1]     0.4369      0.703      0.622      0.535      -0.949       1.823\n",
       "C(run)[T.2]    -0.2434      0.703     -0.346      0.729      -1.630       1.143\n",
       "C(run)[T.3]     0.3217      0.703      0.458      0.648      -1.065       1.708\n",
       "C(run)[T.4]    -0.0731      0.703     -0.104      0.917      -1.459       1.313\n",
       "C(run)[T.5]    -1.2696      0.703     -1.806      0.072      -2.656       0.117\n",
       "C(run)[T.6]    -0.6003      0.703     -0.854      0.394      -1.987       0.786\n",
       "C(run)[T.7]    -0.0355      0.703     -0.050      0.960      -1.422       1.351\n",
       "C(run)[T.8]    -0.9234      0.703     -1.314      0.190      -2.310       0.463\n",
       "C(run)[T.9]    -0.2663      0.703     -0.379      0.705      -1.653       1.120\n",
       "==============================================================================\n",
       "Omnibus:                       40.180   Durbin-Watson:                   1.476\n",
       "Prob(Omnibus):                  0.000   Jarque-Bera (JB):              212.449\n",
       "Skew:                           0.588   Prob(JB):                     7.37e-47\n",
       "Kurtosis:                       7.910   Cond. No.                         10.9\n",
       "==============================================================================\n",
       "\n",
       "Warnings:\n",
       "[1] Standard Errors assume that the covariance matrix of the errors is correctly specified.\n",
       "\"\"\""
      ]
     },
     "execution_count": 24,
     "metadata": {},
     "output_type": "execute_result"
    }
   ],
   "source": [
    "linreg = ols('pos_x ~ C(run)', data=df).fit()\n",
    "linreg.summary()"
   ]
  },
  {
   "cell_type": "code",
   "execution_count": 25,
   "metadata": {},
   "outputs": [
    {
     "data": {
      "text/html": [
       "<div>\n",
       "<style scoped>\n",
       "    .dataframe tbody tr th:only-of-type {\n",
       "        vertical-align: middle;\n",
       "    }\n",
       "\n",
       "    .dataframe tbody tr th {\n",
       "        vertical-align: top;\n",
       "    }\n",
       "\n",
       "    .dataframe thead th {\n",
       "        text-align: right;\n",
       "    }\n",
       "</style>\n",
       "<table border=\"1\" class=\"dataframe\">\n",
       "  <thead>\n",
       "    <tr style=\"text-align: right;\">\n",
       "      <th></th>\n",
       "      <th>df</th>\n",
       "      <th>sum_sq</th>\n",
       "      <th>mean_sq</th>\n",
       "      <th>F</th>\n",
       "      <th>PR(&gt;F)</th>\n",
       "    </tr>\n",
       "  </thead>\n",
       "  <tbody>\n",
       "    <tr>\n",
       "      <th>C(run)</th>\n",
       "      <td>9.0</td>\n",
       "      <td>51.044320</td>\n",
       "      <td>5.671591</td>\n",
       "      <td>1.148254</td>\n",
       "      <td>0.330884</td>\n",
       "    </tr>\n",
       "    <tr>\n",
       "      <th>Residual</th>\n",
       "      <td>190.0</td>\n",
       "      <td>938.469927</td>\n",
       "      <td>4.939315</td>\n",
       "      <td>NaN</td>\n",
       "      <td>NaN</td>\n",
       "    </tr>\n",
       "  </tbody>\n",
       "</table>\n",
       "</div>"
      ],
      "text/plain": [
       "             df      sum_sq   mean_sq         F    PR(>F)\n",
       "C(run)      9.0   51.044320  5.671591  1.148254  0.330884\n",
       "Residual  190.0  938.469927  4.939315       NaN       NaN"
      ]
     },
     "execution_count": 25,
     "metadata": {},
     "output_type": "execute_result"
    }
   ],
   "source": [
    "aov_table = sm.stats.anova_lm(linreg)\n",
    "aov_table"
   ]
  },
  {
   "cell_type": "code",
   "execution_count": 26,
   "metadata": {},
   "outputs": [
    {
     "data": {
      "text/html": [
       "<table class=\"simpletable\">\n",
       "<caption>OLS Regression Results</caption>\n",
       "<tr>\n",
       "  <th>Dep. Variable:</th>          <td>votes</td>      <th>  R-squared:         </th> <td>   0.059</td>\n",
       "</tr>\n",
       "<tr>\n",
       "  <th>Model:</th>                   <td>OLS</td>       <th>  Adj. R-squared:    </th> <td>   0.004</td>\n",
       "</tr>\n",
       "<tr>\n",
       "  <th>Method:</th>             <td>Least Squares</td>  <th>  F-statistic:       </th> <td>   1.080</td>\n",
       "</tr>\n",
       "<tr>\n",
       "  <th>Date:</th>             <td>Wed, 17 Jul 2019</td> <th>  Prob (F-statistic):</th>  <td> 0.380</td> \n",
       "</tr>\n",
       "<tr>\n",
       "  <th>Time:</th>                 <td>10:09:14</td>     <th>  Log-Likelihood:    </th> <td> -1060.9</td>\n",
       "</tr>\n",
       "<tr>\n",
       "  <th>No. Observations:</th>      <td>   200</td>      <th>  AIC:               </th> <td>   2146.</td>\n",
       "</tr>\n",
       "<tr>\n",
       "  <th>Df Residuals:</th>          <td>   188</td>      <th>  BIC:               </th> <td>   2185.</td>\n",
       "</tr>\n",
       "<tr>\n",
       "  <th>Df Model:</th>              <td>    11</td>      <th>                     </th>     <td> </td>   \n",
       "</tr>\n",
       "<tr>\n",
       "  <th>Covariance Type:</th>      <td>nonrobust</td>    <th>                     </th>     <td> </td>   \n",
       "</tr>\n",
       "</table>\n",
       "<table class=\"simpletable\">\n",
       "<tr>\n",
       "       <td></td>          <th>coef</th>     <th>std err</th>      <th>t</th>      <th>P>|t|</th>  <th>[0.025</th>    <th>0.975]</th>  \n",
       "</tr>\n",
       "<tr>\n",
       "  <th>Intercept</th>   <td>  192.4630</td> <td>   11.348</td> <td>   16.960</td> <td> 0.000</td> <td>  170.077</td> <td>  214.849</td>\n",
       "</tr>\n",
       "<tr>\n",
       "  <th>C(run)[T.1]</th> <td>  -34.7329</td> <td>   15.896</td> <td>   -2.185</td> <td> 0.030</td> <td>  -66.091</td> <td>   -3.375</td>\n",
       "</tr>\n",
       "<tr>\n",
       "  <th>C(run)[T.2]</th> <td>   -8.9630</td> <td>   15.897</td> <td>   -0.564</td> <td> 0.574</td> <td>  -40.322</td> <td>   22.397</td>\n",
       "</tr>\n",
       "<tr>\n",
       "  <th>C(run)[T.3]</th> <td>   -5.7244</td> <td>   15.888</td> <td>   -0.360</td> <td> 0.719</td> <td>  -37.066</td> <td>   25.618</td>\n",
       "</tr>\n",
       "<tr>\n",
       "  <th>C(run)[T.4]</th> <td>  -24.0076</td> <td>   16.460</td> <td>   -1.459</td> <td> 0.146</td> <td>  -56.478</td> <td>    8.462</td>\n",
       "</tr>\n",
       "<tr>\n",
       "  <th>C(run)[T.5]</th> <td>    6.6565</td> <td>   16.037</td> <td>    0.415</td> <td> 0.679</td> <td>  -24.979</td> <td>   38.292</td>\n",
       "</tr>\n",
       "<tr>\n",
       "  <th>C(run)[T.6]</th> <td>  -19.1371</td> <td>   16.138</td> <td>   -1.186</td> <td> 0.237</td> <td>  -50.973</td> <td>   12.698</td>\n",
       "</tr>\n",
       "<tr>\n",
       "  <th>C(run)[T.7]</th> <td>  -17.7400</td> <td>   15.946</td> <td>   -1.113</td> <td> 0.267</td> <td>  -49.196</td> <td>   13.716</td>\n",
       "</tr>\n",
       "<tr>\n",
       "  <th>C(run)[T.8]</th> <td>    0.3278</td> <td>   16.070</td> <td>    0.020</td> <td> 0.984</td> <td>  -31.372</td> <td>   32.028</td>\n",
       "</tr>\n",
       "<tr>\n",
       "  <th>C(run)[T.9]</th> <td>  -15.3850</td> <td>   16.498</td> <td>   -0.933</td> <td> 0.352</td> <td>  -47.931</td> <td>   17.161</td>\n",
       "</tr>\n",
       "<tr>\n",
       "  <th>pos_x</th>       <td>    2.3446</td> <td>    1.639</td> <td>    1.430</td> <td> 0.154</td> <td>   -0.889</td> <td>    5.578</td>\n",
       "</tr>\n",
       "<tr>\n",
       "  <th>pos_y</th>       <td>   -0.3866</td> <td>    0.582</td> <td>   -0.664</td> <td> 0.507</td> <td>   -1.535</td> <td>    0.761</td>\n",
       "</tr>\n",
       "</table>\n",
       "<table class=\"simpletable\">\n",
       "<tr>\n",
       "  <th>Omnibus:</th>       <td> 7.655</td> <th>  Durbin-Watson:     </th> <td>   1.800</td>\n",
       "</tr>\n",
       "<tr>\n",
       "  <th>Prob(Omnibus):</th> <td> 0.022</td> <th>  Jarque-Bera (JB):  </th> <td>  13.827</td>\n",
       "</tr>\n",
       "<tr>\n",
       "  <th>Skew:</th>          <td> 0.009</td> <th>  Prob(JB):          </th> <td>0.000994</td>\n",
       "</tr>\n",
       "<tr>\n",
       "  <th>Kurtosis:</th>      <td> 4.288</td> <th>  Cond. No.          </th> <td>    71.8</td>\n",
       "</tr>\n",
       "</table><br/><br/>Warnings:<br/>[1] Standard Errors assume that the covariance matrix of the errors is correctly specified."
      ],
      "text/plain": [
       "<class 'statsmodels.iolib.summary.Summary'>\n",
       "\"\"\"\n",
       "                            OLS Regression Results                            \n",
       "==============================================================================\n",
       "Dep. Variable:                  votes   R-squared:                       0.059\n",
       "Model:                            OLS   Adj. R-squared:                  0.004\n",
       "Method:                 Least Squares   F-statistic:                     1.080\n",
       "Date:                Wed, 17 Jul 2019   Prob (F-statistic):              0.380\n",
       "Time:                        10:09:14   Log-Likelihood:                -1060.9\n",
       "No. Observations:                 200   AIC:                             2146.\n",
       "Df Residuals:                     188   BIC:                             2185.\n",
       "Df Model:                          11                                         \n",
       "Covariance Type:            nonrobust                                         \n",
       "===============================================================================\n",
       "                  coef    std err          t      P>|t|      [0.025      0.975]\n",
       "-------------------------------------------------------------------------------\n",
       "Intercept     192.4630     11.348     16.960      0.000     170.077     214.849\n",
       "C(run)[T.1]   -34.7329     15.896     -2.185      0.030     -66.091      -3.375\n",
       "C(run)[T.2]    -8.9630     15.897     -0.564      0.574     -40.322      22.397\n",
       "C(run)[T.3]    -5.7244     15.888     -0.360      0.719     -37.066      25.618\n",
       "C(run)[T.4]   -24.0076     16.460     -1.459      0.146     -56.478       8.462\n",
       "C(run)[T.5]     6.6565     16.037      0.415      0.679     -24.979      38.292\n",
       "C(run)[T.6]   -19.1371     16.138     -1.186      0.237     -50.973      12.698\n",
       "C(run)[T.7]   -17.7400     15.946     -1.113      0.267     -49.196      13.716\n",
       "C(run)[T.8]     0.3278     16.070      0.020      0.984     -31.372      32.028\n",
       "C(run)[T.9]   -15.3850     16.498     -0.933      0.352     -47.931      17.161\n",
       "pos_x           2.3446      1.639      1.430      0.154      -0.889       5.578\n",
       "pos_y          -0.3866      0.582     -0.664      0.507      -1.535       0.761\n",
       "==============================================================================\n",
       "Omnibus:                        7.655   Durbin-Watson:                   1.800\n",
       "Prob(Omnibus):                  0.022   Jarque-Bera (JB):               13.827\n",
       "Skew:                           0.009   Prob(JB):                     0.000994\n",
       "Kurtosis:                       4.288   Cond. No.                         71.8\n",
       "==============================================================================\n",
       "\n",
       "Warnings:\n",
       "[1] Standard Errors assume that the covariance matrix of the errors is correctly specified.\n",
       "\"\"\""
      ]
     },
     "execution_count": 26,
     "metadata": {},
     "output_type": "execute_result"
    }
   ],
   "source": [
    "mlr = linreg = ols('votes ~ C(run) + pos_x + pos_y', data=df).fit()\n",
    "linreg.summary()"
   ]
  },
  {
   "cell_type": "code",
   "execution_count": 27,
   "metadata": {},
   "outputs": [
    {
     "data": {
      "text/html": [
       "<table class=\"simpletable\">\n",
       "<caption>OLS Regression Results</caption>\n",
       "<tr>\n",
       "  <th>Dep. Variable:</th>          <td>votes</td>      <th>  R-squared:         </th> <td>   0.155</td>\n",
       "</tr>\n",
       "<tr>\n",
       "  <th>Model:</th>                   <td>OLS</td>       <th>  Adj. R-squared:    </th> <td>   0.106</td>\n",
       "</tr>\n",
       "<tr>\n",
       "  <th>Method:</th>             <td>Least Squares</td>  <th>  F-statistic:       </th> <td>   3.143</td>\n",
       "</tr>\n",
       "<tr>\n",
       "  <th>Date:</th>             <td>Wed, 17 Jul 2019</td> <th>  Prob (F-statistic):</th> <td>0.000638</td>\n",
       "</tr>\n",
       "<tr>\n",
       "  <th>Time:</th>                 <td>10:09:14</td>     <th>  Log-Likelihood:    </th> <td> -1050.1</td>\n",
       "</tr>\n",
       "<tr>\n",
       "  <th>No. Observations:</th>      <td>   200</td>      <th>  AIC:               </th> <td>   2124.</td>\n",
       "</tr>\n",
       "<tr>\n",
       "  <th>Df Residuals:</th>          <td>   188</td>      <th>  BIC:               </th> <td>   2164.</td>\n",
       "</tr>\n",
       "<tr>\n",
       "  <th>Df Model:</th>              <td>    11</td>      <th>                     </th>     <td> </td>   \n",
       "</tr>\n",
       "<tr>\n",
       "  <th>Covariance Type:</th>      <td>nonrobust</td>    <th>                     </th>     <td> </td>   \n",
       "</tr>\n",
       "</table>\n",
       "<table class=\"simpletable\">\n",
       "<tr>\n",
       "       <td></td>          <th>coef</th>     <th>std err</th>      <th>t</th>      <th>P>|t|</th>  <th>[0.025</th>    <th>0.975]</th>  \n",
       "</tr>\n",
       "<tr>\n",
       "  <th>Intercept</th>   <td>  233.1187</td> <td>   16.203</td> <td>   14.387</td> <td> 0.000</td> <td>  201.156</td> <td>  265.081</td>\n",
       "</tr>\n",
       "<tr>\n",
       "  <th>C(run)[T.1]</th> <td>  -12.6385</td> <td>   15.769</td> <td>   -0.801</td> <td> 0.424</td> <td>  -43.746</td> <td>   18.469</td>\n",
       "</tr>\n",
       "<tr>\n",
       "  <th>C(run)[T.2]</th> <td>    0.7901</td> <td>   15.250</td> <td>    0.052</td> <td> 0.959</td> <td>  -29.293</td> <td>   30.873</td>\n",
       "</tr>\n",
       "<tr>\n",
       "  <th>C(run)[T.3]</th> <td>   -6.2902</td> <td>   15.079</td> <td>   -0.417</td> <td> 0.677</td> <td>  -36.036</td> <td>   23.456</td>\n",
       "</tr>\n",
       "<tr>\n",
       "  <th>C(run)[T.4]</th> <td>  -17.0349</td> <td>   15.083</td> <td>   -1.129</td> <td> 0.260</td> <td>  -46.789</td> <td>   12.720</td>\n",
       "</tr>\n",
       "<tr>\n",
       "  <th>C(run)[T.5]</th> <td>   21.6173</td> <td>   15.558</td> <td>    1.389</td> <td> 0.166</td> <td>   -9.074</td> <td>   52.308</td>\n",
       "</tr>\n",
       "<tr>\n",
       "  <th>C(run)[T.6]</th> <td>  -20.6600</td> <td>   15.096</td> <td>   -1.369</td> <td> 0.173</td> <td>  -50.439</td> <td>    9.119</td>\n",
       "</tr>\n",
       "<tr>\n",
       "  <th>C(run)[T.7]</th> <td>  -16.8907</td> <td>   15.078</td> <td>   -1.120</td> <td> 0.264</td> <td>  -46.635</td> <td>   12.854</td>\n",
       "</tr>\n",
       "<tr>\n",
       "  <th>C(run)[T.8]</th> <td>   -5.1257</td> <td>   15.172</td> <td>   -0.338</td> <td> 0.736</td> <td>  -35.055</td> <td>   24.803</td>\n",
       "</tr>\n",
       "<tr>\n",
       "  <th>C(run)[T.9]</th> <td>  -20.2855</td> <td>   15.119</td> <td>   -1.342</td> <td> 0.181</td> <td>  -50.110</td> <td>    9.539</td>\n",
       "</tr>\n",
       "<tr>\n",
       "  <th>abs_x</th>       <td>   -8.3999</td> <td>    2.108</td> <td>   -3.985</td> <td> 0.000</td> <td>  -12.558</td> <td>   -4.242</td>\n",
       "</tr>\n",
       "<tr>\n",
       "  <th>abs_y</th>       <td>   -5.2229</td> <td>    1.854</td> <td>   -2.817</td> <td> 0.005</td> <td>   -8.881</td> <td>   -1.565</td>\n",
       "</tr>\n",
       "</table>\n",
       "<table class=\"simpletable\">\n",
       "<tr>\n",
       "  <th>Omnibus:</th>       <td> 5.529</td> <th>  Durbin-Watson:     </th> <td>   1.659</td>\n",
       "</tr>\n",
       "<tr>\n",
       "  <th>Prob(Omnibus):</th> <td> 0.063</td> <th>  Jarque-Bera (JB):  </th> <td>   5.181</td>\n",
       "</tr>\n",
       "<tr>\n",
       "  <th>Skew:</th>          <td> 0.340</td> <th>  Prob(JB):          </th> <td>  0.0750</td>\n",
       "</tr>\n",
       "<tr>\n",
       "  <th>Kurtosis:</th>      <td> 3.398</td> <th>  Cond. No.          </th> <td>    73.8</td>\n",
       "</tr>\n",
       "</table><br/><br/>Warnings:<br/>[1] Standard Errors assume that the covariance matrix of the errors is correctly specified."
      ],
      "text/plain": [
       "<class 'statsmodels.iolib.summary.Summary'>\n",
       "\"\"\"\n",
       "                            OLS Regression Results                            \n",
       "==============================================================================\n",
       "Dep. Variable:                  votes   R-squared:                       0.155\n",
       "Model:                            OLS   Adj. R-squared:                  0.106\n",
       "Method:                 Least Squares   F-statistic:                     3.143\n",
       "Date:                Wed, 17 Jul 2019   Prob (F-statistic):           0.000638\n",
       "Time:                        10:09:14   Log-Likelihood:                -1050.1\n",
       "No. Observations:                 200   AIC:                             2124.\n",
       "Df Residuals:                     188   BIC:                             2164.\n",
       "Df Model:                          11                                         \n",
       "Covariance Type:            nonrobust                                         \n",
       "===============================================================================\n",
       "                  coef    std err          t      P>|t|      [0.025      0.975]\n",
       "-------------------------------------------------------------------------------\n",
       "Intercept     233.1187     16.203     14.387      0.000     201.156     265.081\n",
       "C(run)[T.1]   -12.6385     15.769     -0.801      0.424     -43.746      18.469\n",
       "C(run)[T.2]     0.7901     15.250      0.052      0.959     -29.293      30.873\n",
       "C(run)[T.3]    -6.2902     15.079     -0.417      0.677     -36.036      23.456\n",
       "C(run)[T.4]   -17.0349     15.083     -1.129      0.260     -46.789      12.720\n",
       "C(run)[T.5]    21.6173     15.558      1.389      0.166      -9.074      52.308\n",
       "C(run)[T.6]   -20.6600     15.096     -1.369      0.173     -50.439       9.119\n",
       "C(run)[T.7]   -16.8907     15.078     -1.120      0.264     -46.635      12.854\n",
       "C(run)[T.8]    -5.1257     15.172     -0.338      0.736     -35.055      24.803\n",
       "C(run)[T.9]   -20.2855     15.119     -1.342      0.181     -50.110       9.539\n",
       "abs_x          -8.3999      2.108     -3.985      0.000     -12.558      -4.242\n",
       "abs_y          -5.2229      1.854     -2.817      0.005      -8.881      -1.565\n",
       "==============================================================================\n",
       "Omnibus:                        5.529   Durbin-Watson:                   1.659\n",
       "Prob(Omnibus):                  0.063   Jarque-Bera (JB):                5.181\n",
       "Skew:                           0.340   Prob(JB):                       0.0750\n",
       "Kurtosis:                       3.398   Cond. No.                         73.8\n",
       "==============================================================================\n",
       "\n",
       "Warnings:\n",
       "[1] Standard Errors assume that the covariance matrix of the errors is correctly specified.\n",
       "\"\"\""
      ]
     },
     "execution_count": 27,
     "metadata": {},
     "output_type": "execute_result"
    }
   ],
   "source": [
    "mlr = linreg = ols('votes ~ C(run) + abs_x + abs_y', data=df).fit()\n",
    "linreg.summary()"
   ]
  },
  {
   "cell_type": "code",
   "execution_count": 28,
   "metadata": {},
   "outputs": [],
   "source": [
    "df['abs_y_t'] = abs (df['abs_y'] - 3.8)"
   ]
  },
  {
   "cell_type": "code",
   "execution_count": 29,
   "metadata": {},
   "outputs": [
    {
     "data": {
      "text/plain": [
       "<matplotlib.axes._subplots.AxesSubplot at 0x7f54784349b0>"
      ]
     },
     "execution_count": 29,
     "metadata": {},
     "output_type": "execute_result"
    },
    {
     "data": {
      "image/png": "[encoded data removed]",
      "text/plain": [
       "<Figure size 432x288 with 2 Axes>"
      ]
     },
     "metadata": {
      "needs_background": "light"
     },
     "output_type": "display_data"
    }
   ],
   "source": [
    "df.plot.scatter(x='abs_y_t', y='votes', c='run', colormap='viridis')"
   ]
  },
  {
   "cell_type": "code",
   "execution_count": 30,
   "metadata": {},
   "outputs": [
    {
     "data": {
      "text/html": [
       "<table class=\"simpletable\">\n",
       "<caption>OLS Regression Results</caption>\n",
       "<tr>\n",
       "  <th>Dep. Variable:</th>          <td>votes</td>      <th>  R-squared:         </th> <td>   0.144</td>\n",
       "</tr>\n",
       "<tr>\n",
       "  <th>Model:</th>                   <td>OLS</td>       <th>  Adj. R-squared:    </th> <td>   0.094</td>\n",
       "</tr>\n",
       "<tr>\n",
       "  <th>Method:</th>             <td>Least Squares</td>  <th>  F-statistic:       </th> <td>   2.873</td>\n",
       "</tr>\n",
       "<tr>\n",
       "  <th>Date:</th>             <td>Wed, 17 Jul 2019</td> <th>  Prob (F-statistic):</th>  <td>0.00164</td>\n",
       "</tr>\n",
       "<tr>\n",
       "  <th>Time:</th>                 <td>10:09:14</td>     <th>  Log-Likelihood:    </th> <td> -1051.4</td>\n",
       "</tr>\n",
       "<tr>\n",
       "  <th>No. Observations:</th>      <td>   200</td>      <th>  AIC:               </th> <td>   2127.</td>\n",
       "</tr>\n",
       "<tr>\n",
       "  <th>Df Residuals:</th>          <td>   188</td>      <th>  BIC:               </th> <td>   2166.</td>\n",
       "</tr>\n",
       "<tr>\n",
       "  <th>Df Model:</th>              <td>    11</td>      <th>                     </th>     <td> </td>   \n",
       "</tr>\n",
       "<tr>\n",
       "  <th>Covariance Type:</th>      <td>nonrobust</td>    <th>                     </th>     <td> </td>   \n",
       "</tr>\n",
       "</table>\n",
       "<table class=\"simpletable\">\n",
       "<tr>\n",
       "       <td></td>          <th>coef</th>     <th>std err</th>      <th>t</th>      <th>P>|t|</th>  <th>[0.025</th>    <th>0.975]</th>  \n",
       "</tr>\n",
       "<tr>\n",
       "  <th>Intercept</th>   <td>  214.7001</td> <td>   12.803</td> <td>   16.769</td> <td> 0.000</td> <td>  189.443</td> <td>  239.957</td>\n",
       "</tr>\n",
       "<tr>\n",
       "  <th>C(run)[T.1]</th> <td>  -14.3228</td> <td>   15.858</td> <td>   -0.903</td> <td> 0.368</td> <td>  -45.605</td> <td>   16.960</td>\n",
       "</tr>\n",
       "<tr>\n",
       "  <th>C(run)[T.2]</th> <td>   -1.1193</td> <td>   15.306</td> <td>   -0.073</td> <td> 0.942</td> <td>  -31.313</td> <td>   29.074</td>\n",
       "</tr>\n",
       "<tr>\n",
       "  <th>C(run)[T.3]</th> <td>   -7.1198</td> <td>   15.226</td> <td>   -0.468</td> <td> 0.641</td> <td>  -37.155</td> <td>   22.915</td>\n",
       "</tr>\n",
       "<tr>\n",
       "  <th>C(run)[T.4]</th> <td>  -18.8698</td> <td>   15.158</td> <td>   -1.245</td> <td> 0.215</td> <td>  -48.772</td> <td>   11.033</td>\n",
       "</tr>\n",
       "<tr>\n",
       "  <th>C(run)[T.5]</th> <td>   20.1938</td> <td>   15.640</td> <td>    1.291</td> <td> 0.198</td> <td>  -10.658</td> <td>   51.046</td>\n",
       "</tr>\n",
       "<tr>\n",
       "  <th>C(run)[T.6]</th> <td>  -22.1370</td> <td>   15.292</td> <td>   -1.448</td> <td> 0.149</td> <td>  -52.303</td> <td>    8.029</td>\n",
       "</tr>\n",
       "<tr>\n",
       "  <th>C(run)[T.7]</th> <td>  -16.3972</td> <td>   15.178</td> <td>   -1.080</td> <td> 0.281</td> <td>  -46.338</td> <td>   13.543</td>\n",
       "</tr>\n",
       "<tr>\n",
       "  <th>C(run)[T.8]</th> <td>   -5.8456</td> <td>   15.383</td> <td>   -0.380</td> <td> 0.704</td> <td>  -36.191</td> <td>   24.500</td>\n",
       "</tr>\n",
       "<tr>\n",
       "  <th>C(run)[T.9]</th> <td>  -21.3913</td> <td>   15.275</td> <td>   -1.400</td> <td> 0.163</td> <td>  -51.523</td> <td>    8.741</td>\n",
       "</tr>\n",
       "<tr>\n",
       "  <th>abs_x</th>       <td>   -7.6707</td> <td>    2.151</td> <td>   -3.566</td> <td> 0.000</td> <td>  -11.914</td> <td>   -3.427</td>\n",
       "</tr>\n",
       "<tr>\n",
       "  <th>abs_y_t</th>     <td>   -5.3299</td> <td>    2.311</td> <td>   -2.306</td> <td> 0.022</td> <td>   -9.888</td> <td>   -0.771</td>\n",
       "</tr>\n",
       "</table>\n",
       "<table class=\"simpletable\">\n",
       "<tr>\n",
       "  <th>Omnibus:</th>       <td> 5.884</td> <th>  Durbin-Watson:     </th> <td>   1.633</td>\n",
       "</tr>\n",
       "<tr>\n",
       "  <th>Prob(Omnibus):</th> <td> 0.053</td> <th>  Jarque-Bera (JB):  </th> <td>   5.514</td>\n",
       "</tr>\n",
       "<tr>\n",
       "  <th>Skew:</th>          <td> 0.375</td> <th>  Prob(JB):          </th> <td>  0.0635</td>\n",
       "</tr>\n",
       "<tr>\n",
       "  <th>Kurtosis:</th>      <td> 3.315</td> <th>  Cond. No.          </th> <td>    40.0</td>\n",
       "</tr>\n",
       "</table><br/><br/>Warnings:<br/>[1] Standard Errors assume that the covariance matrix of the errors is correctly specified."
      ],
      "text/plain": [
       "<class 'statsmodels.iolib.summary.Summary'>\n",
       "\"\"\"\n",
       "                            OLS Regression Results                            \n",
       "==============================================================================\n",
       "Dep. Variable:                  votes   R-squared:                       0.144\n",
       "Model:                            OLS   Adj. R-squared:                  0.094\n",
       "Method:                 Least Squares   F-statistic:                     2.873\n",
       "Date:                Wed, 17 Jul 2019   Prob (F-statistic):            0.00164\n",
       "Time:                        10:09:14   Log-Likelihood:                -1051.4\n",
       "No. Observations:                 200   AIC:                             2127.\n",
       "Df Residuals:                     188   BIC:                             2166.\n",
       "Df Model:                          11                                         \n",
       "Covariance Type:            nonrobust                                         \n",
       "===============================================================================\n",
       "                  coef    std err          t      P>|t|      [0.025      0.975]\n",
       "-------------------------------------------------------------------------------\n",
       "Intercept     214.7001     12.803     16.769      0.000     189.443     239.957\n",
       "C(run)[T.1]   -14.3228     15.858     -0.903      0.368     -45.605      16.960\n",
       "C(run)[T.2]    -1.1193     15.306     -0.073      0.942     -31.313      29.074\n",
       "C(run)[T.3]    -7.1198     15.226     -0.468      0.641     -37.155      22.915\n",
       "C(run)[T.4]   -18.8698     15.158     -1.245      0.215     -48.772      11.033\n",
       "C(run)[T.5]    20.1938     15.640      1.291      0.198     -10.658      51.046\n",
       "C(run)[T.6]   -22.1370     15.292     -1.448      0.149     -52.303       8.029\n",
       "C(run)[T.7]   -16.3972     15.178     -1.080      0.281     -46.338      13.543\n",
       "C(run)[T.8]    -5.8456     15.383     -0.380      0.704     -36.191      24.500\n",
       "C(run)[T.9]   -21.3913     15.275     -1.400      0.163     -51.523       8.741\n",
       "abs_x          -7.6707      2.151     -3.566      0.000     -11.914      -3.427\n",
       "abs_y_t        -5.3299      2.311     -2.306      0.022      -9.888      -0.771\n",
       "==============================================================================\n",
       "Omnibus:                        5.884   Durbin-Watson:                   1.633\n",
       "Prob(Omnibus):                  0.053   Jarque-Bera (JB):                5.514\n",
       "Skew:                           0.375   Prob(JB):                       0.0635\n",
       "Kurtosis:                       3.315   Cond. No.                         40.0\n",
       "==============================================================================\n",
       "\n",
       "Warnings:\n",
       "[1] Standard Errors assume that the covariance matrix of the errors is correctly specified.\n",
       "\"\"\""
      ]
     },
     "execution_count": 30,
     "metadata": {},
     "output_type": "execute_result"
    }
   ],
   "source": [
    "mlr = linreg = ols('votes ~ C(run) + abs_x + abs_y_t', data=df).fit()\n",
    "linreg.summary()"
   ]
  },
  {
   "cell_type": "code",
   "execution_count": 31,
   "metadata": {},
   "outputs": [
    {
     "data": {
      "text/html": [
       "<table class=\"simpletable\">\n",
       "<caption>OLS Regression Results</caption>\n",
       "<tr>\n",
       "  <th>Dep. Variable:</th>          <td>votes</td>      <th>  R-squared:         </th> <td>   0.099</td>\n",
       "</tr>\n",
       "<tr>\n",
       "  <th>Model:</th>                   <td>OLS</td>       <th>  Adj. R-squared:    </th> <td>   0.090</td>\n",
       "</tr>\n",
       "<tr>\n",
       "  <th>Method:</th>             <td>Least Squares</td>  <th>  F-statistic:       </th> <td>   10.79</td>\n",
       "</tr>\n",
       "<tr>\n",
       "  <th>Date:</th>             <td>Wed, 17 Jul 2019</td> <th>  Prob (F-statistic):</th> <td>3.57e-05</td>\n",
       "</tr>\n",
       "<tr>\n",
       "  <th>Time:</th>                 <td>10:09:15</td>     <th>  Log-Likelihood:    </th> <td> -1056.6</td>\n",
       "</tr>\n",
       "<tr>\n",
       "  <th>No. Observations:</th>      <td>   200</td>      <th>  AIC:               </th> <td>   2119.</td>\n",
       "</tr>\n",
       "<tr>\n",
       "  <th>Df Residuals:</th>          <td>   197</td>      <th>  BIC:               </th> <td>   2129.</td>\n",
       "</tr>\n",
       "<tr>\n",
       "  <th>Df Model:</th>              <td>     2</td>      <th>                     </th>     <td> </td>   \n",
       "</tr>\n",
       "<tr>\n",
       "  <th>Covariance Type:</th>      <td>nonrobust</td>    <th>                     </th>     <td> </td>   \n",
       "</tr>\n",
       "</table>\n",
       "<table class=\"simpletable\">\n",
       "<tr>\n",
       "      <td></td>         <th>coef</th>     <th>std err</th>      <th>t</th>      <th>P>|t|</th>  <th>[0.025</th>    <th>0.975]</th>  \n",
       "</tr>\n",
       "<tr>\n",
       "  <th>Intercept</th> <td>  217.8602</td> <td>   11.994</td> <td>   18.164</td> <td> 0.000</td> <td>  194.207</td> <td>  241.513</td>\n",
       "</tr>\n",
       "<tr>\n",
       "  <th>abs_x</th>     <td>   -7.0496</td> <td>    1.906</td> <td>   -3.699</td> <td> 0.000</td> <td>  -10.808</td> <td>   -3.291</td>\n",
       "</tr>\n",
       "<tr>\n",
       "  <th>abs_y</th>     <td>   -4.3299</td> <td>    1.758</td> <td>   -2.463</td> <td> 0.015</td> <td>   -7.797</td> <td>   -0.863</td>\n",
       "</tr>\n",
       "</table>\n",
       "<table class=\"simpletable\">\n",
       "<tr>\n",
       "  <th>Omnibus:</th>       <td>17.112</td> <th>  Durbin-Watson:     </th> <td>   1.566</td>\n",
       "</tr>\n",
       "<tr>\n",
       "  <th>Prob(Omnibus):</th> <td> 0.000</td> <th>  Jarque-Bera (JB):  </th> <td>  19.109</td>\n",
       "</tr>\n",
       "<tr>\n",
       "  <th>Skew:</th>          <td> 0.747</td> <th>  Prob(JB):          </th> <td>7.09e-05</td>\n",
       "</tr>\n",
       "<tr>\n",
       "  <th>Kurtosis:</th>      <td> 3.243</td> <th>  Cond. No.          </th> <td>    25.0</td>\n",
       "</tr>\n",
       "</table><br/><br/>Warnings:<br/>[1] Standard Errors assume that the covariance matrix of the errors is correctly specified."
      ],
      "text/plain": [
       "<class 'statsmodels.iolib.summary.Summary'>\n",
       "\"\"\"\n",
       "                            OLS Regression Results                            \n",
       "==============================================================================\n",
       "Dep. Variable:                  votes   R-squared:                       0.099\n",
       "Model:                            OLS   Adj. R-squared:                  0.090\n",
       "Method:                 Least Squares   F-statistic:                     10.79\n",
       "Date:                Wed, 17 Jul 2019   Prob (F-statistic):           3.57e-05\n",
       "Time:                        10:09:15   Log-Likelihood:                -1056.6\n",
       "No. Observations:                 200   AIC:                             2119.\n",
       "Df Residuals:                     197   BIC:                             2129.\n",
       "Df Model:                           2                                         \n",
       "Covariance Type:            nonrobust                                         \n",
       "==============================================================================\n",
       "                 coef    std err          t      P>|t|      [0.025      0.975]\n",
       "------------------------------------------------------------------------------\n",
       "Intercept    217.8602     11.994     18.164      0.000     194.207     241.513\n",
       "abs_x         -7.0496      1.906     -3.699      0.000     -10.808      -3.291\n",
       "abs_y         -4.3299      1.758     -2.463      0.015      -7.797      -0.863\n",
       "==============================================================================\n",
       "Omnibus:                       17.112   Durbin-Watson:                   1.566\n",
       "Prob(Omnibus):                  0.000   Jarque-Bera (JB):               19.109\n",
       "Skew:                           0.747   Prob(JB):                     7.09e-05\n",
       "Kurtosis:                       3.243   Cond. No.                         25.0\n",
       "==============================================================================\n",
       "\n",
       "Warnings:\n",
       "[1] Standard Errors assume that the covariance matrix of the errors is correctly specified.\n",
       "\"\"\""
      ]
     },
     "execution_count": 31,
     "metadata": {},
     "output_type": "execute_result"
    }
   ],
   "source": [
    "mlr = ols('votes ~ abs_x + abs_y', data=df).fit()\n",
    "mlr.summary()"
   ]
  },
  {
   "cell_type": "code",
   "execution_count": 32,
   "metadata": {},
   "outputs": [],
   "source": [
    "data_path_random_1 = ['data/e2' + l + 'r.csv' for l in letters]"
   ]
  },
  {
   "cell_type": "code",
   "execution_count": 33,
   "metadata": {},
   "outputs": [],
   "source": [
    "dfsr = [nn.load_nl_data({'data_path':path}) for path in data_path_random_1]\n",
    "dfsr = pd.concat(dfsr)\n",
    "dfsr = pd.concat([dfsr, pd.DataFrame(dfsr['pos'].values.tolist(), columns = ['pos_x', 'pos_y'], index=dfsr.index)], axis = 1)"
   ]
  },
  {
   "cell_type": "code",
   "execution_count": 34,
   "metadata": {},
   "outputs": [
    {
     "data": {
      "text/plain": [
       "array([[<matplotlib.axes._subplots.AxesSubplot object at 0x7f547b5233c8>],\n",
       "       [<matplotlib.axes._subplots.AxesSubplot object at 0x7f5475229b70>],\n",
       "       [<matplotlib.axes._subplots.AxesSubplot object at 0x7f54751f4cc0>]],\n",
       "      dtype=object)"
      ]
     },
     "execution_count": 34,
     "metadata": {},
     "output_type": "execute_result"
    },
    {
     "data": {
      "image/png": "[encoded data removed]",
      "text/plain": [
       "<Figure size 360x1440 with 3 Axes>"
      ]
     },
     "metadata": {
      "needs_background": "light"
     },
     "output_type": "display_data"
    }
   ],
   "source": [
    "dfsr.hist(column=['votes', 'pos_x', 'pos_y'], layout=(3,1), figsize=(5,20))"
   ]
  },
  {
   "cell_type": "code",
   "execution_count": 35,
   "metadata": {},
   "outputs": [],
   "source": [
    "dfs = [df[df['time'] == 499] for df in dfs]"
   ]
  },
  {
   "cell_type": "code",
   "execution_count": 36,
   "metadata": {},
   "outputs": [],
   "source": [
    "for df in dfs:\n",
    "    df['inrun'] = df.index // 100"
   ]
  },
  {
   "cell_type": "code",
   "execution_count": 37,
   "metadata": {},
   "outputs": [],
   "source": [
    "df2 = pd.concat(dfs)"
   ]
  },
  {
   "cell_type": "code",
   "execution_count": 38,
   "metadata": {},
   "outputs": [],
   "source": [
    "df2 = df2.groupby(['inrun', 'run'])"
   ]
  },
  {
   "cell_type": "code",
   "execution_count": 39,
   "metadata": {},
   "outputs": [
    {
     "data": {
      "text/plain": [
       "<matplotlib.axes._subplots.AxesSubplot at 0x7f547830b400>"
      ]
     },
     "execution_count": 39,
     "metadata": {},
     "output_type": "execute_result"
    },
    {
     "data": {
      "image/png": "[encoded data removed]",
      "text/plain": [
       "<Figure size 432x288 with 1 Axes>"
      ]
     },
     "metadata": {
      "needs_background": "light"
     },
     "output_type": "display_data"
    }
   ],
   "source": [
    "df2.votes.sum().hist()"
   ]
  },
  {
   "cell_type": "code",
   "execution_count": 40,
   "metadata": {},
   "outputs": [
    {
     "data": {
      "text/plain": [
       "<matplotlib.axes._subplots.AxesSubplot at 0x7f54762b7e48>"
      ]
     },
     "execution_count": 40,
     "metadata": {},
     "output_type": "execute_result"
    },
    {
     "data": {
      "image/png": "[encoded data removed]",
      "text/plain": [
       "<Figure size 432x288 with 1 Axes>"
      ]
     },
     "metadata": {
      "needs_background": "light"
     },
     "output_type": "display_data"
    }
   ],
   "source": [
    "df2.pos_y.prod().hist()"
   ]
  },
  {
   "cell_type": "code",
   "execution_count": 41,
   "metadata": {},
   "outputs": [
    {
     "data": {
      "text/plain": [
       "<matplotlib.axes._subplots.AxesSubplot at 0x7f54762278d0>"
      ]
     },
     "execution_count": 41,
     "metadata": {},
     "output_type": "execute_result"
    },
    {
     "data": {
      "image/png": "[encoded data removed]",
      "text/plain": [
       "<Figure size 432x288 with 1 Axes>"
      ]
     },
     "metadata": {
      "needs_background": "light"
     },
     "output_type": "display_data"
    }
   ],
   "source": [
    "df2.pos_y.sum().hist()"
   ]
  },
  {
   "cell_type": "code",
   "execution_count": 42,
   "metadata": {},
   "outputs": [
    {
     "data": {
      "text/html": [
       "<table class=\"simpletable\">\n",
       "<caption>OLS Regression Results</caption>\n",
       "<tr>\n",
       "  <th>Dep. Variable:</th>       <td>votes.sum()</td>   <th>  R-squared:         </th> <td>   0.425</td>\n",
       "</tr>\n",
       "<tr>\n",
       "  <th>Model:</th>                   <td>OLS</td>       <th>  Adj. R-squared:    </th> <td>   0.419</td>\n",
       "</tr>\n",
       "<tr>\n",
       "  <th>Method:</th>             <td>Least Squares</td>  <th>  F-statistic:       </th> <td>   72.42</td>\n",
       "</tr>\n",
       "<tr>\n",
       "  <th>Date:</th>             <td>Wed, 17 Jul 2019</td> <th>  Prob (F-statistic):</th> <td>2.05e-13</td>\n",
       "</tr>\n",
       "<tr>\n",
       "  <th>Time:</th>                 <td>10:09:30</td>     <th>  Log-Likelihood:    </th> <td> -547.23</td>\n",
       "</tr>\n",
       "<tr>\n",
       "  <th>No. Observations:</th>      <td>   100</td>      <th>  AIC:               </th> <td>   1098.</td>\n",
       "</tr>\n",
       "<tr>\n",
       "  <th>Df Residuals:</th>          <td>    98</td>      <th>  BIC:               </th> <td>   1104.</td>\n",
       "</tr>\n",
       "<tr>\n",
       "  <th>Df Model:</th>              <td>     1</td>      <th>                     </th>     <td> </td>   \n",
       "</tr>\n",
       "<tr>\n",
       "  <th>Covariance Type:</th>      <td>nonrobust</td>    <th>                     </th>     <td> </td>   \n",
       "</tr>\n",
       "</table>\n",
       "<table class=\"simpletable\">\n",
       "<tr>\n",
       "        <td></td>          <th>coef</th>     <th>std err</th>      <th>t</th>      <th>P>|t|</th>  <th>[0.025</th>    <th>0.975]</th>  \n",
       "</tr>\n",
       "<tr>\n",
       "  <th>Intercept</th>    <td>  389.4412</td> <td>    6.732</td> <td>   57.853</td> <td> 0.000</td> <td>  376.082</td> <td>  402.800</td>\n",
       "</tr>\n",
       "<tr>\n",
       "  <th>pos_y.prod()</th> <td>   -1.1842</td> <td>    0.139</td> <td>   -8.510</td> <td> 0.000</td> <td>   -1.460</td> <td>   -0.908</td>\n",
       "</tr>\n",
       "</table>\n",
       "<table class=\"simpletable\">\n",
       "<tr>\n",
       "  <th>Omnibus:</th>       <td>25.053</td> <th>  Durbin-Watson:     </th> <td>   1.856</td>\n",
       "</tr>\n",
       "<tr>\n",
       "  <th>Prob(Omnibus):</th> <td> 0.000</td> <th>  Jarque-Bera (JB):  </th> <td> 168.546</td>\n",
       "</tr>\n",
       "<tr>\n",
       "  <th>Skew:</th>          <td>-0.392</td> <th>  Prob(JB):          </th> <td>2.52e-37</td>\n",
       "</tr>\n",
       "<tr>\n",
       "  <th>Kurtosis:</th>      <td> 9.312</td> <th>  Cond. No.          </th> <td>    56.0</td>\n",
       "</tr>\n",
       "</table><br/><br/>Warnings:<br/>[1] Standard Errors assume that the covariance matrix of the errors is correctly specified."
      ],
      "text/plain": [
       "<class 'statsmodels.iolib.summary.Summary'>\n",
       "\"\"\"\n",
       "                            OLS Regression Results                            \n",
       "==============================================================================\n",
       "Dep. Variable:            votes.sum()   R-squared:                       0.425\n",
       "Model:                            OLS   Adj. R-squared:                  0.419\n",
       "Method:                 Least Squares   F-statistic:                     72.42\n",
       "Date:                Wed, 17 Jul 2019   Prob (F-statistic):           2.05e-13\n",
       "Time:                        10:09:30   Log-Likelihood:                -547.23\n",
       "No. Observations:                 100   AIC:                             1098.\n",
       "Df Residuals:                      98   BIC:                             1104.\n",
       "Df Model:                           1                                         \n",
       "Covariance Type:            nonrobust                                         \n",
       "================================================================================\n",
       "                   coef    std err          t      P>|t|      [0.025      0.975]\n",
       "--------------------------------------------------------------------------------\n",
       "Intercept      389.4412      6.732     57.853      0.000     376.082     402.800\n",
       "pos_y.prod()    -1.1842      0.139     -8.510      0.000      -1.460      -0.908\n",
       "==============================================================================\n",
       "Omnibus:                       25.053   Durbin-Watson:                   1.856\n",
       "Prob(Omnibus):                  0.000   Jarque-Bera (JB):              168.546\n",
       "Skew:                          -0.392   Prob(JB):                     2.52e-37\n",
       "Kurtosis:                       9.312   Cond. No.                         56.0\n",
       "==============================================================================\n",
       "\n",
       "Warnings:\n",
       "[1] Standard Errors assume that the covariance matrix of the errors is correctly specified.\n",
       "\"\"\""
      ]
     },
     "execution_count": 42,
     "metadata": {},
     "output_type": "execute_result"
    }
   ],
   "source": [
    "ols('votes.sum() ~ pos_y.prod()', data=df2).fit().summary()\n"
   ]
  },
  {
   "cell_type": "code",
   "execution_count": 43,
   "metadata": {},
   "outputs": [
    {
     "data": {
      "text/plain": [
       "<matplotlib.axes._subplots.AxesSubplot at 0x7f547614b3c8>"
      ]
     },
     "execution_count": 43,
     "metadata": {},
     "output_type": "execute_result"
    },
    {
     "data": {
      "image/png": "[encoded data removed]",
      "text/plain": [
       "<Figure size 432x288 with 1 Axes>"
      ]
     },
     "metadata": {
      "needs_background": "light"
     },
     "output_type": "display_data"
    }
   ],
   "source": [
    "df3 = pd.DataFrame()\n",
    "df3['prod_y'] = df2['pos_y'].prod()\n",
    "df3['votes_tot'] = df2['votes'].sum()\n",
    "df3.plot.scatter(x='prod_y', y='votes_tot')"
   ]
  },
  {
   "cell_type": "code",
   "execution_count": 47,
   "metadata": {},
   "outputs": [
    {
     "data": {
      "text/plain": [
       "<Figure size 432x288 with 0 Axes>"
      ]
     },
     "metadata": {},
     "output_type": "display_data"
    },
    {
     "data": {
      "text/plain": [
       "<Figure size 432x288 with 0 Axes>"
      ]
     },
     "metadata": {},
     "output_type": "display_data"
    },
    {
     "data": {
      "text/plain": [
       "<Figure size 432x288 with 0 Axes>"
      ]
     },
     "metadata": {},
     "output_type": "display_data"
    },
    {
     "data": {
      "text/plain": [
       "<Figure size 504x360 with 0 Axes>"
      ]
     },
     "metadata": {},
     "output_type": "display_data"
    },
    {
     "data": {
      "text/plain": [
       "<Figure size 504x360 with 0 Axes>"
      ]
     },
     "metadata": {},
     "output_type": "display_data"
    },
    {
     "data": {
      "image/png": "[encoded data removed]",
      "text/plain": [
       "<Figure size 504x360 with 1 Axes>"
      ]
     },
     "metadata": {
      "needs_background": "light"
     },
     "output_type": "display_data"
    }
   ],
   "source": [
    "figure, axes = plt.subplots()\n",
    "df.hist(column=['votes'],figsize=(7,5), ax=axes)\n",
    "figure.savefig('plot/ex3votes.pdf')\n",
    "figure.clear()\n",
    "figure, axes = plt.subplots()\n",
    "df.hist(column=['pos_x'],figsize=(7,5), ax=axes, range=(-11,11))\n",
    "figure.savefig('plot/ex3x.pdf')\n",
    "figure.clear()\n",
    "figure, axes = plt.subplots()\n",
    "df.hist(column=['pos_y'],figsize=(7,5), ax=axes, range=(-11,11))\n",
    "figure.savefig('plot/ex3y.pdf')\n",
    "figure.clear()\n",
    "figure, axes = plt.subplots()\n",
    "df2.votes.sum().hist(figsize=(7,5), ax=axes)\n",
    "figure.savefig('plot/ex3votessum.pdf')\n",
    "figure.clear()\n",
    "figure, axes = plt.subplots()\n",
    "df2.pos_y.prod().hist(figsize=(7,5), ax=axes)\n",
    "figure.savefig('plot/ex3yprod.pdf')\n",
    "figure.clear()\n",
    "figure, axes = plt.subplots()\n",
    "df3.plot.scatter(x='prod_y', y='votes_tot', figsize=(7,5), ax=axes)\n",
    "figure.savefig('plot/ex3yvotes.pdf')"
   ]
  },
  {
   "cell_type": "code",
   "execution_count": null,
   "metadata": {},
   "outputs": [],
   "source": []
  }
 ],
 "metadata": {
  "kernelspec": {
   "display_name": "Python 3",
   "language": "python",
   "name": "python3"
  },
  "language_info": {
   "codemirror_mode": {
    "name": "ipython",
    "version": 3
   },
   "file_extension": ".py",
   "mimetype": "text/x-python",
   "name": "python",
   "nbconvert_exporter": "python",
   "pygments_lexer": "ipython3",
   "version": "3.7.3"
  }
 },
 "nbformat": 4,
 "nbformat_minor": 2
}
